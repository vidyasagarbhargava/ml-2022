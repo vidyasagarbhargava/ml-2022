{
 "cells": [
  {
   "cell_type": "markdown",
   "metadata": {},
   "source": [
    "## Functions"
   ]
  },
  {
   "cell_type": "markdown",
   "metadata": {},
   "source": []
  }
 ],
 "metadata": {
  "kernelspec": {
   "display_name": "Python 3.10.2 ('databricks')",
   "language": "python",
   "name": "python3"
  },
  "language_info": {
   "name": "python",
   "version": "3.10.2"
  },
  "orig_nbformat": 4,
  "vscode": {
   "interpreter": {
    "hash": "cd9a4283349c703bc36b99dbd270cccad3a9bb01ea9d027e376b4fc3c4f425a2"
   }
  }
 },
 "nbformat": 4,
 "nbformat_minor": 2
}
