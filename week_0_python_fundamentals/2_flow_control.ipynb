{
 "cells": [
  {
   "cell_type": "markdown",
   "id": "6b0d5f21-abd1-4fcb-971e-8bee84e13d96",
   "metadata": {},
   "source": [
    "## Control flow\n",
    "\n",
    "### if elif else statements"
   ]
  },
  {
   "cell_type": "code",
   "execution_count": 1,
   "id": "8bbb65d7-3bd5-4d3c-b7a7-815ee324249c",
   "metadata": {},
   "outputs": [
    {
     "name": "stdout",
     "output_type": "stream",
     "text": [
      "winner is deccan charges\n"
     ]
    }
   ],
   "source": [
    "ipl_season = 2\n",
    "\n",
    "if ipl_season ==  1:\n",
    "    print(\"winner is rajasthan royal\")\n",
    "elif ipl_season == 2:\n",
    "    print(\"winner is deccan charges\")\n",
    "elif ipl_season == 3:\n",
    "    print(\"winner is Chennai Superkings\")\n",
    "else:\n",
    "    print(\"winner after season 3 is not known\")"
   ]
  },
  {
   "cell_type": "code",
   "execution_count": 2,
   "id": "04a50c59-bb09-43b8-a9c5-132b863c61b9",
   "metadata": {},
   "outputs": [
    {
     "name": "stdout",
     "output_type": "stream",
     "text": [
      "There are 3 errors.\n"
     ]
    }
   ],
   "source": [
    "#if else statement for non boolean statement\n",
    "error = 3\n",
    "if error:\n",
    "    print(f\"There are {error} errors.\")\n",
    "else:\n",
    "    print(\"There are no mistakes\")"
   ]
  },
  {
   "cell_type": "code",
   "execution_count": 3,
   "id": "a9983876-5fac-4f05-8269-2968f42c5088",
   "metadata": {},
   "outputs": [
    {
     "name": "stdout",
     "output_type": "stream",
     "text": [
      "There are no mistakes\n"
     ]
    }
   ],
   "source": [
    "error = 0\n",
    "if error:\n",
    "    print(f\"There are {error} errors.\")\n",
    "else:\n",
    "    print(\"There are no mistakes\")"
   ]
  },
  {
   "cell_type": "markdown",
   "id": "da2d576d-cac9-45d7-af5b-98e855f3de54",
   "metadata": {},
   "source": [
    "**Below are the most of the built-in objects that are considered False in python:**\n",
    "\n",
    "* Constants defined to be false: None and False.  \n",
    "* Zero of any numeric type: 0, 0.0, 0j, Decimal(0), Fraction(0, 1).  \n",
    "* Empty sequences and collections: '\"\", (), [], {}, set(), range(0)  "
   ]
  },
  {
   "cell_type": "markdown",
   "id": "003c4631-0544-4b0d-ad83-9b2c429fb179",
   "metadata": {},
   "source": [
    "### Loops\n",
    "\n",
    "1. while loop\n",
    "2. for loop"
   ]
  },
  {
   "cell_type": "code",
   "execution_count": 4,
   "id": "595568ad-c907-4eb5-9631-9a94af1b89f4",
   "metadata": {},
   "outputs": [
    {
     "name": "stdout",
     "output_type": "stream",
     "text": [
      "1\n",
      "2\n",
      "3\n",
      "4\n",
      "5\n",
      "6\n",
      "7\n",
      "8\n",
      "9\n"
     ]
    }
   ],
   "source": [
    "i=1  #assigning the value\n",
    "while i<10:   #condition\n",
    "    print(i)\n",
    "    i = i+1   #increment or decrement"
   ]
  },
  {
   "cell_type": "code",
   "execution_count": 5,
   "id": "7330e15d-5dc3-4d36-93be-2ce2d502a54c",
   "metadata": {},
   "outputs": [
    {
     "name": "stdout",
     "output_type": "stream",
     "text": [
      "Vidya sagar sagar sagar sagar\n",
      "Vidya sagar sagar sagar sagar\n",
      "Vidya sagar sagar sagar sagar\n",
      "Vidya sagar sagar sagar sagar\n",
      "Vidya sagar sagar sagar sagar\n"
     ]
    }
   ],
   "source": [
    "i=1\n",
    "j=1\n",
    "while i<=5:\n",
    "    print(\"Vidya\", end=\"\")\n",
    "    j=1\n",
    "    while j<=4:\n",
    "        print(\" sagar\", end=\"\")\n",
    "        j=j+1\n",
    "    i=i+1\n",
    "    print()\n",
    "        "
   ]
  },
  {
   "cell_type": "markdown",
   "id": "8f8c4ea2-22a9-4bae-bc97-c8537c2c9116",
   "metadata": {},
   "source": [
    "#### for Loop :-\n",
    "for loop works with iterable like sequence type tuple, list or strings and non-sequence type dictionary and files."
   ]
  },
  {
   "cell_type": "code",
   "execution_count": 6,
   "id": "28f2c8e2-83a2-41b9-988e-77f88a6a4c2c",
   "metadata": {},
   "outputs": [
    {
     "name": "stdout",
     "output_type": "stream",
     "text": [
      "Vidya\n",
      "32\n",
      "Sagar\n",
      "65\n"
     ]
    }
   ],
   "source": [
    "x = ['Vidya', 32, 'Sagar', 65]\n",
    "for i in x:\n",
    "    print(i)"
   ]
  },
  {
   "cell_type": "code",
   "execution_count": 7,
   "id": "3ef17b9f-d936-46a5-9ab4-6ac3205fae65",
   "metadata": {},
   "outputs": [
    {
     "name": "stdout",
     "output_type": "stream",
     "text": [
      "['Mumbai', 'Delhi', 'London', 'Newyork']\n"
     ]
    }
   ],
   "source": [
    "#for loop to create list object\n",
    "cities = ['mumbai', 'delhi', 'london', 'newyork']\n",
    "capitalized_cities = []\n",
    "for city in cities:\n",
    "    capitalized_cities.append(city.title())\n",
    "print(capitalized_cities)"
   ]
  },
  {
   "cell_type": "code",
   "execution_count": 8,
   "id": "1ae1a92a-98b3-4239-bfd2-76bcc0836817",
   "metadata": {},
   "outputs": [
    {
     "name": "stdout",
     "output_type": "stream",
     "text": [
      "['Mumbai', 'Delhi', 'London', 'Newyork']\n"
     ]
    }
   ],
   "source": [
    "cities = ['mumbai', 'delhi', 'london', 'newyork']\n",
    "for index in range(len(cities)):\n",
    "    cities[index] = cities[index].title()\n",
    "print(cities)"
   ]
  },
  {
   "cell_type": "code",
   "execution_count": 11,
   "id": "e6548db1-96fa-4bda-a37d-f3231903f2d4",
   "metadata": {},
   "outputs": [
    {
     "name": "stdout",
     "output_type": "stream",
     "text": [
      "0 mumbai\n",
      "1 delhi\n",
      "2 london\n",
      "3 newyork\n"
     ]
    }
   ],
   "source": [
    "# for loop using enumerate\n",
    "cities = ['mumbai', 'delhi', 'london', 'newyork']\n",
    "for index, value in enumerate(cities):\n",
    "    print(index, value)\n"
   ]
  },
  {
   "cell_type": "markdown",
   "id": "a7876f62-fd2f-4260-9590-f4e6328b3610",
   "metadata": {},
   "source": [
    "> enumerate() method takes two parameters: - iterable and start(optional)"
   ]
  },
  {
   "cell_type": "code",
   "execution_count": 12,
   "id": "948cd43b-c315-43bb-afbd-bc60c41032ab",
   "metadata": {},
   "outputs": [
    {
     "name": "stdout",
     "output_type": "stream",
     "text": [
      "Hi name, and it is sagar\n",
      "Hi age, and it is 30\n",
      "Hi income, and it is 10000\n",
      "Hi home, and it is 3\n"
     ]
    }
   ],
   "source": [
    "# for loop with dictionary\n",
    "\n",
    "mydict = {'name': 'sagar', \n",
    "          'age': 30, \n",
    "          'income':10000, \n",
    "          'home': 3}\n",
    "\n",
    "for k,d in mydict.items():\n",
    "    print(f\"Hi {k}, and it is {d}\")"
   ]
  },
  {
   "cell_type": "code",
   "execution_count": 13,
   "id": "48011840-357e-4206-a0c8-e2a5acfe0eef",
   "metadata": {},
   "outputs": [
    {
     "name": "stdout",
     "output_type": "stream",
     "text": [
      "name\n",
      "age\n",
      "income\n",
      "home\n"
     ]
    }
   ],
   "source": [
    "for key in mydict.keys():\n",
    "    print(key)"
   ]
  },
  {
   "cell_type": "code",
   "execution_count": 14,
   "id": "917e70be-7e2b-488b-8fef-c0cc86f4cfa8",
   "metadata": {},
   "outputs": [
    {
     "name": "stdout",
     "output_type": "stream",
     "text": [
      "sagar\n",
      "30\n",
      "10000\n",
      "3\n"
     ]
    }
   ],
   "source": [
    "for value in mydict.values():\n",
    "    print(value)"
   ]
  },
  {
   "cell_type": "markdown",
   "id": "52d2208f-41f7-4622-a4a1-d178e609dba4",
   "metadata": {},
   "source": [
    "## Break Continue and Pass"
   ]
  },
  {
   "cell_type": "markdown",
   "id": "72b2ea24-89ae-4134-94ff-960cb6398668",
   "metadata": {},
   "source": [
    "**Break**  \n",
    "Break is use to jump out of loop\n"
   ]
  },
  {
   "cell_type": "code",
   "execution_count": 15,
   "id": "e8cc7f7d-cd05-49c4-9fba-7f545b054cb9",
   "metadata": {},
   "outputs": [
    {
     "name": "stdin",
     "output_type": "stream",
     "text": [
      "how many choco you want? 12\n"
     ]
    },
    {
     "name": "stdout",
     "output_type": "stream",
     "text": [
      "Choco\n",
      "Choco\n",
      "Choco\n",
      "Choco\n",
      "Choco\n",
      "Choco\n",
      "Choco\n",
      "Choco\n",
      "Choco\n",
      "Choco\n",
      "Out of stock\n",
      "end\n"
     ]
    }
   ],
   "source": [
    "available_choco = 10\n",
    "x = int(input(\"how many choco you want?\"))\n",
    "\n",
    "i = 1\n",
    "while i <= x:\n",
    "    if i > available_choco:\n",
    "        print(\"Out of stock\")\n",
    "        break\n",
    "    print(\"Choco\")\n",
    "    i += 1\n",
    "print(\"end\")"
   ]
  },
  {
   "cell_type": "markdown",
   "id": "56341f78-7484-4947-8f07-d18e0e1ce2b0",
   "metadata": {},
   "source": [
    "> A `for` loop have optional else block as well. The else part is executed if the items in the sequence used in for loop exhausts.The break keyword can be used to stop a for loop. In such cases, the else part is ignored.\n",
    "Hence, a for loop's else part runs if no break occurs. "
   ]
  },
  {
   "cell_type": "code",
   "execution_count": 17,
   "id": "c53324c2-2deb-4bb2-8cc8-ccff58ccf096",
   "metadata": {},
   "outputs": [
    {
     "name": "stdout",
     "output_type": "stream",
     "text": [
      "1\n",
      "2\n",
      "4\n",
      "9\n",
      "No items remaining\n"
     ]
    }
   ],
   "source": [
    "# lets take an example \n",
    "vals = [1,2,4, 9]\n",
    "for i in vals:\n",
    "    print(i)\n",
    "else:\n",
    "    print(\"No items remaining\")"
   ]
  },
  {
   "cell_type": "markdown",
   "id": "38fe64e7-8244-40de-b272-b7614ba4900e",
   "metadata": {},
   "source": [
    "This `for...else` statement can be used with the `break` keyword to run the `else` block only when the `break` keyword was not executed."
   ]
  },
  {
   "cell_type": "code",
   "execution_count": 19,
   "id": "3b25fb14-342e-4ea4-a1ae-4cc2c713b26a",
   "metadata": {},
   "outputs": [
    {
     "name": "stdout",
     "output_type": "stream",
     "text": [
      "No player with that name found!\n"
     ]
    }
   ],
   "source": [
    "player_name = 'Rohit'\n",
    "ranking = {'Virat' : 1, 'Kane' : 2 , 'SKY':5}\n",
    "\n",
    "for player in ranking:\n",
    "    if player == player_name:\n",
    "        print(ranking[player])\n",
    "        break\n",
    "else:\n",
    "    print(\"No player with that name found!\")"
   ]
  },
  {
   "cell_type": "code",
   "execution_count": 20,
   "id": "124ab707-2095-406f-a60c-5cf8b84551f6",
   "metadata": {},
   "outputs": [
    {
     "name": "stdout",
     "output_type": "stream",
     "text": [
      "2\n"
     ]
    }
   ],
   "source": [
    "player_name = 'Kane'\n",
    "ranking = {'Virat' : 1, 'Kane' : 2 , 'SKY':5}\n",
    "\n",
    "for player in ranking:\n",
    "    if player == player_name:\n",
    "        print(ranking[player])\n",
    "        break\n",
    "else:\n",
    "    print(\"No player with that name found!\")"
   ]
  },
  {
   "cell_type": "markdown",
   "id": "96f10cca-7a40-483d-aee6-a4f81b511077",
   "metadata": {},
   "source": [
    "**Continue**  \n",
    "continue use to skip the iteration and keep continue the loop"
   ]
  },
  {
   "cell_type": "code",
   "execution_count": 21,
   "id": "40676d67-6725-4f81-8fa3-710fc289b4a5",
   "metadata": {},
   "outputs": [
    {
     "name": "stdout",
     "output_type": "stream",
     "text": [
      "1\n",
      "2\n",
      "4\n",
      "5\n",
      "7\n",
      "8\n",
      "10\n",
      "11\n",
      "13\n",
      "14\n",
      "16\n",
      "17\n",
      "19\n",
      "20\n",
      "end\n"
     ]
    }
   ],
   "source": [
    "#suppose we need to print  1 to 20 but not the one which are divisible by 3\n",
    "for i in range(1,21):\n",
    "    if i%3 == 0:\n",
    "        continue\n",
    "    print(i)\n",
    "print(\"end\")"
   ]
  },
  {
   "cell_type": "markdown",
   "id": "503f5488-db6f-4774-aee4-8f02a6bcab7f",
   "metadata": {},
   "source": [
    "Difference between break and continue"
   ]
  },
  {
   "cell_type": "code",
   "execution_count": 23,
   "id": "402558eb-e0e5-452e-a6bf-bd05fbf37a81",
   "metadata": {},
   "outputs": [
    {
     "name": "stdout",
     "output_type": "stream",
     "text": [
      "Hello 0\n",
      "Hello 1\n",
      "Hello 2\n",
      "Hello 4\n"
     ]
    }
   ],
   "source": [
    "#continue \n",
    "for i in range(5):\n",
    "    if i==3:\n",
    "        continue\n",
    "    print(\"Hello\", i)"
   ]
  },
  {
   "cell_type": "code",
   "execution_count": 24,
   "id": "ef149786-38b3-4aa7-9743-4ebdfa632de7",
   "metadata": {},
   "outputs": [
    {
     "name": "stdout",
     "output_type": "stream",
     "text": [
      "Hello 0\n",
      "Hello 1\n",
      "Hello 2\n"
     ]
    }
   ],
   "source": [
    "#break\n",
    "for i in range(5):\n",
    "    if i ==3:\n",
    "        break\n",
    "    print(\"Hello\", i)"
   ]
  },
  {
   "cell_type": "markdown",
   "id": "06e882b3-6cc1-45ab-9b29-89ebdb7174b6",
   "metadata": {},
   "source": [
    "> So that means in case of break it simply comes out of loop where as in case of continue just skip condition and move to next."
   ]
  },
  {
   "cell_type": "markdown",
   "id": "ee05fcd9-70d7-4b4c-bc83-af86eedf5534",
   "metadata": {},
   "source": [
    "**Pass**  \n",
    "pass simply means there is no code simply ignore it"
   ]
  },
  {
   "cell_type": "code",
   "execution_count": 25,
   "id": "e0d7a2c7-da09-42ad-9547-6ca22cee8b14",
   "metadata": {},
   "outputs": [
    {
     "name": "stdout",
     "output_type": "stream",
     "text": [
      "2\n",
      "4\n",
      "6\n",
      "8\n",
      "10\n",
      "12\n",
      "14\n",
      "16\n",
      "18\n",
      "20\n",
      "end\n"
     ]
    }
   ],
   "source": [
    "# suppose we don't want to print the odd numbers\n",
    "for i in range(1,21):\n",
    "    if(i%2!=0):\n",
    "        pass\n",
    "    else:\n",
    "        print(i)\n",
    "print(\"end\")"
   ]
  },
  {
   "cell_type": "markdown",
   "id": "cfa118a9-aefb-4100-ba1a-0007a9ae55d7",
   "metadata": {},
   "source": [
    "## Exercise:-\n",
    "Check whether a given integer is palindrome or not ? without converting integer to string."
   ]
  },
  {
   "cell_type": "code",
   "execution_count": 42,
   "id": "b75d9362-1040-4d46-9ecd-3eccbc5a9348",
   "metadata": {},
   "outputs": [
    {
     "name": "stdout",
     "output_type": "stream",
     "text": [
      "it is a palindrome\n"
     ]
    }
   ],
   "source": [
    "x = 12321\n",
    "if x < 0:\n",
    "    print(\"not a palindrome\")\n",
    "inputnum = x\n",
    "newnum = 0\n",
    "\n",
    "while x > 0:\n",
    "    newnum = newnum*10 + x%10\n",
    "    x = x//10\n",
    "    if newnum == inputnum:\n",
    "        print(\"it is a palindrome\")"
   ]
  },
  {
   "cell_type": "code",
   "execution_count": 45,
   "id": "1a91cce2-89b2-471a-8f5e-5916b8e7a79d",
   "metadata": {},
   "outputs": [
    {
     "name": "stdout",
     "output_type": "stream",
     "text": [
      "not a palindrome\n"
     ]
    }
   ],
   "source": [
    "x = 1234\n",
    "\n",
    "inputnum = x\n",
    "newnum = 0\n",
    "\n",
    "while x > 0:\n",
    "    newnum = newnum*10 + x%10\n",
    "    x = x//10\n",
    "\n",
    "if newnum == inputnum:\n",
    "    print(\"it is a palindrome\")\n",
    "else:\n",
    "    print(\"not a palindrome\")"
   ]
  }
 ],
 "metadata": {
  "kernelspec": {
   "display_name": "databricks",
   "language": "python",
   "name": "databricks"
  },
  "language_info": {
   "codemirror_mode": {
    "name": "ipython",
    "version": 3
   },
   "file_extension": ".py",
   "mimetype": "text/x-python",
   "name": "python",
   "nbconvert_exporter": "python",
   "pygments_lexer": "ipython3",
   "version": "3.10.2"
  }
 },
 "nbformat": 4,
 "nbformat_minor": 5
}
