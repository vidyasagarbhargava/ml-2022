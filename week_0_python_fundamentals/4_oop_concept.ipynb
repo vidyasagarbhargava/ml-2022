{
 "cells": [
  {
   "cell_type": "markdown",
   "id": "b2f7b0fa-0709-4355-8811-b422905d7cbb",
   "metadata": {},
   "source": [
    "## Object Oriented Programming in Python\n",
    "\n",
    "* Main principles\n",
    "* Static class and method\n",
    "* Super Keyword\n",
    "* Abstract class"
   ]
  },
  {
   "cell_type": "markdown",
   "id": "6b3478d1-f3f7-49db-a453-e524e4fd88d8",
   "metadata": {},
   "source": [
    "#### Main Principles of OOP\n",
    "* Encapsulation\n",
    "* Abstraction\n",
    "* Inheritance\n",
    "* Polymorphism"
   ]
  },
  {
   "cell_type": "markdown",
   "id": "a833a5a7-a9e4-40d5-b246-e26a31a33bb4",
   "metadata": {},
   "source": [
    "A class contains following members :\n",
    "1. Constructor\n",
    "2. Instance Attribute(variable)\n",
    "3. Class Attribute(variable)\n",
    "4. Methods"
   ]
  },
  {
   "cell_type": "code",
   "execution_count": 7,
   "id": "5aaaa39e-28ee-44f5-b679-eb9a553697b5",
   "metadata": {},
   "outputs": [],
   "source": [
    "class Person:\n",
    "    count = 5  #class attribute\n",
    "    \n",
    "    def __init__(self, name, age): \n",
    "        self.name = name #instance attribute\n",
    "        self.age = age\n",
    "        \n",
    "        \n",
    "    def display_info(self): #method\n",
    "        print(f\"The name is {self.name} and age is {self.age}.\") \n"
   ]
  },
  {
   "cell_type": "code",
   "execution_count": 8,
   "id": "4d8573b3-ab3f-4c9c-a90e-1443ab96d603",
   "metadata": {},
   "outputs": [
    {
     "name": "stdout",
     "output_type": "stream",
     "text": [
      "The name is Tom and age is 23.\n"
     ]
    }
   ],
   "source": [
    "p1 = Person(\"Tom\", 23) #constructor\n",
    "p1.display_info()"
   ]
  },
  {
   "cell_type": "code",
   "execution_count": 9,
   "id": "be767018-ba4b-4e98-b760-97994d394e72",
   "metadata": {},
   "outputs": [
    {
     "name": "stdout",
     "output_type": "stream",
     "text": [
      "The name is Steve and age is 30.\n"
     ]
    }
   ],
   "source": [
    "p2 = Person(\"Steve\", 30)\n",
    "p2.display_info()"
   ]
  },
  {
   "cell_type": "markdown",
   "id": "b6c69494-ce7b-4cdc-b9e1-5daf6e2776b0",
   "metadata": {},
   "source": [
    "> Every time you create an object it is allocated a new space in heap memory."
   ]
  },
  {
   "cell_type": "code",
   "execution_count": 10,
   "id": "8f448f82-d6f1-488a-b22f-11caf4b2d234",
   "metadata": {},
   "outputs": [
    {
     "data": {
      "text/plain": [
       "140498709301280"
      ]
     },
     "execution_count": 10,
     "metadata": {},
     "output_type": "execute_result"
    }
   ],
   "source": [
    "id(p1)"
   ]
  },
  {
   "cell_type": "markdown",
   "id": "733dc5e8-1dc4-4eb2-8711-24a673f26645",
   "metadata": {},
   "source": [
    "This is the address."
   ]
  },
  {
   "cell_type": "markdown",
   "id": "347c65da-a0b0-4cec-9bf2-308746d5e45c",
   "metadata": {},
   "source": [
    "Now question is who decides the size of an object? and who allocatd size of to object ? \n",
    "* size of object depends on the no. of variables we have.\n",
    "* The constructor allocates the memory.\n",
    "\n",
    "> So whenever you create a constructor it calls  `__init__` method for you.\n",
    "\n",
    "`self` is like a pointer which directs either on p1 or p2 based on what you are calling. "
   ]
  },
  {
   "cell_type": "markdown",
   "id": "43a881b2-5d75-4aeb-9602-d63d84e646b3",
   "metadata": {},
   "source": [
    "### Types of Variable\n",
    "\n",
    "* Instance Variable :-- Different for different objects\n",
    "* Class Variable (Static Variable) :-- common for all the objects"
   ]
  },
  {
   "cell_type": "code",
   "execution_count": 14,
   "id": "f4dda3e1-9361-47ef-a534-810a83755ef2",
   "metadata": {},
   "outputs": [
    {
     "name": "stdout",
     "output_type": "stream",
     "text": [
      "BMW 8 4\n",
      "BMW 10 4\n"
     ]
    }
   ],
   "source": [
    "class Car:\n",
    "    \n",
    "    wheels = 4\n",
    "    def __init__(self):\n",
    "        self.mil = 10    # instance variable\n",
    "        self.com = \"BMW\" \n",
    "        \n",
    "\n",
    "c1 = Car()\n",
    "c2 = Car()\n",
    "\n",
    "c1.mil = 8\n",
    "\n",
    "\n",
    "print(c1.com, c1.mil, Car.wheels)\n",
    "print(c2.com, c2.mil, Car.wheels)"
   ]
  },
  {
   "cell_type": "markdown",
   "id": "9a6ce98e-dda9-42d9-b496-bb891e0bc5e8",
   "metadata": {},
   "source": [
    "> You can call class or static variable either with class name or object name"
   ]
  },
  {
   "cell_type": "markdown",
   "id": "4024b047-0de9-473d-86ed-264bdbbe352a",
   "metadata": {},
   "source": [
    "## Types of Methods\n",
    "\n",
    "* instance methods\n",
    "* class methods\n",
    "* static methods"
   ]
  },
  {
   "cell_type": "code",
   "execution_count": 17,
   "id": "d042269f-54b8-4562-9eb0-32e08f66f36c",
   "metadata": {},
   "outputs": [
    {
     "name": "stdout",
     "output_type": "stream",
     "text": [
      "61.0\n",
      "40.0\n"
     ]
    }
   ],
   "source": [
    "class Student:\n",
    "    \n",
    "    school = 'Stanford'\n",
    "    \n",
    "    def __init__(self, m1, m2, m3):\n",
    "        self.m1 = m1\n",
    "        self.m2 = m2\n",
    "        self.m3 = m3\n",
    "        \n",
    "    def average(self): #instance method\n",
    "        return (self.m1 + self.m2 + self.m3)/3\n",
    "    \n",
    "s1 = Student(44, 57, 82)\n",
    "s2 = Student(19, 23, 78)\n",
    "\n",
    "\n",
    "print(s1.average())\n",
    "print(s2.average())"
   ]
  },
  {
   "cell_type": "markdown",
   "id": "32546f4c-34e2-4932-a7c3-65f417369e0b",
   "metadata": {},
   "source": [
    "### Instance method"
   ]
  },
  {
   "cell_type": "markdown",
   "id": "de0bb5d7-aaec-4b14-8b29-f2157af66516",
   "metadata": {},
   "source": [
    "In instance method we have two different types :\n",
    "* Accessor :- For fetching the value\n",
    "* Mutator  :- For modifying the value"
   ]
  },
  {
   "cell_type": "code",
   "execution_count": 25,
   "id": "0ba33d19-49da-4f33-9e03-914f3b2b3bd5",
   "metadata": {},
   "outputs": [
    {
     "name": "stdout",
     "output_type": "stream",
     "text": [
      "61.0\n",
      "40.0\n",
      "44\n",
      "58.0\n"
     ]
    }
   ],
   "source": [
    "class Student:\n",
    "    \n",
    "    school = 'Stanford'\n",
    "    \n",
    "    def __init__(self, m1, m2, m3):\n",
    "        self.m1 = m1\n",
    "        self.m2 = m2\n",
    "        self.m3 = m3\n",
    "        \n",
    "    def average(self): #instance method\n",
    "        return (self.m1 + self.m2 + self.m3)/3\n",
    "    \n",
    "    def get_m1(self):  #Accessor method\n",
    "        return self.m1\n",
    "    \n",
    "    def set_m1(self, value):  # Mutator method\n",
    "        self.m1 = value\n",
    "    \n",
    "s1 = Student(44, 57, 82)\n",
    "s2 = Student(19, 23, 78)\n",
    "\n",
    "\n",
    "\n",
    "print(s1.average())\n",
    "print(s2.average())\n",
    "print(s1.get_m1())\n",
    "s1.set_m1(35)\n",
    "print(s1.average())"
   ]
  },
  {
   "cell_type": "markdown",
   "id": "40b8017f-46a6-49d6-a415-6ef99f0cc696",
   "metadata": {},
   "source": [
    "### class method"
   ]
  },
  {
   "cell_type": "code",
   "execution_count": 27,
   "id": "a15f3139-71f5-425c-935a-99ae64873c17",
   "metadata": {},
   "outputs": [
    {
     "name": "stdout",
     "output_type": "stream",
     "text": [
      "61.0\n"
     ]
    },
    {
     "ename": "TypeError",
     "evalue": "info() missing 1 required positional argument: 'cls'",
     "output_type": "error",
     "traceback": [
      "\u001b[0;31m---------------------------------------------------------------------------\u001b[0m",
      "\u001b[0;31mTypeError\u001b[0m                                 Traceback (most recent call last)",
      "Input \u001b[0;32mIn [27]\u001b[0m, in \u001b[0;36m<cell line: 20>\u001b[0;34m()\u001b[0m\n\u001b[1;32m     17\u001b[0m s2 \u001b[38;5;241m=\u001b[39m Student(\u001b[38;5;241m19\u001b[39m, \u001b[38;5;241m23\u001b[39m, \u001b[38;5;241m78\u001b[39m)\n\u001b[1;32m     19\u001b[0m \u001b[38;5;28mprint\u001b[39m(s1\u001b[38;5;241m.\u001b[39maverage())\n\u001b[0;32m---> 20\u001b[0m \u001b[38;5;28mprint\u001b[39m(\u001b[43mStudent\u001b[49m\u001b[38;5;241;43m.\u001b[39;49m\u001b[43minfo\u001b[49m\u001b[43m(\u001b[49m\u001b[43m)\u001b[49m)\n",
      "\u001b[0;31mTypeError\u001b[0m: info() missing 1 required positional argument: 'cls'"
     ]
    }
   ],
   "source": [
    "class Student:\n",
    "    \n",
    "    school = 'Stanford'\n",
    "    \n",
    "    def __init__(self, m1, m2, m3):\n",
    "        self.m1 = m1\n",
    "        self.m2 = m2\n",
    "        self.m3 = m3\n",
    "        \n",
    "    def average(self): #instance method\n",
    "        return (self.m1 + self.m2 + self.m3)/3\n",
    "    \n",
    "    def info(cls):\n",
    "        return cls.school\n",
    "\n",
    "s1 = Student(44, 57, 82)\n",
    "s2 = Student(19, 23, 78)\n",
    "\n",
    "print(s1.average())\n",
    "print(Student.info())"
   ]
  },
  {
   "cell_type": "markdown",
   "id": "9dd205c3-14fb-415e-a95d-d0ac05b4232f",
   "metadata": {},
   "source": [
    "> We have to use decorator `@classmethod`"
   ]
  },
  {
   "cell_type": "code",
   "execution_count": 29,
   "id": "50f3cc27-7e3d-4670-8b8a-1992f148f915",
   "metadata": {},
   "outputs": [
    {
     "name": "stdout",
     "output_type": "stream",
     "text": [
      "61.0\n",
      "Stanford\n"
     ]
    }
   ],
   "source": [
    "class Student:\n",
    "    \n",
    "    school = 'Stanford'\n",
    "    \n",
    "    def __init__(self, m1, m2, m3):\n",
    "        self.m1 = m1\n",
    "        self.m2 = m2\n",
    "        self.m3 = m3\n",
    "        \n",
    "    def average(self): #instance method\n",
    "        return (self.m1 + self.m2 + self.m3)/3\n",
    "    \n",
    "    @classmethod\n",
    "    def getSchool(cls):\n",
    "        return cls.school\n",
    "\n",
    "s1 = Student(44, 57, 82)\n",
    "s2 = Student(19, 23, 78)\n",
    "\n",
    "print(s1.average())\n",
    "print(Student.getSchool())"
   ]
  },
  {
   "cell_type": "markdown",
   "id": "bb412bfb-1fee-43d8-92be-b3ff39703daf",
   "metadata": {},
   "source": [
    "### Static Method\n",
    "\n",
    "A method nothing to do with class and instance variable. It is helpful when you want to have any operation on any other class object."
   ]
  },
  {
   "cell_type": "code",
   "execution_count": 6,
   "id": "1e7d6f8d-a793-4e47-873d-a488ecc9a6f3",
   "metadata": {},
   "outputs": [
    {
     "name": "stdout",
     "output_type": "stream",
     "text": [
      "61.0\n",
      "Stanford\n",
      "This is student class in abc module\n",
      "None\n"
     ]
    }
   ],
   "source": [
    "class Student:\n",
    "    \n",
    "    school = 'Stanford'\n",
    "    \n",
    "    def __init__(self, m1, m2, m3):\n",
    "        self.m1 = m1\n",
    "        self.m2 = m2\n",
    "        self.m3 = m3\n",
    "        \n",
    "    def average(self): #instance method\n",
    "        return (self.m1 + self.m2 + self.m3)/3\n",
    "    \n",
    "    @classmethod\n",
    "    def getSchool(cls):\n",
    "        return cls.school\n",
    "    \n",
    "    @staticmethod\n",
    "    def info():\n",
    "        print(\"This is student class in abc module\")\n",
    "\n",
    "s1 = Student(44, 57, 82)\n",
    "s2 = Student(19, 23, 78)\n",
    "\n",
    "print(s1.average())\n",
    "print(Student.getSchool())\n",
    "\n",
    "print(Student.info())"
   ]
  },
  {
   "cell_type": "markdown",
   "id": "1f098804-d82a-4915-be52-f30b44bd29f1",
   "metadata": {},
   "source": [
    "## Inheritance\n",
    "\n",
    "* Single Level Inheritance\n",
    "* Multilevel Inheritance\n",
    "* Multiple Inheritance\n",
    "\n"
   ]
  },
  {
   "cell_type": "code",
   "execution_count": 15,
   "id": "2633870e-7d9b-44f6-be10-3052527bf2ae",
   "metadata": {},
   "outputs": [
    {
     "name": "stdout",
     "output_type": "stream",
     "text": [
      "Feature 1 working\n",
      "Feature 2 working\n",
      "--------------------\n",
      "Feature 3 working\n",
      "Feature 4 working\n",
      "Feature 1 working\n",
      "Feature 2 working\n"
     ]
    }
   ],
   "source": [
    "# Single level inheritance\n",
    "class A: # super class\n",
    "    def feature1(self):\n",
    "        print(\"Feature 1 working\")\n",
    "        \n",
    "    def feature2(self):\n",
    "        print(\"Feature 2 working\")\n",
    "        \n",
    "class B(A): #sub class\n",
    "    def feature3(self):\n",
    "        print(\"Feature 3 working\")\n",
    "        \n",
    "    def feature4(self):\n",
    "        print(\"Feature 4 working\") \n",
    "\n",
    "a1 = A() #subclass\n",
    "a1.feature1()\n",
    "a1.feature2()\n",
    "print(\"--------------------\")\n",
    "b1 = B()\n",
    "b1.feature3()\n",
    "b1.feature4()\n",
    "b1.feature1()\n",
    "b1.feature2()\n"
   ]
  },
  {
   "cell_type": "code",
   "execution_count": 16,
   "id": "1ffaa0aa-7d5d-47e5-ad7f-bb54d77264ad",
   "metadata": {},
   "outputs": [
    {
     "name": "stdout",
     "output_type": "stream",
     "text": [
      "Feature 1 working\n",
      "Feature 2 working\n",
      "Feature 3 working\n",
      "Feature 4 working\n",
      "Feature 5 working\n"
     ]
    }
   ],
   "source": [
    "#multi level inheritance\n",
    "class A: # super class\n",
    "    def feature1(self):\n",
    "        print(\"Feature 1 working\")\n",
    "        \n",
    "    def feature2(self):\n",
    "        print(\"Feature 2 working\")\n",
    "        \n",
    "class B(A): #sub class\n",
    "    def feature3(self):\n",
    "        print(\"Feature 3 working\")\n",
    "        \n",
    "    def feature4(self):\n",
    "        print(\"Feature 4 working\") \n",
    "\n",
    "        \n",
    "class C(B): #sub class\n",
    "    def feature5(self):\n",
    "        print(\"Feature 5 working\")\n",
    "        \n",
    "c1 = C() #subclass\n",
    "c1.feature1()\n",
    "c1.feature2()\n",
    "c1.feature3()\n",
    "c1.feature4()\n",
    "c1.feature5()\n",
    "\n"
   ]
  },
  {
   "cell_type": "code",
   "execution_count": 18,
   "id": "e8ff3251-f254-46d4-a23e-65cbf57ec0dd",
   "metadata": {},
   "outputs": [
    {
     "name": "stdout",
     "output_type": "stream",
     "text": [
      "Feature 3 working\n",
      "Feature 4 working\n",
      "Feature 5 working\n",
      "Feature 1 working\n"
     ]
    }
   ],
   "source": [
    "# Multiple Inheritance\n",
    "class A: # super class\n",
    "    def feature1(self):\n",
    "        print(\"Feature 1 working\")\n",
    "        \n",
    "    def feature2(self):\n",
    "        print(\"Feature 2 working\")\n",
    "        \n",
    "class B: \n",
    "    def feature3(self):\n",
    "        print(\"Feature 3 working\")\n",
    "        \n",
    "    def feature4(self):\n",
    "        print(\"Feature 4 working\") \n",
    "\n",
    "        \n",
    "class C(A,B): #sub class\n",
    "    def feature5(self):\n",
    "        print(\"Feature 5 working\")\n",
    "        \n",
    "c1 = C() #subclass\n",
    "c1.feature3()\n",
    "c1.feature4()\n",
    "c1.feature5()\n",
    "c1.feature1()"
   ]
  },
  {
   "cell_type": "markdown",
   "id": "c84c5091-ecb5-4cc0-bfd6-287e07591d3a",
   "metadata": {},
   "source": [
    "### Constructor in inheritance"
   ]
  },
  {
   "cell_type": "code",
   "execution_count": 20,
   "id": "145ec23c-b6b6-41b2-89bf-143701741e09",
   "metadata": {},
   "outputs": [
    {
     "name": "stdout",
     "output_type": "stream",
     "text": [
      "in A init\n"
     ]
    }
   ],
   "source": [
    "class A: # super class\n",
    "    \n",
    "    def __init__(self):\n",
    "        print(\"in A init\")\n",
    "    \n",
    "    def feature1(self):\n",
    "        print(\"Feature 1 working\")\n",
    "        \n",
    "    def feature2(self):\n",
    "        print(\"Feature 2 working\")\n",
    "        \n",
    "class B(A): #sub class\n",
    "    def feature3(self):\n",
    "        print(\"Feature 3 working\")\n",
    "        \n",
    "    def feature4(self):\n",
    "        print(\"Feature 4 working\") \n",
    "\n",
    "b1 = B()"
   ]
  },
  {
   "cell_type": "markdown",
   "id": "674c561a-1001-4c44-ade2-15e7782a4b4a",
   "metadata": {},
   "source": [
    "> Even though you created object of class B  but it calls constructor of A"
   ]
  },
  {
   "cell_type": "code",
   "execution_count": 21,
   "id": "fd1dc390-8322-46f5-9164-5310fa902444",
   "metadata": {},
   "outputs": [
    {
     "name": "stdout",
     "output_type": "stream",
     "text": [
      "in B init\n"
     ]
    }
   ],
   "source": [
    "class A: # super class\n",
    "    \n",
    "    def __init__(self):\n",
    "        print(\"in A init\")\n",
    "    \n",
    "    def feature1(self):\n",
    "        print(\"Feature 1 working\")\n",
    "        \n",
    "    def feature2(self):\n",
    "        print(\"Feature 2 working\")\n",
    "        \n",
    "class B(A): #sub class\n",
    "    \n",
    "    def __init__(self):\n",
    "        print(\"in B init\")\n",
    "    def feature3(self):\n",
    "        print(\"Feature 3 working\")\n",
    "        \n",
    "    def feature4(self):\n",
    "        print(\"Feature 4 working\") \n",
    "\n",
    "b1 = B()"
   ]
  },
  {
   "cell_type": "markdown",
   "id": "b91c2acd-8b8e-4a0d-abe6-3daddc41cdbc",
   "metadata": {},
   "source": [
    "> first it try find `__init__` of B if its not there it goes for `__init__` of A\n",
    "\n",
    "What if you want `__init__` of both the classes?\n",
    "\n",
    "* Use `super` keyword and then you can access features of parent class."
   ]
  },
  {
   "cell_type": "code",
   "execution_count": 22,
   "id": "3fbb2b57-f45e-4d5d-89b3-3f9622937dce",
   "metadata": {},
   "outputs": [
    {
     "name": "stdout",
     "output_type": "stream",
     "text": [
      "in A init\n",
      "in B init\n"
     ]
    }
   ],
   "source": [
    "class A: # super class\n",
    "    \n",
    "    def __init__(self):\n",
    "        print(\"in A init\")\n",
    "    \n",
    "    def feature1(self):\n",
    "        print(\"Feature 1 working\")\n",
    "        \n",
    "    def feature2(self):\n",
    "        print(\"Feature 2 working\")\n",
    "        \n",
    "class B(A): #sub class\n",
    "    \n",
    "    def __init__(self):\n",
    "        super().__init__()\n",
    "        \n",
    "        print(\"in B init\")\n",
    "    \n",
    "    def feature3(self):\n",
    "        print(\"Feature 3 working\")\n",
    "        \n",
    "    def feature4(self):\n",
    "        print(\"Feature 4 working\") \n",
    "\n",
    "b1 = B()"
   ]
  },
  {
   "cell_type": "markdown",
   "id": "909d815b-8fc3-430c-9019-7f5ec34f2abe",
   "metadata": {},
   "source": [
    "## Polymorphism\n",
    "\n",
    "Poly - Many  \n",
    "Morph - Form\n",
    "\n",
    "4 ways of implementing polymorphism\n",
    "\n",
    "1. Duck Typing  \n",
    "2. Operator Overloading  \n",
    "3. Method Overloading  \n",
    "4. Method Overriding  "
   ]
  },
  {
   "cell_type": "markdown",
   "id": "31fe6e81-3089-479f-a6ca-eb76d6073b53",
   "metadata": {},
   "source": [
    "### Duck typing\n",
    "\n",
    "There is saying :  \n",
    "If there is bird which is walking like duck, quacking like a duck and swimming like a bird then that bird is duck.\n",
    "\n",
    "> So it means if the behaviour of bird matches with duck then that bird is duck (Whether it is duck or not )"
   ]
  },
  {
   "cell_type": "code",
   "execution_count": 24,
   "id": "2134f782-a663-4920-931b-761935f94bca",
   "metadata": {},
   "outputs": [
    {
     "data": {
      "text/plain": [
       "'Tom'"
      ]
     },
     "execution_count": 24,
     "metadata": {},
     "output_type": "execute_result"
    }
   ],
   "source": [
    "x = 5\n",
    "x = 'Tom'\n",
    "x"
   ]
  },
  {
   "cell_type": "markdown",
   "id": "81ace09b-34ac-4250-9991-0bfc1000c745",
   "metadata": {},
   "source": [
    "> When you gave a name to variable it is name to a memory"
   ]
  },
  {
   "cell_type": "code",
   "execution_count": 25,
   "id": "16ed469a-c610-412c-a0e5-de8890faf560",
   "metadata": {},
   "outputs": [
    {
     "name": "stdout",
     "output_type": "stream",
     "text": [
      "compiling\n",
      "Running\n"
     ]
    }
   ],
   "source": [
    "class Pycharm:\n",
    "    def execute(self):\n",
    "        print(\"compiling\")\n",
    "        print(\"Running\")\n",
    "    \n",
    "\n",
    "class Laptop:\n",
    "    \n",
    "    def code(self, ide):\n",
    "        ide.execute()\n",
    "        \n",
    "ide = Pycharm()\n",
    "        \n",
    "lap1 = Laptop()\n",
    "\n",
    "lap1.code(ide)"
   ]
  },
  {
   "cell_type": "code",
   "execution_count": 27,
   "id": "e7278d06-6ce0-4362-aab8-7d58628e96b3",
   "metadata": {},
   "outputs": [
    {
     "name": "stdout",
     "output_type": "stream",
     "text": [
      "Spell check\n",
      "Convention check\n",
      "compiling\n",
      "Running\n"
     ]
    }
   ],
   "source": [
    "class Pycharm:\n",
    "    def execute(self):\n",
    "        print(\"compiling\")\n",
    "        print(\"Running\")\n",
    "    \n",
    "class VScode:\n",
    "    def execute(self):\n",
    "        print(\"Spell check\")\n",
    "        print(\"Convention check\")\n",
    "        print(\"compiling\")\n",
    "        print(\"Running\")\n",
    "    \n",
    "    \n",
    "class Laptop:\n",
    "    \n",
    "    def code(self, ide):\n",
    "        ide.execute()\n",
    "        \n",
    "ide = VScode()\n",
    "        \n",
    "lap1 = Laptop()\n",
    "\n",
    "lap1.code(ide)"
   ]
  },
  {
   "cell_type": "markdown",
   "id": "06352a6e-8518-4ce9-81d7-3692d2c0183e",
   "metadata": {},
   "source": [
    "The above code works since we have same `execute()` method (behaviour) for VScode  class as well. So we are not concerned which class object it is however we concerned about it should have `execute()`  method."
   ]
  },
  {
   "cell_type": "markdown",
   "id": "e7640a74-c1c0-405b-9898-e5288bdae4df",
   "metadata": {},
   "source": [
    "### Operator Overloading\n",
    "\n"
   ]
  },
  {
   "cell_type": "code",
   "execution_count": 28,
   "id": "0ee27329-f5a3-4b60-80f6-1303f14a23d3",
   "metadata": {},
   "outputs": [
    {
     "data": {
      "text/plain": [
       "11.2"
      ]
     },
     "execution_count": 28,
     "metadata": {},
     "output_type": "execute_result"
    }
   ],
   "source": [
    "5 + 6.2"
   ]
  },
  {
   "cell_type": "code",
   "execution_count": 29,
   "id": "caee5969-3ad8-4272-ab7a-c89c549144e2",
   "metadata": {},
   "outputs": [
    {
     "data": {
      "text/plain": [
       "'HelloWorld'"
      ]
     },
     "execution_count": 29,
     "metadata": {},
     "output_type": "execute_result"
    }
   ],
   "source": [
    "'Hello' + 'World'"
   ]
  },
  {
   "cell_type": "code",
   "execution_count": 30,
   "id": "4bef3362-cff3-4738-8bad-1a45ae5af639",
   "metadata": {},
   "outputs": [
    {
     "ename": "TypeError",
     "evalue": "unsupported operand type(s) for +: 'int' and 'str'",
     "output_type": "error",
     "traceback": [
      "\u001b[0;31m---------------------------------------------------------------------------\u001b[0m",
      "\u001b[0;31mTypeError\u001b[0m                                 Traceback (most recent call last)",
      "Input \u001b[0;32mIn [30]\u001b[0m, in \u001b[0;36m<cell line: 3>\u001b[0;34m()\u001b[0m\n\u001b[1;32m      1\u001b[0m a \u001b[38;5;241m=\u001b[39m \u001b[38;5;241m5\u001b[39m\n\u001b[1;32m      2\u001b[0m b \u001b[38;5;241m=\u001b[39m \u001b[38;5;124m'\u001b[39m\u001b[38;5;124mworld\u001b[39m\u001b[38;5;124m'\u001b[39m\n\u001b[0;32m----> 3\u001b[0m \u001b[43ma\u001b[49m\u001b[43m \u001b[49m\u001b[38;5;241;43m+\u001b[39;49m\u001b[43m \u001b[49m\u001b[43mb\u001b[49m\n",
      "\u001b[0;31mTypeError\u001b[0m: unsupported operand type(s) for +: 'int' and 'str'"
     ]
    }
   ],
   "source": [
    "a = 5\n",
    "b = 'world'\n",
    "a + b"
   ]
  },
  {
   "cell_type": "code",
   "execution_count": 34,
   "id": "c55769c8-68ab-4a68-a7c0-eb725324252e",
   "metadata": {},
   "outputs": [
    {
     "name": "stdout",
     "output_type": "stream",
     "text": [
      "9\n"
     ]
    }
   ],
   "source": [
    "#behind the scene of int addition following method call happens\n",
    "a = 4\n",
    "b = 5\n",
    "print(int.__add__(a,b))"
   ]
  },
  {
   "cell_type": "code",
   "execution_count": 35,
   "id": "808fd1ed-ccb4-4d8e-8789-a848d443133b",
   "metadata": {},
   "outputs": [
    {
     "ename": "TypeError",
     "evalue": "unsupported operand type(s) for +: 'Student' and 'Student'",
     "output_type": "error",
     "traceback": [
      "\u001b[0;31m---------------------------------------------------------------------------\u001b[0m",
      "\u001b[0;31mTypeError\u001b[0m                                 Traceback (most recent call last)",
      "Input \u001b[0;32mIn [35]\u001b[0m, in \u001b[0;36m<cell line: 12>\u001b[0;34m()\u001b[0m\n\u001b[1;32m      9\u001b[0m s1 \u001b[38;5;241m=\u001b[39m Student(\u001b[38;5;241m58\u001b[39m,\u001b[38;5;241m61\u001b[39m)\n\u001b[1;32m     10\u001b[0m s2 \u001b[38;5;241m=\u001b[39m Student(\u001b[38;5;241m34\u001b[39m,\u001b[38;5;241m46\u001b[39m)\n\u001b[0;32m---> 12\u001b[0m s3 \u001b[38;5;241m=\u001b[39m \u001b[43ms1\u001b[49m\u001b[43m \u001b[49m\u001b[38;5;241;43m+\u001b[39;49m\u001b[43m \u001b[49m\u001b[43ms2\u001b[49m\n",
      "\u001b[0;31mTypeError\u001b[0m: unsupported operand type(s) for +: 'Student' and 'Student'"
     ]
    }
   ],
   "source": [
    "class Student:\n",
    "    \n",
    "    def __init__(self, m1, m2):\n",
    "        self.m1 = m1\n",
    "        self.m2 = m2\n",
    "        \n",
    "        \n",
    "        \n",
    "s1 = Student(58,61)\n",
    "s2 = Student(34,46)\n",
    "\n",
    "s3 = s1 + s2"
   ]
  },
  {
   "cell_type": "markdown",
   "id": "ff68431c-c1ce-4a54-a5ab-4117de5827d9",
   "metadata": {},
   "source": [
    "> we need to define the operation in class"
   ]
  },
  {
   "cell_type": "code",
   "execution_count": 37,
   "id": "067bb0ea-fab0-40ef-bd2f-199f39bff0ed",
   "metadata": {},
   "outputs": [
    {
     "name": "stdout",
     "output_type": "stream",
     "text": [
      "92\n"
     ]
    }
   ],
   "source": [
    "class Student:\n",
    "    \n",
    "    def __init__(self, m1, m2):\n",
    "        self.m1 = m1\n",
    "        self.m2 = m2\n",
    "    \n",
    "    def __add__(self, other): # operator overload \n",
    "        m1 = self.m1 + other.m1\n",
    "        m2 = self.m2 + other.m2\n",
    "        s3 = Student(m1, m2)\n",
    "        \n",
    "        return s3\n",
    "        \n",
    "        \n",
    "s1 = Student(58,61)\n",
    "s2 = Student(34,46)\n",
    "\n",
    "s3 = s1 + s2\n",
    "print(s3.m1)"
   ]
  },
  {
   "cell_type": "markdown",
   "id": "db41b949-3fe2-4eeb-aa5c-3dda94ac84ed",
   "metadata": {},
   "source": [
    "SO if you have to add two students you need to overload the operator of `+`"
   ]
  },
  {
   "cell_type": "markdown",
   "id": "14078a41-df0d-40bb-b475-5c9e817e3611",
   "metadata": {},
   "source": [
    "### Method Overloading "
   ]
  },
  {
   "cell_type": "markdown",
   "id": "c636d1fa-564b-4be6-905e-fb0a46916786",
   "metadata": {},
   "source": [
    "If you have a class with two methods with same name but different parameters or arguments. That is called method overloading.  \n",
    "\n",
    "In python we don't have method overloading hence we cannot keep two methods with same name.\n",
    "\n",
    "But we will use some trick to implement in python in following manner."
   ]
  },
  {
   "cell_type": "code",
   "execution_count": 40,
   "id": "7e65eb03-8778-4762-9d25-ab9e6341a891",
   "metadata": {},
   "outputs": [
    {
     "ename": "TypeError",
     "evalue": "sum() missing 1 required positional argument: 'c'",
     "output_type": "error",
     "traceback": [
      "\u001b[0;31m---------------------------------------------------------------------------\u001b[0m",
      "\u001b[0;31mTypeError\u001b[0m                                 Traceback (most recent call last)",
      "Input \u001b[0;32mIn [40]\u001b[0m, in \u001b[0;36m<cell line: 14>\u001b[0;34m()\u001b[0m\n\u001b[1;32m     10\u001b[0m         \u001b[38;5;28;01mreturn\u001b[39;00m s\n\u001b[1;32m     12\u001b[0m s1 \u001b[38;5;241m=\u001b[39m Student(\u001b[38;5;241m58\u001b[39m,\u001b[38;5;241m91\u001b[39m)\n\u001b[0;32m---> 14\u001b[0m \u001b[38;5;28mprint\u001b[39m(\u001b[43ms1\u001b[49m\u001b[38;5;241;43m.\u001b[39;49m\u001b[43msum\u001b[49m\u001b[43m(\u001b[49m\u001b[38;5;241;43m5\u001b[39;49m\u001b[43m,\u001b[49m\u001b[38;5;241;43m9\u001b[39;49m\u001b[43m)\u001b[49m)\n",
      "\u001b[0;31mTypeError\u001b[0m: sum() missing 1 required positional argument: 'c'"
     ]
    }
   ],
   "source": [
    "class Student:\n",
    "    \n",
    "    def __init__(self,m1, m2):\n",
    "        self.m1 = m1\n",
    "        self.m2 = m2\n",
    "        \n",
    "    \n",
    "    def sum(self, a,b,c):\n",
    "        s = a + b + c\n",
    "        return s\n",
    "    \n",
    "s1 = Student(58,91)\n",
    "        \n",
    "print(s1.sum(5,9))"
   ]
  },
  {
   "cell_type": "code",
   "execution_count": 46,
   "id": "1f290a9f-20e4-47d9-8aa0-9ba892388cdb",
   "metadata": {},
   "outputs": [
    {
     "name": "stdout",
     "output_type": "stream",
     "text": [
      "20\n"
     ]
    }
   ],
   "source": [
    "class Student:\n",
    "    \n",
    "    def __init__(self,m1, m2):\n",
    "        self.m1 = m1\n",
    "        self.m2 = m2\n",
    "        \n",
    "    \n",
    "    def sum(self, a = None,b =None,c=None):\n",
    "        s =0\n",
    "        if a != None and b != None and c!= None:\n",
    "            s = a + b + c\n",
    "        elif a != None and b != None:\n",
    "            s = a + b \n",
    "        else:\n",
    "            s = a\n",
    "        return s\n",
    "    \n",
    "s1 = Student(58,91)\n",
    "        \n",
    "print(s1.sum(5,9,6))"
   ]
  },
  {
   "cell_type": "code",
   "execution_count": 47,
   "id": "210efa31-2bbd-4b68-bb81-767ec2d73f73",
   "metadata": {},
   "outputs": [
    {
     "name": "stdout",
     "output_type": "stream",
     "text": [
      "14\n"
     ]
    }
   ],
   "source": [
    "print(s1.sum(5,9))"
   ]
  },
  {
   "cell_type": "markdown",
   "id": "464a4031-f2a0-4cac-8fb6-6d1c44b150c3",
   "metadata": {},
   "source": [
    "### Method Overriding\n",
    "\n",
    "If you have two methods with same name and same parameters in super and subclass (not in same class) It is called as method overriding.\n",
    "\n"
   ]
  },
  {
   "cell_type": "code",
   "execution_count": 51,
   "id": "cd6996f5-d457-464b-b6a8-4a8dbb504260",
   "metadata": {},
   "outputs": [
    {
     "name": "stdout",
     "output_type": "stream",
     "text": [
      "In B show\n"
     ]
    }
   ],
   "source": [
    "class A:\n",
    "    \n",
    "    def show(self):\n",
    "        print(\"In A show\")\n",
    "    \n",
    "class B(A):\n",
    "    def show(self):\n",
    "        print(\"In B show\")\n",
    "    \n",
    "\n",
    "b1 = B()\n",
    "b1.show()"
   ]
  },
  {
   "cell_type": "code",
   "execution_count": 52,
   "id": "963f095c-20d7-4b5a-be65-4acae54c3274",
   "metadata": {},
   "outputs": [
    {
     "name": "stdout",
     "output_type": "stream",
     "text": [
      "In A show\n"
     ]
    }
   ],
   "source": [
    "a1 = A()\n",
    "a1.show()"
   ]
  },
  {
   "cell_type": "code",
   "execution_count": null,
   "id": "7e8c2b52-893c-4045-8b2f-54fb215577e3",
   "metadata": {},
   "outputs": [],
   "source": []
  }
 ],
 "metadata": {
  "kernelspec": {
   "display_name": "Python 3 (ipykernel)",
   "language": "python",
   "name": "python3"
  },
  "language_info": {
   "codemirror_mode": {
    "name": "ipython",
    "version": 3
   },
   "file_extension": ".py",
   "mimetype": "text/x-python",
   "name": "python",
   "nbconvert_exporter": "python",
   "pygments_lexer": "ipython3",
   "version": "3.8.13"
  }
 },
 "nbformat": 4,
 "nbformat_minor": 5
}
