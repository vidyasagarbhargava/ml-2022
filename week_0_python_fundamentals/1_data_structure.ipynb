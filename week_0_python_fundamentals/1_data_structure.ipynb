{
 "cells": [
  {
   "cell_type": "markdown",
   "metadata": {},
   "source": [
    "# Week 0 :- Python Fundamentals\n",
    "Starting the week with  revising the python fundamentals. We will go through important python concepts in this topic.\n",
    "\n",
    "1. Data Structure  \n",
    "2. Flow Control  \n",
    "3. Functions  \n",
    "4. OOP concept  \n",
    "5. Advanced Python  [Generators Iterators and Decorators]\n",
    "6. Numpy   \n",
    "7. Pandas  \n",
    "8. Matplotlib  \n",
    "\n",
    "\n",
    "**Data Structure**   \n",
    "Data Structure are containers that organize and group data types together in different ways.\n",
    "\n",
    "**Types of Data Structure**\n",
    "* List\n",
    "* Tuple\n",
    "* Strings\n",
    "* Set \n",
    "* Dictionary\n",
    "\n",
    "\n",
    "**There are two things to keep in mind for each of the datastructure.** \n",
    "1. Are they mutable?\n",
    "2. Are they ordered?"
   ]
  },
  {
   "cell_type": "markdown",
   "metadata": {},
   "source": [
    "## List -\n",
    "Mutable and ordered collection of elements"
   ]
  },
  {
   "cell_type": "code",
   "execution_count": 1,
   "metadata": {},
   "outputs": [
    {
     "name": "stdout",
     "output_type": "stream",
     "text": [
      "['apple', 'orange', 25, 12.7, True]\n"
     ]
    }
   ],
   "source": [
    "mylist=['apple', 'orange', 25, 12.7, True]\n",
    "print(mylist)\n"
   ]
  },
  {
   "cell_type": "markdown",
   "metadata": {},
   "source": [
    "List :- functions & Methods"
   ]
  },
  {
   "cell_type": "code",
   "execution_count": 2,
   "metadata": {},
   "outputs": [
    {
     "data": {
      "text/plain": [
       "5"
      ]
     },
     "execution_count": 2,
     "metadata": {},
     "output_type": "execute_result"
    }
   ],
   "source": [
    "len(mylist)\n"
   ]
  },
  {
   "cell_type": "code",
   "execution_count": 3,
   "metadata": {},
   "outputs": [
    {
     "data": {
      "text/plain": [
       "12"
      ]
     },
     "execution_count": 3,
     "metadata": {},
     "output_type": "execute_result"
    }
   ],
   "source": [
    "num_list = [12, 4, 5, 8, 10]\n",
    "max(num_list)\n"
   ]
  },
  {
   "cell_type": "code",
   "execution_count": 4,
   "metadata": {},
   "outputs": [
    {
     "data": {
      "text/plain": [
       "4"
      ]
     },
     "execution_count": 4,
     "metadata": {},
     "output_type": "execute_result"
    }
   ],
   "source": [
    "min(num_list)\n"
   ]
  },
  {
   "cell_type": "code",
   "execution_count": 5,
   "metadata": {},
   "outputs": [
    {
     "data": {
      "text/plain": [
       "[4, 5, 8, 10, 12]"
      ]
     },
     "execution_count": 5,
     "metadata": {},
     "output_type": "execute_result"
    }
   ],
   "source": [
    "sorted(num_list)\n"
   ]
  },
  {
   "cell_type": "code",
   "execution_count": 6,
   "metadata": {},
   "outputs": [
    {
     "name": "stdout",
     "output_type": "stream",
     "text": [
      "['apple', 'orange', 25, 12.7, True, 13]\n"
     ]
    }
   ],
   "source": [
    "#to insert any value\n",
    "mylist.append(13)\n",
    "print(mylist)\n"
   ]
  },
  {
   "cell_type": "code",
   "execution_count": 7,
   "metadata": {},
   "outputs": [
    {
     "name": "stdout",
     "output_type": "stream",
     "text": [
      "['apple', 'orange', 25, 99, 12.7, True, 13]\n"
     ]
    }
   ],
   "source": [
    "#to insert value at particular index\n",
    "mylist.insert(3, 99)\n",
    "print(mylist)\n"
   ]
  },
  {
   "cell_type": "code",
   "execution_count": 8,
   "metadata": {},
   "outputs": [
    {
     "name": "stdout",
     "output_type": "stream",
     "text": [
      "['apple', 'orange', 25, 99, True, 13]\n"
     ]
    }
   ],
   "source": [
    "#to remove specific value from list\n",
    "mylist.remove(12.7)\n",
    "print(mylist)\n"
   ]
  },
  {
   "cell_type": "code",
   "execution_count": 9,
   "metadata": {},
   "outputs": [
    {
     "name": "stdout",
     "output_type": "stream",
     "text": [
      "['apple', 'orange', 99, True, 13]\n"
     ]
    }
   ],
   "source": [
    "#to remove value based on index\n",
    "mylist.pop(2)\n",
    "print(mylist)\n"
   ]
  },
  {
   "cell_type": "code",
   "execution_count": 10,
   "metadata": {},
   "outputs": [
    {
     "name": "stdout",
     "output_type": "stream",
     "text": [
      "['apple', 'orange', 99, True]\n"
     ]
    }
   ],
   "source": [
    "#to remove last value \n",
    "mylist.pop()\n",
    "print(mylist)\n"
   ]
  },
  {
   "cell_type": "code",
   "execution_count": 11,
   "metadata": {},
   "outputs": [
    {
     "name": "stdout",
     "output_type": "stream",
     "text": [
      "['apple', 'orange']\n"
     ]
    }
   ],
   "source": [
    "#to delete multiple values\n",
    "del mylist[2:]\n",
    "print(mylist)\n"
   ]
  },
  {
   "cell_type": "code",
   "execution_count": 12,
   "metadata": {},
   "outputs": [
    {
     "name": "stdout",
     "output_type": "stream",
     "text": [
      "['apple', 'orange', 12, 'pear', 45]\n"
     ]
    }
   ],
   "source": [
    "#to add multiple values\n",
    "mylist.extend([12, 'pear', 45])\n",
    "print(mylist)\n"
   ]
  },
  {
   "cell_type": "code",
   "execution_count": 13,
   "metadata": {},
   "outputs": [
    {
     "data": {
      "text/plain": [
       "[12, 4, 5, 8, 10]"
      ]
     },
     "execution_count": 13,
     "metadata": {},
     "output_type": "execute_result"
    }
   ],
   "source": [
    "num_list\n"
   ]
  },
  {
   "cell_type": "code",
   "execution_count": 14,
   "metadata": {},
   "outputs": [
    {
     "name": "stdout",
     "output_type": "stream",
     "text": [
      "[4, 5, 8, 10, 12]\n"
     ]
    }
   ],
   "source": [
    "num_list.sort()\n",
    "print(num_list)\n"
   ]
  },
  {
   "cell_type": "markdown",
   "metadata": {},
   "source": [
    "> In sorted function original list remain unchanged as it return copy of list leaving the list unchanged."
   ]
  },
  {
   "cell_type": "code",
   "execution_count": 15,
   "metadata": {},
   "outputs": [
    {
     "data": {
      "text/plain": [
       "['apple', 'orange', 12, 'pear', 45]"
      ]
     },
     "execution_count": 15,
     "metadata": {},
     "output_type": "execute_result"
    }
   ],
   "source": [
    "mylist"
   ]
  },
  {
   "cell_type": "code",
   "execution_count": 16,
   "metadata": {},
   "outputs": [
    {
     "name": "stdout",
     "output_type": "stream",
     "text": [
      "[45, 'pear', 12, 'orange', 'apple']\n"
     ]
    }
   ],
   "source": [
    "#to reverse list\n",
    "mylist.reverse()\n",
    "print(mylist)"
   ]
  },
  {
   "cell_type": "code",
   "execution_count": 17,
   "metadata": {},
   "outputs": [
    {
     "name": "stdout",
     "output_type": "stream",
     "text": [
      "Sachin-Ramesh-Tendulkar\n"
     ]
    }
   ],
   "source": [
    "# join takes a list as arguement and return a string consist of list element joined by seperator string\n",
    "name = [\"Sachin\", \"Ramesh\", \"Tendulkar\"]\n",
    "print(\"-\".join(name))"
   ]
  },
  {
   "cell_type": "markdown",
   "metadata": {},
   "source": [
    "## Tuples\n",
    "Immutable ordered sequence of elements"
   ]
  },
  {
   "cell_type": "code",
   "execution_count": 18,
   "metadata": {},
   "outputs": [],
   "source": [
    "tup = (1,5,7,10)\n"
   ]
  },
  {
   "cell_type": "code",
   "execution_count": 19,
   "metadata": {},
   "outputs": [
    {
     "ename": "TypeError",
     "evalue": "'tuple' object does not support item assignment",
     "output_type": "error",
     "traceback": [
      "\u001b[0;31m---------------------------------------------------------------------------\u001b[0m",
      "\u001b[0;31mTypeError\u001b[0m                                 Traceback (most recent call last)",
      "\u001b[1;32m/Users/vidyasagar.bhargava/Documents/ML-22/2-python_fundamentals.ipynb Cell 24\u001b[0m in \u001b[0;36m<module>\u001b[0;34m\u001b[0m\n\u001b[0;32m----> <a href='vscode-notebook-cell:/Users/vidyasagar.bhargava/Documents/ML-22/2-python_fundamentals.ipynb#X32sZmlsZQ%3D%3D?line=0'>1</a>\u001b[0m tup[\u001b[39m1\u001b[39m] \u001b[39m=\u001b[39m \u001b[39m55\u001b[39m\n",
      "\u001b[0;31mTypeError\u001b[0m: 'tuple' object does not support item assignment"
     ]
    }
   ],
   "source": [
    "tup[1] = 55"
   ]
  },
  {
   "cell_type": "markdown",
   "metadata": {},
   "source": [
    "> Since we can't change the values in tuple hence iteration in tuple are faster than list"
   ]
  },
  {
   "cell_type": "code",
   "execution_count": 20,
   "metadata": {},
   "outputs": [
    {
     "name": "stdout",
     "output_type": "stream",
     "text": [
      "length : 24\n",
      "width : 1\n",
      "height : 15\n"
     ]
    }
   ],
   "source": [
    "#tuple unpacking\n",
    "new_tup = 1,15, 24\n",
    "width, height, length = new_tup\n",
    "print(f\"length : {length}\")\n",
    "print(f\"width : {width}\")\n",
    "print(f\"height : {height}\")\n",
    "\n"
   ]
  },
  {
   "cell_type": "markdown",
   "metadata": {},
   "source": [
    "Tuple :-  methods and functions "
   ]
  },
  {
   "cell_type": "code",
   "execution_count": 21,
   "metadata": {},
   "outputs": [
    {
     "data": {
      "text/plain": [
       "2"
      ]
     },
     "execution_count": 21,
     "metadata": {},
     "output_type": "execute_result"
    }
   ],
   "source": [
    "# To count the number of occurence of an element\n",
    "tup = (1,5, 6, 9, 'newdelhi', 'True', 6)\n",
    "tup.count(6)"
   ]
  },
  {
   "cell_type": "code",
   "execution_count": 22,
   "metadata": {},
   "outputs": [
    {
     "data": {
      "text/plain": [
       "4"
      ]
     },
     "execution_count": 22,
     "metadata": {},
     "output_type": "execute_result"
    }
   ],
   "source": [
    "tup.index('newdelhi')"
   ]
  },
  {
   "cell_type": "markdown",
   "metadata": {},
   "source": [
    "A common use to tuple is to return multiple values from function"
   ]
  },
  {
   "cell_type": "code",
   "execution_count": 23,
   "metadata": {},
   "outputs": [
    {
     "data": {
      "text/plain": [
       "('spam', 'solutions')"
      ]
     },
     "execution_count": 23,
     "metadata": {},
     "output_type": "execute_result"
    }
   ],
   "source": [
    "def first_and_last(sequence):\n",
    "    return sequence[0], sequence[-1]\n",
    "\n",
    "first_and_last([\"spam\", \"non-spam\", \"questions\", \"solutions\"])"
   ]
  },
  {
   "cell_type": "markdown",
   "metadata": {},
   "source": [
    "## Strings\n",
    "Strings in Python are arrays of bytes representing unicode characters.\n",
    "> Strings are immutable and ordered"
   ]
  },
  {
   "cell_type": "code",
   "execution_count": 24,
   "metadata": {},
   "outputs": [
    {
     "name": "stdout",
     "output_type": "stream",
     "text": [
      "Youtube Channel\n"
     ]
    }
   ],
   "source": [
    "a = 'Youtube Channel'\n",
    "print(a)"
   ]
  },
  {
   "cell_type": "code",
   "execution_count": 25,
   "metadata": {},
   "outputs": [
    {
     "ename": "TypeError",
     "evalue": "'str' object does not support item assignment",
     "output_type": "error",
     "traceback": [
      "\u001b[0;31m---------------------------------------------------------------------------\u001b[0m",
      "\u001b[0;31mTypeError\u001b[0m                                 Traceback (most recent call last)",
      "\u001b[1;32m/Users/vidyasagar.bhargava/Documents/ML-22/2-python_fundamentals.ipynb Cell 34\u001b[0m in \u001b[0;36m<module>\u001b[0;34m\u001b[0m\n\u001b[0;32m----> <a href='vscode-notebook-cell:/Users/vidyasagar.bhargava/Documents/ML-22/2-python_fundamentals.ipynb#Y131sZmlsZQ%3D%3D?line=0'>1</a>\u001b[0m a[\u001b[39m0\u001b[39m] \u001b[39m=\u001b[39m \u001b[39m'\u001b[39m\u001b[39mZ\u001b[39m\u001b[39m'\u001b[39m\n\u001b[1;32m      <a href='vscode-notebook-cell:/Users/vidyasagar.bhargava/Documents/ML-22/2-python_fundamentals.ipynb#Y131sZmlsZQ%3D%3D?line=1'>2</a>\u001b[0m \u001b[39mprint\u001b[39m(a)\n",
      "\u001b[0;31mTypeError\u001b[0m: 'str' object does not support item assignment"
     ]
    }
   ],
   "source": [
    "a[0] = 'Z'\n",
    "print(a)"
   ]
  },
  {
   "cell_type": "markdown",
   "metadata": {},
   "source": [
    "#### Builtin Methods in Strings"
   ]
  },
  {
   "cell_type": "code",
   "execution_count": 26,
   "metadata": {},
   "outputs": [
    {
     "name": "stdout",
     "output_type": "stream",
     "text": [
      "HELLO WORLD\n"
     ]
    }
   ],
   "source": [
    "#upper case\n",
    "a = 'Hello World'\n",
    "print(a.upper())"
   ]
  },
  {
   "cell_type": "markdown",
   "metadata": {},
   "source": [
    "similarly `lower()` method return string in lower case!"
   ]
  },
  {
   "cell_type": "code",
   "execution_count": 27,
   "metadata": {},
   "outputs": [
    {
     "name": "stdout",
     "output_type": "stream",
     "text": [
      "Hello world\n"
     ]
    }
   ],
   "source": [
    "# remove white spaces\n",
    "a = '  Hello world '\n",
    "print(a.strip())"
   ]
  },
  {
   "cell_type": "code",
   "execution_count": 28,
   "metadata": {},
   "outputs": [
    {
     "name": "stdout",
     "output_type": "stream",
     "text": [
      "Jello World\n"
     ]
    }
   ],
   "source": [
    "# replace string\n",
    "a = 'Hello World'\n",
    "print(a.replace('H', 'J'))"
   ]
  },
  {
   "cell_type": "code",
   "execution_count": 29,
   "metadata": {},
   "outputs": [
    {
     "name": "stdout",
     "output_type": "stream",
     "text": [
      "['Hello', ' World']\n"
     ]
    }
   ],
   "source": [
    "#split string\n",
    "a = 'Hello, World'\n",
    "print(a.split(\",\"))"
   ]
  },
  {
   "cell_type": "markdown",
   "metadata": {},
   "source": [
    "> The `split()` method returns a list where the text between the specified separator becomes the list items.\n",
    "\n"
   ]
  },
  {
   "cell_type": "markdown",
   "metadata": {},
   "source": [
    "To access characters in a string"
   ]
  },
  {
   "cell_type": "code",
   "execution_count": 30,
   "metadata": {},
   "outputs": [
    {
     "name": "stdout",
     "output_type": "stream",
     "text": [
      "s\n",
      "e\n",
      "us\n",
      "Justin Bieb\n",
      "rebeiB nitsuJ\n"
     ]
    }
   ],
   "source": [
    "mystring = 'Justin Bieber'\n",
    "print(mystring[2]) \n",
    "print(mystring[-2])\n",
    "print(mystring[1:3])\n",
    "print(mystring[:-2])\n",
    "print(mystring[::-1])"
   ]
  },
  {
   "cell_type": "code",
   "execution_count": 31,
   "metadata": {},
   "outputs": [
    {
     "data": {
      "text/plain": [
       "True"
      ]
     },
     "execution_count": 31,
     "metadata": {},
     "output_type": "execute_result"
    }
   ],
   "source": [
    "# string membership test :- to check if substring exists in string or not!\n",
    "\n",
    "'a' in 'program'"
   ]
  },
  {
   "cell_type": "code",
   "execution_count": 32,
   "metadata": {},
   "outputs": [
    {
     "name": "stdout",
     "output_type": "stream",
     "text": [
      "13\n"
     ]
    }
   ],
   "source": [
    "# len() function tells length of string and enumerate() returns an enumerate object. It contains the index and value of all the items in the string as pairs. \n",
    "mystring = 'Justin Bieber'\n",
    "print(len(mystring))"
   ]
  },
  {
   "cell_type": "code",
   "execution_count": 33,
   "metadata": {},
   "outputs": [
    {
     "name": "stdout",
     "output_type": "stream",
     "text": [
      "list(enumerate(mystring) =  [(0, 'J'), (1, 'u'), (2, 's'), (3, 't'), (4, 'i'), (5, 'n'), (6, ' '), (7, 'B'), (8, 'i'), (9, 'e'), (10, 'b'), (11, 'e'), (12, 'r')]\n"
     ]
    }
   ],
   "source": [
    "# enumerate()\n",
    "list_enumerate = list(enumerate(mystring))\n",
    "print('list(enumerate(mystring) = ', list_enumerate)"
   ]
  },
  {
   "cell_type": "code",
   "execution_count": null,
   "metadata": {},
   "outputs": [],
   "source": []
  },
  {
   "cell_type": "markdown",
   "metadata": {},
   "source": [
    "## Sets\n",
    "Mutable unordered collection of unique elements\n",
    "\n",
    "> A set doesn't store duplicate elements"
   ]
  },
  {
   "cell_type": "code",
   "execution_count": 34,
   "metadata": {},
   "outputs": [
    {
     "name": "stdout",
     "output_type": "stream",
     "text": [
      "{32, 1, 'newyork', 10, 12}\n"
     ]
    }
   ],
   "source": [
    "s = {1,12, 10, 32,'newyork', 12}\n",
    "print(s)"
   ]
  },
  {
   "cell_type": "markdown",
   "metadata": {},
   "source": [
    "Set doesn't support indexing since it doesn't follow the sequence\n",
    "\n",
    "> Only immutable (and hashable) objects can be a part of a set object. Numbers (integer, float, as well as complex), strings, and tuple objects are accepted, but list and dictionary objects are not."
   ]
  },
  {
   "cell_type": "code",
   "execution_count": 35,
   "metadata": {},
   "outputs": [
    {
     "name": "stdout",
     "output_type": "stream",
     "text": [
      "{(10, 11), 13, 'newyork'}\n"
     ]
    }
   ],
   "source": [
    "# creating a set from tuple and string\n",
    "s1 = {(10,11), 'newyork', 13}\n",
    "print(s1)"
   ]
  },
  {
   "cell_type": "code",
   "execution_count": 36,
   "metadata": {},
   "outputs": [
    {
     "ename": "TypeError",
     "evalue": "unhashable type: 'list'",
     "output_type": "error",
     "traceback": [
      "\u001b[0;31m---------------------------------------------------------------------------\u001b[0m",
      "\u001b[0;31mTypeError\u001b[0m                                 Traceback (most recent call last)",
      "\u001b[1;32m/Users/vidyasagar.bhargava/Documents/ML-22/2-python_fundamentals.ipynb Cell 52\u001b[0m in \u001b[0;36m<module>\u001b[0;34m\u001b[0m\n\u001b[0;32m----> <a href='vscode-notebook-cell:/Users/vidyasagar.bhargava/Documents/ML-22/2-python_fundamentals.ipynb#X50sZmlsZQ%3D%3D?line=0'>1</a>\u001b[0m s2 \u001b[39m=\u001b[39m {[\u001b[39m10\u001b[39m,\u001b[39m10\u001b[39m],\u001b[39m10\u001b[39m,\u001b[39m20\u001b[39m}\n\u001b[1;32m      <a href='vscode-notebook-cell:/Users/vidyasagar.bhargava/Documents/ML-22/2-python_fundamentals.ipynb#X50sZmlsZQ%3D%3D?line=1'>2</a>\u001b[0m \u001b[39mprint\u001b[39m(s2)\n",
      "\u001b[0;31mTypeError\u001b[0m: unhashable type: 'list'"
     ]
    }
   ],
   "source": [
    "s2 = {[10,10],10,20}\n",
    "print(s2)"
   ]
  },
  {
   "cell_type": "markdown",
   "metadata": {},
   "source": [
    "Methods in sets"
   ]
  },
  {
   "cell_type": "code",
   "execution_count": 37,
   "metadata": {},
   "outputs": [
    {
     "name": "stdout",
     "output_type": "stream",
     "text": [
      "{1, 3, 4, 6, 'hi'}\n"
     ]
    }
   ],
   "source": [
    "# add\n",
    "s1 = {1,3,4,6}\n",
    "s1.add('hi')\n",
    "print(s1)"
   ]
  },
  {
   "cell_type": "code",
   "execution_count": 38,
   "metadata": {},
   "outputs": [
    {
     "name": "stdout",
     "output_type": "stream",
     "text": [
      "{1, 3, 4, 'world', 6, 'hi', 'hello'}\n"
     ]
    }
   ],
   "source": [
    "#update:- using update a set can be updated with list\n",
    "s1.update([\"hello\", \"world\"])\n",
    "print(s1)"
   ]
  },
  {
   "cell_type": "code",
   "execution_count": 39,
   "metadata": {},
   "outputs": [
    {
     "name": "stdout",
     "output_type": "stream",
     "text": [
      "{'hi', 1, 3, 4, 'world', 6, 'hello'}\n"
     ]
    }
   ],
   "source": [
    "#copy:- to copy set\n",
    "s2 = s1.copy()\n",
    "print(s2)"
   ]
  },
  {
   "cell_type": "code",
   "execution_count": 40,
   "metadata": {},
   "outputs": [
    {
     "name": "stdout",
     "output_type": "stream",
     "text": [
      "{1, 3, 4, 'world', 6, 'hello'}\n"
     ]
    }
   ],
   "source": [
    "# discard:- returns a set after removing an item from it. No changes are done if the item is not present\n",
    "\n",
    "s1.discard(\"hi\")\n",
    "print(s1)"
   ]
  },
  {
   "cell_type": "code",
   "execution_count": 41,
   "metadata": {},
   "outputs": [
    {
     "name": "stdout",
     "output_type": "stream",
     "text": [
      "{1, 3, 4, 'world', 6}\n"
     ]
    }
   ],
   "source": [
    "#remove:- returns a set after removing an item from it. Results in error if the item is not present\n",
    "s1.remove(\"hello\")\n",
    "print(s1)"
   ]
  },
  {
   "cell_type": "code",
   "execution_count": 42,
   "metadata": {},
   "outputs": [
    {
     "name": "stdout",
     "output_type": "stream",
     "text": [
      "set()\n"
     ]
    }
   ],
   "source": [
    "#clear:- removes the contents of set object and results in an empty set\n",
    "s1.clear()\n",
    "print(s1)"
   ]
  },
  {
   "cell_type": "markdown",
   "metadata": {},
   "source": [
    "## Dictionary\n",
    "\n",
    "Mutable unordered objects store mapping of unique keys to values\n",
    "\n",
    "> Dictionary keys must be immutable, that is, they must be of a type that is not modifiable."
   ]
  },
  {
   "cell_type": "code",
   "execution_count": 1,
   "metadata": {},
   "outputs": [
    {
     "name": "stdout",
     "output_type": "stream",
     "text": [
      "{'Shanghai': 17.8, 'Istanbul': 13.3, 'karachi': 13, 'Mumbai': 12.5}\n"
     ]
    }
   ],
   "source": [
    "population  = {'Shanghai': 17.8, 'Istanbul': 13.3, 'karachi' : 13, 'Mumbai': 12.5}\n",
    "print(population)\n"
   ]
  },
  {
   "cell_type": "code",
   "execution_count": 2,
   "metadata": {},
   "outputs": [
    {
     "data": {
      "text/plain": [
       "dict_items([('Shanghai', 17.8), ('Istanbul', 13.3), ('karachi', 13), ('Mumbai', 12.5)])"
      ]
     },
     "execution_count": 2,
     "metadata": {},
     "output_type": "execute_result"
    }
   ],
   "source": [
    "population.items()\n"
   ]
  },
  {
   "cell_type": "code",
   "execution_count": 45,
   "metadata": {},
   "outputs": [
    {
     "data": {
      "text/plain": [
       "dict_keys(['Shanghai', 'Istanbul', 'karachi', 'Mumbai'])"
      ]
     },
     "execution_count": 45,
     "metadata": {},
     "output_type": "execute_result"
    }
   ],
   "source": [
    "population.keys()\n"
   ]
  },
  {
   "cell_type": "code",
   "execution_count": 46,
   "metadata": {},
   "outputs": [
    {
     "data": {
      "text/plain": [
       "dict_values([17.8, 13.3, 13, 12.5])"
      ]
     },
     "execution_count": 46,
     "metadata": {},
     "output_type": "execute_result"
    }
   ],
   "source": [
    "population.values()\n"
   ]
  },
  {
   "cell_type": "code",
   "execution_count": 47,
   "metadata": {},
   "outputs": [
    {
     "data": {
      "text/plain": [
       "17.8"
      ]
     },
     "execution_count": 47,
     "metadata": {},
     "output_type": "execute_result"
    }
   ],
   "source": [
    "population['Shanghai']\n"
   ]
  },
  {
   "cell_type": "code",
   "execution_count": 3,
   "metadata": {},
   "outputs": [
    {
     "data": {
      "text/plain": [
       "17.8"
      ]
     },
     "execution_count": 3,
     "metadata": {},
     "output_type": "execute_result"
    }
   ],
   "source": [
    "population.get('Shanghai')\n"
   ]
  },
  {
   "cell_type": "markdown",
   "metadata": {},
   "source": [
    "> prefer get method than using key method as it avoid below type error."
   ]
  },
  {
   "cell_type": "code",
   "execution_count": 49,
   "metadata": {},
   "outputs": [
    {
     "ename": "KeyError",
     "evalue": "'london'",
     "output_type": "error",
     "traceback": [
      "\u001b[0;31m---------------------------------------------------------------------------\u001b[0m",
      "\u001b[0;31mKeyError\u001b[0m                                  Traceback (most recent call last)",
      "\u001b[1;32m/Users/vidyasagar.bhargava/Documents/ML-22/2-python_fundamentals.ipynb Cell 68\u001b[0m in \u001b[0;36m<module>\u001b[0;34m\u001b[0m\n\u001b[0;32m----> <a href='vscode-notebook-cell:/Users/vidyasagar.bhargava/Documents/ML-22/2-python_fundamentals.ipynb#Y111sZmlsZQ%3D%3D?line=0'>1</a>\u001b[0m population[\u001b[39m'\u001b[39;49m\u001b[39mlondon\u001b[39;49m\u001b[39m'\u001b[39;49m]\n",
      "\u001b[0;31mKeyError\u001b[0m: 'london'"
     ]
    }
   ],
   "source": [
    "population['london']"
   ]
  },
  {
   "cell_type": "code",
   "execution_count": 50,
   "metadata": {},
   "outputs": [],
   "source": [
    "population.get('london')"
   ]
  },
  {
   "cell_type": "code",
   "execution_count": null,
   "metadata": {},
   "outputs": [],
   "source": []
  },
  {
   "cell_type": "code",
   "execution_count": null,
   "metadata": {},
   "outputs": [],
   "source": []
  },
  {
   "cell_type": "code",
   "execution_count": null,
   "metadata": {},
   "outputs": [],
   "source": []
  },
  {
   "cell_type": "markdown",
   "metadata": {},
   "source": [
    "## Exercise \n",
    "Given a verse count the number of unique words."
   ]
  },
  {
   "cell_type": "code",
   "execution_count": 51,
   "metadata": {},
   "outputs": [
    {
     "name": "stdout",
     "output_type": "stream",
     "text": [
      "if you can keep your head when all about you are losing theirs and blaming it on you if you can trust yourself when all men doubt you but make allowance for their doubting too   if you can wait and not be tired by waiting      or being lied about  don’t deal in lies   or being hated  don’t give way to hating      and yet don’t look too good  nor talk too wise \n",
      "\n"
     ]
    }
   ],
   "source": [
    "verse = \"if you can keep your head when all about you are losing theirs and blaming it on you if you can trust yourself when all men doubt you but make allowance for their doubting too   if you can wait and not be tired by waiting      or being lied about  don’t deal in lies   or being hated  don’t give way to hating      and yet don’t look too good  nor talk too wise\"\n",
    "print(verse, '\\n')"
   ]
  },
  {
   "cell_type": "markdown",
   "metadata": {},
   "source": [
    "## Solution"
   ]
  },
  {
   "cell_type": "code",
   "execution_count": 52,
   "metadata": {},
   "outputs": [
    {
     "name": "stdout",
     "output_type": "stream",
     "text": [
      "['if', 'you', 'can', 'keep', 'your', 'head', 'when', 'all', 'about', 'you', 'are', 'losing', 'theirs', 'and', 'blaming', 'it', 'on', 'you', 'if', 'you', 'can', 'trust', 'yourself', 'when', 'all', 'men', 'doubt', 'you', 'but', 'make', 'allowance', 'for', 'their', 'doubting', 'too', 'if', 'you', 'can', 'wait', 'and', 'not', 'be', 'tired', 'by', 'waiting', 'or', 'being', 'lied', 'about', 'don’t', 'deal', 'in', 'lies', 'or', 'being', 'hated', 'don’t', 'give', 'way', 'to', 'hating', 'and', 'yet', 'don’t', 'look', 'too', 'good', 'nor', 'talk', 'too', 'wise']\n"
     ]
    }
   ],
   "source": [
    "# Step 1 :- Split verse into list of words\n",
    "\n",
    "verse_list = verse.split()\n",
    "print(verse_list)"
   ]
  },
  {
   "cell_type": "code",
   "execution_count": 53,
   "metadata": {},
   "outputs": [
    {
     "name": "stdout",
     "output_type": "stream",
     "text": [
      "{'trust', 'in', 'wise', 'you', 'if', 'deal', 'nor', 'head', 'be', 'allowance', 'too', 'but', 'are', 'by', 'talk', 'it', 'lied', 'give', 'theirs', 'when', 'losing', 'being', 'for', 'all', 'way', 'doubt', 'hated', 'hating', 'good', 'your', 'wait', 'not', 'tired', 'and', 'on', 'make', 'yet', 'can', 'keep', 'about', 'look', 'doubting', 'or', 'blaming', 'their', 'lies', 'yourself', 'don’t', 'waiting', 'men', 'to'} \n",
      "\n"
     ]
    }
   ],
   "source": [
    "# Step 2 :- Convert list to a data structure that store unique elements\n",
    "verse_set = set(verse_list)\n",
    "print(verse_set, \"\\n\")"
   ]
  },
  {
   "cell_type": "code",
   "execution_count": 54,
   "metadata": {},
   "outputs": [
    {
     "name": "stdout",
     "output_type": "stream",
     "text": [
      "51 \n",
      "\n"
     ]
    }
   ],
   "source": [
    "# Step 3:- Count the number of unqiue words\n",
    "num_unique = len(verse_set)\n",
    "print(num_unique,  '\\n')"
   ]
  },
  {
   "cell_type": "markdown",
   "metadata": {},
   "source": [
    " ### Data structure :- some tips and ticks "
   ]
  },
  {
   "cell_type": "code",
   "execution_count": 1,
   "metadata": {},
   "outputs": [
    {
     "name": "stdout",
     "output_type": "stream",
     "text": [
      "['Oneplus', 'Micromax']\n"
     ]
    }
   ],
   "source": [
    "#1.difference between list\n",
    "\n",
    "list1 =  ['Samsung', 'Apple', 'Oneplus', 'Mi', 'Micromax']\n",
    "list2 = ['Samsung', 'Apple', 'Mi']\n",
    "\n",
    "set1 = set(list1)\n",
    "set2 = set(list2)\n",
    "list3 = list(set1.symmetric_difference(set2))\n",
    "print(list3)"
   ]
  },
  {
   "cell_type": "code",
   "execution_count": 2,
   "metadata": {},
   "outputs": [
    {
     "data": {
      "text/plain": [
       "True"
      ]
     },
     "execution_count": 2,
     "metadata": {},
     "output_type": "execute_result"
    }
   ],
   "source": [
    "#2. Efficiently compare two unordered list\n",
    "\n",
    "list1 = [11, 22, 33, 44, 55]\n",
    "list2 = [22, 11, 44, 33, 55]\n",
    "\n",
    "from collections import Counter\n",
    "Counter(list1)==Counter(list2)"
   ]
  },
  {
   "cell_type": "code",
   "execution_count": 4,
   "metadata": {},
   "outputs": [
    {
     "name": "stdout",
     "output_type": "stream",
     "text": [
      "{1: 'Sachin', 2: 'Kapil', 3: 'Virat', 4: 'Bumrah'}\n"
     ]
    }
   ],
   "source": [
    "#3. merge two dictionaries in single expression\n",
    "\n",
    "batsmen = {1: 'Sachin', 2: 'Kapil', 3: 'Virat'}\n",
    "bowlers = {2: 'Kapil', 4: 'Bumrah'}\n",
    "\n",
    "cricketers = {**batsmen, **bowlers}\n",
    "print(cricketers)"
   ]
  },
  {
   "cell_type": "code",
   "execution_count": 5,
   "metadata": {},
   "outputs": [
    {
     "name": "stdout",
     "output_type": "stream",
     "text": [
      "{1: 'Virat', 10: 'SKY', 23: 'Pandya'}\n"
     ]
    }
   ],
   "source": [
    "# 4. convert two list into dictionary\n",
    "rank= [1, 10, 23]\n",
    "players = ['Virat', 'SKY', 'Pandya']\n",
    "\n",
    "playersdict = dict(zip(rank, players))\n",
    "print(playersdict)"
   ]
  },
  {
   "cell_type": "code",
   "execution_count": 6,
   "metadata": {},
   "outputs": [
    {
     "name": "stdout",
     "output_type": "stream",
     "text": [
      "Welcome to course\n"
     ]
    }
   ],
   "source": [
    "#5. create a single string from all the elements\n",
    "a = ['Welcome', 'to', 'course']\n",
    "print(\" \".join(a))"
   ]
  },
  {
   "cell_type": "code",
   "execution_count": 1,
   "metadata": {},
   "outputs": [
    {
     "name": "stdout",
     "output_type": "stream",
     "text": [
      "4\n"
     ]
    }
   ],
   "source": [
    "#most frequent on the list\n",
    "a = [1, 2, 3, 4, 2, 2, 3, 1, 4, 4, 4]\n",
    "print(max(set(a), key = a.count))"
   ]
  },
  {
   "cell_type": "code",
   "execution_count": null,
   "metadata": {},
   "outputs": [],
   "source": []
  }
 ],
 "metadata": {
  "kernelspec": {
   "display_name": "Python 3 (ipykernel)",
   "language": "python",
   "name": "python3"
  },
  "language_info": {
   "codemirror_mode": {
    "name": "ipython",
    "version": 3
   },
   "file_extension": ".py",
   "mimetype": "text/x-python",
   "name": "python",
   "nbconvert_exporter": "python",
   "pygments_lexer": "ipython3",
   "version": "3.8.13"
  },
  "vscode": {
   "interpreter": {
    "hash": "cd9a4283349c703bc36b99dbd270cccad3a9bb01ea9d027e376b4fc3c4f425a2"
   }
  }
 },
 "nbformat": 4,
 "nbformat_minor": 4
}
