{
 "cells": [
  {
   "cell_type": "markdown",
   "id": "567a7992-9690-465c-93d9-8a42709ed62d",
   "metadata": {},
   "source": [
    "## Advanced Python\n",
    "\n",
    "* Iterators and Generators\n",
    "* Decorators\n",
    "* Shallow and Deep Copying\n",
    "* Asterisk Operator\n",
    "* Threading and Multiprocessing\n"
   ]
  }
 ],
 "metadata": {
  "kernelspec": {
   "display_name": "datascience",
   "language": "python",
   "name": "datascience"
  },
  "language_info": {
   "codemirror_mode": {
    "name": "ipython",
    "version": 3
   },
   "file_extension": ".py",
   "mimetype": "text/x-python",
   "name": "python",
   "nbconvert_exporter": "python",
   "pygments_lexer": "ipython3",
   "version": "3.9.13"
  }
 },
 "nbformat": 4,
 "nbformat_minor": 5
}
