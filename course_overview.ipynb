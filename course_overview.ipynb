{
 "cells": [
  {
   "cell_type": "markdown",
   "metadata": {
    "tags": []
   },
   "source": [
    "## ML-22 Course Overview\n",
    "\n",
    "----\n",
    "**Prerequiste**    \n",
    "Week 0 - Python Fundamentals  \n",
    "Week 1 - Python for data science  \n",
    "Week 2 - Maths for Machine Learning  \n",
    "Week 3 - Statistics for Machine Learning  \n",
    "\n",
    "----\n",
    "**Tree based Algorithms**    \n",
    "Week 4 - Decision Tree  \n",
    "Week 5 - Random Forest  \n",
    "Week 6 - Boosting Algorithms-I  \n",
    "Week 7 - Boosting Algorithms-II  \n",
    "\n",
    "----\n",
    "**Linear algorithms**    \n",
    "Week 8 - Linear Regression   \n",
    "Week 9 - Logistic Regression    \n",
    "\n",
    "-----\n",
    "**Unsupervised Algorithms**    \n",
    "Week 10 - Clustering Algorithms-I  \n",
    "Week 11 - Clustering Algorithms-II  \n",
    "Week 12 - SVD and PCA   \n",
    "\n",
    "-----\n",
    "**Other Machine Learning Algorithms**     \n",
    "Week 13 - KNN  \n",
    "Week 14 - SVM  \n",
    "Week 15 - Naive Bayes  \n",
    "Week 16 - Neural Networks  \n",
    "\n",
    "----\n",
    "**Competitive Data Science**  \n",
    "Week 17 - Competitive Data Science  \n",
    "Week 18 - Competitive Data Science   \n",
    "Week 19 - Competitive Data Science  \n",
    "Week 20 - Competitive Data Science  "
   ]
  },
  {
   "cell_type": "markdown",
   "metadata": {},
   "source": [
    "## Week 0 & 1 - Python Fundamentals\n",
    "1. Data structure \n",
    "2. Flow Control  \n",
    "3. Functions  \n",
    "4. OOPS concept  \n",
    "5. Advanced Python  [Generators Iterators and Decorators]\n",
    "6. Numpy   \n",
    "7. Pandas  \n",
    "8. Matplotlib  "
   ]
  },
  {
   "cell_type": "markdown",
   "metadata": {},
   "source": [
    "## Week 2- Maths for Machine Learning[In Progress]\n",
    "1. Matrices\n",
    "2. Differentiation   \n",
    "3. Calculus  "
   ]
  },
  {
   "cell_type": "markdown",
   "metadata": {},
   "source": [
    "## Week 3- Statistics for Machine Learning  [In Progress]\n",
    "1. Sampling Distributions and PMF CLT etc. \n",
    "2. Hypothesis Testing, Confidence Interval, Power\n",
    "3. Different types of tests   \n",
    "4. ANOVA   \n",
    "5. A/B Testing  "
   ]
  },
  {
   "cell_type": "markdown",
   "metadata": {},
   "source": [
    "----------------------------------------------------------------\n",
    "Approach to learn about any algorithm is  like :-\n",
    "\n",
    "* Step1 - Learn basics of algorithms in easy language(from blog or videos)\n",
    "* Step2 - Refer book and learn about theory in details and maths\n",
    "* Step3 - Write Algorithm from scratch \n",
    "* Step4 - Use `scikitlearn` library for creating a pipeline (with cross validation) for algorithm (using example toy dataset)\n",
    "* Step5 - learn hyperparameter tuning for algorithm with different search techniques (grid, random and bayesian etc.)\n",
    "* Step6 - learn about pros and cons of algorithms\n"
   ]
  },
  {
   "cell_type": "markdown",
   "metadata": {},
   "source": [
    "## Week 4- Tree Based Algorithms\n",
    "Coming Soon"
   ]
  }
 ],
 "metadata": {
  "kernelspec": {
   "display_name": "Python 3 (ipykernel)",
   "language": "python",
   "name": "python3"
  },
  "language_info": {
   "codemirror_mode": {
    "name": "ipython",
    "version": 3
   },
   "file_extension": ".py",
   "mimetype": "text/x-python",
   "name": "python",
   "nbconvert_exporter": "python",
   "pygments_lexer": "ipython3",
   "version": "3.10.2"
  },
  "vscode": {
   "interpreter": {
    "hash": "cd9a4283349c703bc36b99dbd270cccad3a9bb01ea9d027e376b4fc3c4f425a2"
   }
  }
 },
 "nbformat": 4,
 "nbformat_minor": 4
}
