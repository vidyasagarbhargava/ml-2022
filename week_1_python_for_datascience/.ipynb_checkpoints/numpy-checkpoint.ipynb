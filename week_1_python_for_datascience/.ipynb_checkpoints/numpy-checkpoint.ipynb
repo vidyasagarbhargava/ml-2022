{
 "cells": [
  {
   "cell_type": "markdown",
   "id": "116c45fd-e97f-4abe-bafd-a1825126e87e",
   "metadata": {},
   "source": [
    "## Numpy Introduction \n",
    "Numpy is core library for scientific computing in python. It provides high performance in nd-array operations.\n",
    "\n",
    "\n",
    "**Use cases of numpy** :-  \n",
    "\n",
    "* Array/Matrix operation -Linear Algebra\n",
    "* Dot Product  \n",
    "* Matrix Multiplication  \n",
    "* Linear System  \n",
    "* Inverse, Determinant  \n",
    "* EigenVectors    \n",
    "* Random Numbers  \n",
    "* Working with images represent as array  "
   ]
  },
  {
   "cell_type": "markdown",
   "id": "a42daa72-7bcc-40d9-99df-22f41b542994",
   "metadata": {},
   "source": [
    "### Basics"
   ]
  },
  {
   "cell_type": "code",
   "execution_count": 1,
   "id": "4b2ce6ed-2bb6-4ef9-9c1a-342a80481651",
   "metadata": {},
   "outputs": [
    {
     "name": "stdout",
     "output_type": "stream",
     "text": [
      "1.23.1\n"
     ]
    }
   ],
   "source": [
    "import numpy as np\n",
    "print(np.__version__)"
   ]
  },
  {
   "cell_type": "code",
   "execution_count": 2,
   "id": "a9a196e0-de9c-45e5-bae4-de7a010d10de",
   "metadata": {},
   "outputs": [
    {
     "name": "stdout",
     "output_type": "stream",
     "text": [
      "[1 2 3]\n",
      "(3,)\n"
     ]
    }
   ],
   "source": [
    "a = np.array([1,2,3])\n",
    "print(a)\n",
    "print(a.shape)"
   ]
  },
  {
   "cell_type": "markdown",
   "id": "cafabb96-dcc2-40c5-ae96-13264901a40a",
   "metadata": {},
   "source": [
    ">Shape represents that its one dimension with 3 elements. "
   ]
  },
  {
   "cell_type": "code",
   "execution_count": 8,
   "id": "e9c0d354-9e85-4072-955d-28275e394770",
   "metadata": {},
   "outputs": [
    {
     "data": {
      "text/plain": [
       "dtype('int64')"
      ]
     },
     "execution_count": 8,
     "metadata": {},
     "output_type": "execute_result"
    }
   ],
   "source": [
    "#to check datatype\n",
    "a.dtype"
   ]
  },
  {
   "cell_type": "code",
   "execution_count": 9,
   "id": "0a5eb3f7-78e5-4077-81bd-c334fa54b9e9",
   "metadata": {},
   "outputs": [
    {
     "data": {
      "text/plain": [
       "1"
      ]
     },
     "execution_count": 9,
     "metadata": {},
     "output_type": "execute_result"
    }
   ],
   "source": [
    "#also to check the dimensions\n",
    "a.ndim"
   ]
  },
  {
   "cell_type": "code",
   "execution_count": 10,
   "id": "2fda8f18-8af8-42c0-be53-e79ddcd5814b",
   "metadata": {},
   "outputs": [
    {
     "data": {
      "text/plain": [
       "3"
      ]
     },
     "execution_count": 10,
     "metadata": {},
     "output_type": "execute_result"
    }
   ],
   "source": [
    "#to present the number of element\n",
    "a.size"
   ]
  },
  {
   "cell_type": "code",
   "execution_count": 11,
   "id": "a69c2893-9b27-4192-ba30-83f57a85109a",
   "metadata": {},
   "outputs": [
    {
     "data": {
      "text/plain": [
       "8"
      ]
     },
     "execution_count": 11,
     "metadata": {},
     "output_type": "execute_result"
    }
   ],
   "source": [
    "#to return size in bytes for each element\n",
    "a.itemsize"
   ]
  },
  {
   "cell_type": "code",
   "execution_count": 14,
   "id": "74d6104b-0f41-43e8-9e70-759e9330bfb9",
   "metadata": {},
   "outputs": [
    {
     "data": {
      "text/plain": [
       "3"
      ]
     },
     "execution_count": 14,
     "metadata": {},
     "output_type": "execute_result"
    }
   ],
   "source": [
    "# to access different element\n",
    "a[2]"
   ]
  },
  {
   "cell_type": "code",
   "execution_count": 16,
   "id": "275309ed-9503-4c53-bca0-ab18e5aa7f46",
   "metadata": {},
   "outputs": [
    {
     "name": "stdout",
     "output_type": "stream",
     "text": [
      "[1 2 3]\n",
      "[2 0 9]\n"
     ]
    }
   ],
   "source": [
    "#mathematical operation\n",
    "\n",
    "b = a* np.array([2,0,3])\n",
    "print(a)\n",
    "print(b)"
   ]
  },
  {
   "cell_type": "markdown",
   "id": "87617b36-34ef-4482-89fa-a1dbd64f7bed",
   "metadata": {},
   "source": [
    "### Dot product\n",
    "dot product is sum of the products of the corresponding enteries."
   ]
  },
  {
   "cell_type": "code",
   "execution_count": 18,
   "id": "423fe2f0-6b3a-486c-936c-396b4edb8892",
   "metadata": {},
   "outputs": [
    {
     "data": {
      "text/plain": [
       "32"
      ]
     },
     "execution_count": 18,
     "metadata": {},
     "output_type": "execute_result"
    }
   ],
   "source": [
    "# lets take example with list\n",
    "l1 = [1,2,3]\n",
    "l2 = [4,5,6]\n",
    "\n",
    "dot = 0\n",
    "\n",
    "for i in range(len(l1)):\n",
    "    dot += l1[i]*l2[i]\n",
    "dot"
   ]
  },
  {
   "cell_type": "code",
   "execution_count": 19,
   "id": "fd0a1ff1-9ff2-46a6-a279-1cbb6b5b8df1",
   "metadata": {},
   "outputs": [
    {
     "data": {
      "text/plain": [
       "32"
      ]
     },
     "execution_count": 19,
     "metadata": {},
     "output_type": "execute_result"
    }
   ],
   "source": [
    "#its much easier and faster with numpy\n",
    "\n",
    "a1 = np.array([1,2,3])\n",
    "a2 = np.array([4,5,6])\n",
    "\n",
    "dot = np.dot(a1,a2)\n",
    "dot# "
   ]
  },
  {
   "cell_type": "code",
   "execution_count": 20,
   "id": "cb8696e1-75c6-4a31-bbac-455a9f760877",
   "metadata": {},
   "outputs": [
    {
     "data": {
      "text/plain": [
       "32"
      ]
     },
     "execution_count": 20,
     "metadata": {},
     "output_type": "execute_result"
    }
   ],
   "source": [
    "# other way doing the same things\n",
    "\n",
    "sum1 = a1*a2\n",
    "dot = np.sum(sum1)\n",
    "dot"
   ]
  },
  {
   "cell_type": "code",
   "execution_count": 21,
   "id": "d8501f6d-5bb4-4981-ac6b-781879c6e5ca",
   "metadata": {},
   "outputs": [
    {
     "data": {
      "text/plain": [
       "32"
      ]
     },
     "execution_count": 21,
     "metadata": {},
     "output_type": "execute_result"
    }
   ],
   "source": [
    "# other cool way to do dot product is using @ sign\n",
    "\n",
    "dot = a1 @ a2\n",
    "dot"
   ]
  },
  {
   "cell_type": "markdown",
   "id": "343aa906-8dc5-4309-9b2a-794f6727ef93",
   "metadata": {},
   "source": [
    "### Multi-dimensional array"
   ]
  },
  {
   "cell_type": "code",
   "execution_count": 26,
   "id": "5cdea807-ba61-4604-beb5-f877be474b1f",
   "metadata": {},
   "outputs": [
    {
     "data": {
      "text/plain": [
       "array([[1, 2, 6],\n",
       "       [3, 4, 7]])"
      ]
     },
     "execution_count": 26,
     "metadata": {},
     "output_type": "execute_result"
    }
   ],
   "source": [
    "a = np.array([[1,2,6],[3,4,7]])\n",
    "a"
   ]
  },
  {
   "cell_type": "code",
   "execution_count": 27,
   "id": "7d078f0c-bd16-4bd8-a909-55a0491b5440",
   "metadata": {},
   "outputs": [
    {
     "data": {
      "text/plain": [
       "(2, 3)"
      ]
     },
     "execution_count": 27,
     "metadata": {},
     "output_type": "execute_result"
    }
   ],
   "source": [
    "a.shape"
   ]
  },
  {
   "cell_type": "markdown",
   "id": "6cfc23ea-4f36-4501-b706-8ded47ec661c",
   "metadata": {},
   "source": [
    "> It represent 2 rows and 3 columns"
   ]
  },
  {
   "cell_type": "code",
   "execution_count": 29,
   "id": "88a5ff96-47b6-4353-8b1b-f50b86d2d47b",
   "metadata": {},
   "outputs": [
    {
     "data": {
      "text/plain": [
       "array([1, 2, 6])"
      ]
     },
     "execution_count": 29,
     "metadata": {},
     "output_type": "execute_result"
    }
   ],
   "source": [
    "a[0]"
   ]
  },
  {
   "cell_type": "code",
   "execution_count": 30,
   "id": "2fae6ce8-b60e-4ce5-b914-ec957c867a2b",
   "metadata": {},
   "outputs": [
    {
     "data": {
      "text/plain": [
       "1"
      ]
     },
     "execution_count": 30,
     "metadata": {},
     "output_type": "execute_result"
    }
   ],
   "source": [
    "a[0][0]"
   ]
  },
  {
   "cell_type": "code",
   "execution_count": 33,
   "id": "e5fc772f-8d3d-4bb4-9fb6-8d8f7075412f",
   "metadata": {},
   "outputs": [
    {
     "data": {
      "text/plain": [
       "1"
      ]
     },
     "execution_count": 33,
     "metadata": {},
     "output_type": "execute_result"
    }
   ],
   "source": [
    "#also we can use like this to access first element\n",
    "a[0,0]"
   ]
  },
  {
   "cell_type": "code",
   "execution_count": 34,
   "id": "467560be-fb4a-4ba8-b3d7-aa6f3084e477",
   "metadata": {},
   "outputs": [
    {
     "data": {
      "text/plain": [
       "array([1, 3])"
      ]
     },
     "execution_count": 34,
     "metadata": {},
     "output_type": "execute_result"
    }
   ],
   "source": [
    "# all the rows and column 0\n",
    "a[:, 0]"
   ]
  },
  {
   "cell_type": "code",
   "execution_count": 35,
   "id": "3d9d937d-e988-42f2-9902-64a7eb5da171",
   "metadata": {},
   "outputs": [
    {
     "data": {
      "text/plain": [
       "array([[1, 3],\n",
       "       [2, 4],\n",
       "       [6, 7]])"
      ]
     },
     "execution_count": 35,
     "metadata": {},
     "output_type": "execute_result"
    }
   ],
   "source": [
    "#transpose\n",
    "a.T"
   ]
  },
  {
   "cell_type": "code",
   "execution_count": 36,
   "id": "465b3a77-1d35-475f-b0bb-2aa17d29fc3f",
   "metadata": {},
   "outputs": [
    {
     "data": {
      "text/plain": [
       "array([[-2. ,  1. ],\n",
       "       [ 1.5, -0.5]])"
      ]
     },
     "execution_count": 36,
     "metadata": {},
     "output_type": "execute_result"
    }
   ],
   "source": [
    "#inverse of an array (array must be square)\n",
    "a = np.array([[1,2], [3,4]])\n",
    "np.linalg.inv(a)"
   ]
  },
  {
   "cell_type": "code",
   "execution_count": 37,
   "id": "b719e0d0-0508-4f6d-b46a-e908865b1066",
   "metadata": {},
   "outputs": [
    {
     "data": {
      "text/plain": [
       "-2.0000000000000004"
      ]
     },
     "execution_count": 37,
     "metadata": {},
     "output_type": "execute_result"
    }
   ],
   "source": [
    "# determinant\n",
    "np.linalg.det(a)"
   ]
  },
  {
   "cell_type": "code",
   "execution_count": 40,
   "id": "693bc3ad-5859-4d36-8d80-c3b7b5078b6f",
   "metadata": {},
   "outputs": [
    {
     "data": {
      "text/plain": [
       "array([[1, 0],\n",
       "       [0, 4]])"
      ]
     },
     "execution_count": 40,
     "metadata": {},
     "output_type": "execute_result"
    }
   ],
   "source": [
    "# diagonal matrix\n",
    "\n",
    "c = np.diag(a)\n",
    "np.diag(c)"
   ]
  },
  {
   "cell_type": "markdown",
   "id": "3231a17a-9d96-4f1b-ba6e-bfda70a67a03",
   "metadata": {},
   "source": [
    "### Indexing and Slicing"
   ]
  },
  {
   "cell_type": "code",
   "execution_count": 41,
   "id": "0a563745-88ba-41a1-9e7e-0f31eef8c0fb",
   "metadata": {},
   "outputs": [
    {
     "data": {
      "text/plain": [
       "array([[1, 2],\n",
       "       [3, 4]])"
      ]
     },
     "execution_count": 41,
     "metadata": {},
     "output_type": "execute_result"
    }
   ],
   "source": [
    "a = np.array([[1,2],[3,4]])\n",
    "a\n"
   ]
  },
  {
   "cell_type": "code",
   "execution_count": 42,
   "id": "85f6eacc-73d4-483e-9ba2-54580a7d6a97",
   "metadata": {},
   "outputs": [
    {
     "data": {
      "text/plain": [
       "2"
      ]
     },
     "execution_count": 42,
     "metadata": {},
     "output_type": "execute_result"
    }
   ],
   "source": [
    "a[0,1]"
   ]
  },
  {
   "cell_type": "code",
   "execution_count": 43,
   "id": "50b4884f-1398-47f5-b330-76c0f228f9fb",
   "metadata": {},
   "outputs": [
    {
     "data": {
      "text/plain": [
       "array([2, 3])"
      ]
     },
     "execution_count": 43,
     "metadata": {},
     "output_type": "execute_result"
    }
   ],
   "source": [
    "a = np.array([[1,2,3,4],[3,4,5,6]])\n",
    "a[0, 1:3]"
   ]
  },
  {
   "cell_type": "code",
   "execution_count": 44,
   "id": "5daa733c-22b7-4b2b-a5ec-c865fc6f2fb3",
   "metadata": {},
   "outputs": [
    {
     "data": {
      "text/plain": [
       "array([2, 4])"
      ]
     },
     "execution_count": 44,
     "metadata": {},
     "output_type": "execute_result"
    }
   ],
   "source": [
    "a[:, 1]"
   ]
  },
  {
   "cell_type": "code",
   "execution_count": 45,
   "id": "e9009dcb-a69e-4bca-9fbc-1406d09b9fb4",
   "metadata": {},
   "outputs": [
    {
     "data": {
      "text/plain": [
       "6"
      ]
     },
     "execution_count": 45,
     "metadata": {},
     "output_type": "execute_result"
    }
   ],
   "source": [
    "a[-1,-1]"
   ]
  },
  {
   "cell_type": "code",
   "execution_count": 46,
   "id": "93590030-6d58-4167-896f-cc81c278061e",
   "metadata": {},
   "outputs": [
    {
     "data": {
      "text/plain": [
       "array([4, 6])"
      ]
     },
     "execution_count": 46,
     "metadata": {},
     "output_type": "execute_result"
    }
   ],
   "source": [
    "a[:,-1]"
   ]
  },
  {
   "cell_type": "code",
   "execution_count": 49,
   "id": "f9fff889-7f25-4ef0-a45a-2444848bb5db",
   "metadata": {},
   "outputs": [
    {
     "data": {
      "text/plain": [
       "array([3, 4, 5, 6])"
      ]
     },
     "execution_count": 49,
     "metadata": {},
     "output_type": "execute_result"
    }
   ],
   "source": [
    "# Boolean indexing\n",
    "a = np.array([[1,2],[3,4],[5,6]])\n",
    "a[a>2]"
   ]
  },
  {
   "cell_type": "code",
   "execution_count": 51,
   "id": "0f5abe69-2f00-4f9e-9d4a-c722d0f2ce99",
   "metadata": {},
   "outputs": [
    {
     "data": {
      "text/plain": [
       "array([[-1, -1],\n",
       "       [ 3,  4],\n",
       "       [ 5,  6]])"
      ]
     },
     "execution_count": 51,
     "metadata": {},
     "output_type": "execute_result"
    }
   ],
   "source": [
    "# using where\n",
    "np.where(a>2, a, -1)"
   ]
  },
  {
   "cell_type": "code",
   "execution_count": 53,
   "id": "4eaabbc7-167c-4c71-8d55-97bcbb0edc1a",
   "metadata": {},
   "outputs": [
    {
     "data": {
      "text/plain": [
       "array([19, 41, 67])"
      ]
     },
     "execution_count": 53,
     "metadata": {},
     "output_type": "execute_result"
    }
   ],
   "source": [
    "# fancy indexing\n",
    "\n",
    "a = np.array([10,19,30,41, 59, 67,89])\n",
    "b = [1,3,5]\n",
    "a[b]"
   ]
  },
  {
   "cell_type": "code",
   "execution_count": 54,
   "id": "52f531e7-c3bf-438e-95de-c8dd9ecfe5bd",
   "metadata": {},
   "outputs": [
    {
     "data": {
      "text/plain": [
       "array([10, 30])"
      ]
     },
     "execution_count": 54,
     "metadata": {},
     "output_type": "execute_result"
    }
   ],
   "source": [
    "a = np.array([10,19,30,41, 59, 67,89])\n",
    "even = np.argwhere(a%2==0).flatten()\n",
    "a[even]"
   ]
  },
  {
   "cell_type": "code",
   "execution_count": 57,
   "id": "f68c10fa-5cbb-43d1-9c85-2454293177c5",
   "metadata": {},
   "outputs": [
    {
     "name": "stdout",
     "output_type": "stream",
     "text": [
      "[1 2 3 4 5 6]\n"
     ]
    },
    {
     "data": {
      "text/plain": [
       "(6,)"
      ]
     },
     "execution_count": 57,
     "metadata": {},
     "output_type": "execute_result"
    }
   ],
   "source": [
    "# reshape array\n",
    "\n",
    "a = np.arange(1,7)\n",
    "print(a)\n",
    "a.shape"
   ]
  },
  {
   "cell_type": "code",
   "execution_count": 58,
   "id": "60f8708f-3aba-4ea3-8fd2-256085c1836a",
   "metadata": {},
   "outputs": [
    {
     "name": "stdout",
     "output_type": "stream",
     "text": [
      "[[1 2 3]\n",
      " [4 5 6]]\n",
      "(2, 3)\n"
     ]
    }
   ],
   "source": [
    "b = a.reshape(2,3)\n",
    "print(b)\n",
    "print(b.shape)"
   ]
  },
  {
   "cell_type": "code",
   "execution_count": 62,
   "id": "0ac5278a-114b-4e58-851e-5d232713d240",
   "metadata": {},
   "outputs": [
    {
     "name": "stdout",
     "output_type": "stream",
     "text": [
      "(6,)\n",
      "(1, 6)\n"
     ]
    }
   ],
   "source": [
    "# create new axis in data (needed when data requied in certain manner for ml model)\n",
    "\n",
    "print(a.shape)\n",
    "b = a[np.newaxis, :]\n",
    "print(b.shape)"
   ]
  },
  {
   "cell_type": "code",
   "execution_count": 64,
   "id": "f5ec1d05-4bfa-4ca3-8a72-02780070208e",
   "metadata": {},
   "outputs": [
    {
     "name": "stdout",
     "output_type": "stream",
     "text": [
      "(6, 1)\n"
     ]
    }
   ],
   "source": [
    "b = a[:,np.newaxis]\n",
    "print(b.shape)"
   ]
  },
  {
   "cell_type": "markdown",
   "id": "e5ea2d27-0180-435b-a11e-390b7c6dbca3",
   "metadata": {},
   "source": [
    "### concatenation"
   ]
  },
  {
   "cell_type": "code",
   "execution_count": 67,
   "id": "8e3a5e84-188c-4ecf-8713-44c31bdd1b8b",
   "metadata": {},
   "outputs": [
    {
     "data": {
      "text/plain": [
       "array([[1, 2],\n",
       "       [3, 4],\n",
       "       [5, 6]])"
      ]
     },
     "execution_count": 67,
     "metadata": {},
     "output_type": "execute_result"
    }
   ],
   "source": [
    "a = np.array([[1,2], [3,4]])\n",
    "b = np.array([[5,6]])\n",
    "\n",
    "c = np.concatenate((a,b), axis=0)\n",
    "c\n"
   ]
  },
  {
   "cell_type": "code",
   "execution_count": 68,
   "id": "e57713ee-da19-43fe-8d2a-9dab9c80ff36",
   "metadata": {},
   "outputs": [
    {
     "data": {
      "text/plain": [
       "array([1, 2, 3, 4, 5, 6])"
      ]
     },
     "execution_count": 68,
     "metadata": {},
     "output_type": "execute_result"
    }
   ],
   "source": [
    "c = np.concatenate((a,b), axis=None)\n",
    "c"
   ]
  },
  {
   "cell_type": "code",
   "execution_count": 69,
   "id": "a56ff1a9-e09b-491d-a37e-0400b5cc46f7",
   "metadata": {},
   "outputs": [
    {
     "ename": "ValueError",
     "evalue": "all the input array dimensions for the concatenation axis must match exactly, but along dimension 0, the array at index 0 has size 2 and the array at index 1 has size 1",
     "output_type": "error",
     "traceback": [
      "\u001b[0;31m---------------------------------------------------------------------------\u001b[0m",
      "\u001b[0;31mValueError\u001b[0m                                Traceback (most recent call last)",
      "Cell \u001b[0;32mIn [69], line 1\u001b[0m\n\u001b[0;32m----> 1\u001b[0m c \u001b[38;5;241m=\u001b[39m \u001b[43mnp\u001b[49m\u001b[38;5;241;43m.\u001b[39;49m\u001b[43mconcatenate\u001b[49m\u001b[43m(\u001b[49m\u001b[43m(\u001b[49m\u001b[43ma\u001b[49m\u001b[43m,\u001b[49m\u001b[43mb\u001b[49m\u001b[43m)\u001b[49m\u001b[43m,\u001b[49m\u001b[43m \u001b[49m\u001b[43maxis\u001b[49m\u001b[38;5;241;43m=\u001b[39;49m\u001b[38;5;241;43m1\u001b[39;49m\u001b[43m)\u001b[49m\n\u001b[1;32m      2\u001b[0m c\n",
      "File \u001b[0;32m<__array_function__ internals>:180\u001b[0m, in \u001b[0;36mconcatenate\u001b[0;34m(*args, **kwargs)\u001b[0m\n",
      "\u001b[0;31mValueError\u001b[0m: all the input array dimensions for the concatenation axis must match exactly, but along dimension 0, the array at index 0 has size 2 and the array at index 1 has size 1"
     ]
    }
   ],
   "source": [
    "c = np.concatenate((a,b), axis=1)\n",
    "c"
   ]
  },
  {
   "cell_type": "code",
   "execution_count": 70,
   "id": "f6777440-8368-4e06-8f44-7241c54e88e0",
   "metadata": {},
   "outputs": [
    {
     "data": {
      "text/plain": [
       "array([[1, 2, 5],\n",
       "       [3, 4, 6]])"
      ]
     },
     "execution_count": 70,
     "metadata": {},
     "output_type": "execute_result"
    }
   ],
   "source": [
    "c = np.concatenate((a,b.T), axis=1)\n",
    "c"
   ]
  },
  {
   "cell_type": "code",
   "execution_count": 71,
   "id": "fc722142-7542-44c4-83b7-688c43482554",
   "metadata": {},
   "outputs": [
    {
     "data": {
      "text/plain": [
       "array([1, 2, 3, 4, 5, 6, 7, 8])"
      ]
     },
     "execution_count": 71,
     "metadata": {},
     "output_type": "execute_result"
    }
   ],
   "source": [
    "#hstack\n",
    "a = np.array([1,2,3,4])\n",
    "b = np.array([5,6,7,8])\n",
    "\n",
    "c = np.hstack((a,b))\n",
    "c"
   ]
  },
  {
   "cell_type": "code",
   "execution_count": 72,
   "id": "fe4d5dde-c654-437f-a433-60646c60ef77",
   "metadata": {},
   "outputs": [
    {
     "data": {
      "text/plain": [
       "array([[1, 2, 3, 4],\n",
       "       [5, 6, 7, 8]])"
      ]
     },
     "execution_count": 72,
     "metadata": {},
     "output_type": "execute_result"
    }
   ],
   "source": [
    "#vstack\n",
    "c = np.vstack((a,b))\n",
    "c"
   ]
  },
  {
   "cell_type": "markdown",
   "id": "7be7342f-a293-4f58-85ff-4a6127b56ca8",
   "metadata": {},
   "source": [
    "### broadcasting\n"
   ]
  },
  {
   "cell_type": "code",
   "execution_count": 75,
   "id": "a9c5cecc-ed3c-492d-a00e-e178fe7452f1",
   "metadata": {},
   "outputs": [
    {
     "data": {
      "text/plain": [
       "array([[ 2,  2,  4],\n",
       "       [ 4,  4,  7],\n",
       "       [ 6,  6,  8],\n",
       "       [ 8,  8, 10]])"
      ]
     },
     "execution_count": 75,
     "metadata": {},
     "output_type": "execute_result"
    }
   ],
   "source": [
    "x = np.array([[1,2,3],[3,4,6],[5,6,7],[7,8,9]])\n",
    "a = np.array([1,0,1])\n",
    "y = x + a\n",
    "y"
   ]
  },
  {
   "cell_type": "markdown",
   "id": "6cd6288f-8f51-459c-85f0-f4bc3a2b0cad",
   "metadata": {},
   "source": [
    "### copying"
   ]
  },
  {
   "cell_type": "code",
   "execution_count": 76,
   "id": "be315745-3812-441a-939c-e775cf61d8cb",
   "metadata": {},
   "outputs": [
    {
     "name": "stdout",
     "output_type": "stream",
     "text": [
      "[1 2 3 4]\n"
     ]
    }
   ],
   "source": [
    "a= np.array([1,2,3,4])\n",
    "b = a\n",
    "print(b)"
   ]
  },
  {
   "cell_type": "code",
   "execution_count": 77,
   "id": "8ab3983e-39da-46a9-979f-6f56651a3e59",
   "metadata": {},
   "outputs": [
    {
     "data": {
      "text/plain": [
       "array([ 1,  2, 34,  4])"
      ]
     },
     "execution_count": 77,
     "metadata": {},
     "output_type": "execute_result"
    }
   ],
   "source": [
    "b[2]=34\n",
    "b"
   ]
  },
  {
   "cell_type": "code",
   "execution_count": 78,
   "id": "dcaa7cee-0e05-490a-b8f5-3f01b0e84ff7",
   "metadata": {},
   "outputs": [
    {
     "data": {
      "text/plain": [
       "array([ 1,  2, 34,  4])"
      ]
     },
     "execution_count": 78,
     "metadata": {},
     "output_type": "execute_result"
    }
   ],
   "source": [
    "a"
   ]
  },
  {
   "cell_type": "code",
   "execution_count": 79,
   "id": "a1219fef-1d95-4648-a1f9-e9e3174603a0",
   "metadata": {},
   "outputs": [
    {
     "data": {
      "text/plain": [
       "array([1, 2, 3, 4])"
      ]
     },
     "execution_count": 79,
     "metadata": {},
     "output_type": "execute_result"
    }
   ],
   "source": [
    "a= np.array([1,2,3,4])\n",
    "b = a.copy()\n",
    "b[2]=45\n",
    "a"
   ]
  },
  {
   "cell_type": "markdown",
   "id": "e5e3239a-25d3-41bb-980d-543cdfe9fb58",
   "metadata": {},
   "source": [
    "### generating data"
   ]
  },
  {
   "cell_type": "code",
   "execution_count": 80,
   "id": "0a0275aa-99b4-4d14-a532-8cab55238d64",
   "metadata": {},
   "outputs": [
    {
     "data": {
      "text/plain": [
       "array([[0., 0., 0.],\n",
       "       [0., 0., 0.]])"
      ]
     },
     "execution_count": 80,
     "metadata": {},
     "output_type": "execute_result"
    }
   ],
   "source": [
    "np.zeros((2,3))"
   ]
  },
  {
   "cell_type": "code",
   "execution_count": 81,
   "id": "14099af8-2722-41ed-abad-c673fbf89ea7",
   "metadata": {},
   "outputs": [
    {
     "data": {
      "text/plain": [
       "array([[1., 1., 1.],\n",
       "       [1., 1., 1.]])"
      ]
     },
     "execution_count": 81,
     "metadata": {},
     "output_type": "execute_result"
    }
   ],
   "source": [
    "np.ones((2,3))"
   ]
  },
  {
   "cell_type": "code",
   "execution_count": 82,
   "id": "2bf119e6-aa34-4416-a621-a747beb561bd",
   "metadata": {},
   "outputs": [
    {
     "data": {
      "text/plain": [
       "array([[5., 5., 5.],\n",
       "       [5., 5., 5.]])"
      ]
     },
     "execution_count": 82,
     "metadata": {},
     "output_type": "execute_result"
    }
   ],
   "source": [
    "np.full((2,3), 5.0)"
   ]
  },
  {
   "cell_type": "code",
   "execution_count": 83,
   "id": "17c2ff8b-92bc-4cf4-b28d-fd8c4ab9fd1e",
   "metadata": {},
   "outputs": [
    {
     "data": {
      "text/plain": [
       "array([[1., 0., 0., 0., 0.],\n",
       "       [0., 1., 0., 0., 0.],\n",
       "       [0., 0., 1., 0., 0.],\n",
       "       [0., 0., 0., 1., 0.],\n",
       "       [0., 0., 0., 0., 1.]])"
      ]
     },
     "execution_count": 83,
     "metadata": {},
     "output_type": "execute_result"
    }
   ],
   "source": [
    "np.eye(5)"
   ]
  },
  {
   "cell_type": "code",
   "execution_count": 84,
   "id": "7bcf02bd-d406-4ba4-b3e7-17bf22aea849",
   "metadata": {},
   "outputs": [
    {
     "data": {
      "text/plain": [
       "array([0, 1, 2, 3, 4, 5, 6, 7, 8, 9])"
      ]
     },
     "execution_count": 84,
     "metadata": {},
     "output_type": "execute_result"
    }
   ],
   "source": [
    "np.arange(10)"
   ]
  },
  {
   "cell_type": "code",
   "execution_count": 85,
   "id": "65858f18-8673-4661-a866-29be9e8510a4",
   "metadata": {},
   "outputs": [
    {
     "data": {
      "text/plain": [
       "array([ 0. ,  2.5,  5. ,  7.5, 10. ])"
      ]
     },
     "execution_count": 85,
     "metadata": {},
     "output_type": "execute_result"
    }
   ],
   "source": [
    "np.linspace(0,10,5)"
   ]
  },
  {
   "cell_type": "code",
   "execution_count": 86,
   "id": "98c6318e-e3f2-4cc5-9876-5f5882bf48c1",
   "metadata": {},
   "outputs": [
    {
     "data": {
      "text/plain": [
       "array([[0.49679915, 0.32271108],\n",
       "       [0.92131496, 0.48058382],\n",
       "       [0.25387429, 0.14374352]])"
      ]
     },
     "execution_count": 86,
     "metadata": {},
     "output_type": "execute_result"
    }
   ],
   "source": [
    "# random number generated from uniform distribution between 0 & 1\n",
    "np.random.random((3,2))"
   ]
  },
  {
   "cell_type": "code",
   "execution_count": 87,
   "id": "1d40c5b4-171b-4b33-8f27-d1aaec32807a",
   "metadata": {},
   "outputs": [
    {
     "data": {
      "text/plain": [
       "array([[ 0.17635836,  0.19335336],\n",
       "       [ 2.3755138 ,  2.13969186],\n",
       "       [-0.08484447,  0.59915081]])"
      ]
     },
     "execution_count": 87,
     "metadata": {},
     "output_type": "execute_result"
    }
   ],
   "source": [
    "# random number generated from gaussian distribution with mean 0 and varinace 1\n",
    "\n",
    "np.random.randn(3,2)"
   ]
  },
  {
   "cell_type": "code",
   "execution_count": 89,
   "id": "7cc3dcfb-2257-429d-95fd-a012a4ae9fa6",
   "metadata": {},
   "outputs": [
    {
     "data": {
      "text/plain": [
       "array([[9, 3, 6],\n",
       "       [7, 9, 6],\n",
       "       [7, 5, 5]])"
      ]
     },
     "execution_count": 89,
     "metadata": {},
     "output_type": "execute_result"
    }
   ],
   "source": [
    "# random integer\n",
    "np.random.randint(3,10, size=(3,3))"
   ]
  },
  {
   "cell_type": "markdown",
   "id": "0b9ec59b-d86d-4f58-8251-fd78fe3ebc66",
   "metadata": {},
   "source": [
    "### Linear Algebra"
   ]
  },
  {
   "cell_type": "code",
   "execution_count": 90,
   "id": "7cf4481a-e24b-457e-9aed-cd7329bdcd7c",
   "metadata": {},
   "outputs": [
    {
     "data": {
      "text/plain": [
       "array([-0.37228132,  5.37228132])"
      ]
     },
     "execution_count": 90,
     "metadata": {},
     "output_type": "execute_result"
    }
   ],
   "source": [
    "a = np.array([[1,2], [3,4]])\n",
    "eigenvalues, eigenvectors = np.linalg.eig(a)\n",
    "eigenvalues"
   ]
  },
  {
   "cell_type": "code",
   "execution_count": 91,
   "id": "c8fd827a-f1a6-4f72-9418-6958fc504c48",
   "metadata": {},
   "outputs": [
    {
     "data": {
      "text/plain": [
       "array([[-0.82456484, -0.41597356],\n",
       "       [ 0.56576746, -0.90937671]])"
      ]
     },
     "execution_count": 91,
     "metadata": {},
     "output_type": "execute_result"
    }
   ],
   "source": [
    "eigenvectors"
   ]
  },
  {
   "cell_type": "markdown",
   "id": "7926733a-45bb-4962-8c4b-79d07bcd9bed",
   "metadata": {},
   "source": [
    " ### Solving linear system"
   ]
  },
  {
   "cell_type": "markdown",
   "id": "6759655c-c076-4a81-b467-77737d7794fd",
   "metadata": {},
   "source": [
    "Ax = b ==> x = (A)^-1b"
   ]
  },
  {
   "cell_type": "code",
   "execution_count": 92,
   "id": "e3579e5d-9c31-4f53-953e-3129f23c3c78",
   "metadata": {},
   "outputs": [
    {
     "data": {
      "text/plain": [
       "array([1500.,  700.])"
      ]
     },
     "execution_count": 92,
     "metadata": {},
     "output_type": "execute_result"
    }
   ],
   "source": [
    "A = np.array([[1,1],[1.5, 4.0]])\n",
    "b = np.array([2200, 5050])\n",
    "\n",
    "x = np.linalg.inv(A).dot(b)\n",
    "x"
   ]
  },
  {
   "cell_type": "code",
   "execution_count": 93,
   "id": "39297e45-59e7-4421-ba37-b9e5b35950ce",
   "metadata": {},
   "outputs": [
    {
     "data": {
      "text/plain": [
       "array([1500.,  700.])"
      ]
     },
     "execution_count": 93,
     "metadata": {},
     "output_type": "execute_result"
    }
   ],
   "source": [
    "# better way (inv is slow above)\n",
    "np.linalg.solve(A,b)"
   ]
  },
  {
   "cell_type": "markdown",
   "id": "1e2d95e0-eb02-4785-879b-e0ac4ccccda9",
   "metadata": {},
   "source": [
    "### load data from csv file into numpy array"
   ]
  },
  {
   "cell_type": "code",
   "execution_count": 96,
   "id": "3bd84ec7-0342-417a-996c-99a2991506df",
   "metadata": {},
   "outputs": [],
   "source": [
    "#np.loadtxt, np.genfromtxt\n",
    "#data = np.loadtxt('filename', delimiter=\",\", dtype=np.float32)\n",
    "#data = np.genfromtxt('filename', delimiter=\",\", dtype=np.float32)\n"
   ]
  },
  {
   "cell_type": "code",
   "execution_count": null,
   "id": "26e32f0a-9b90-4124-a379-ebeaa0430c96",
   "metadata": {},
   "outputs": [],
   "source": []
  }
 ],
 "metadata": {
  "kernelspec": {
   "display_name": "datascience",
   "language": "python",
   "name": "datascience"
  },
  "language_info": {
   "codemirror_mode": {
    "name": "ipython",
    "version": 3
   },
   "file_extension": ".py",
   "mimetype": "text/x-python",
   "name": "python",
   "nbconvert_exporter": "python",
   "pygments_lexer": "ipython3",
   "version": "3.9.13"
  }
 },
 "nbformat": 4,
 "nbformat_minor": 5
}
