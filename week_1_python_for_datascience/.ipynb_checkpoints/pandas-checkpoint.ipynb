{
 "cells": [
  {
   "cell_type": "markdown",
   "id": "e4c0449f-cd3a-4327-a7a3-aa951531c3b3",
   "metadata": {},
   "source": [
    "## Pandas"
   ]
  },
  {
   "cell_type": "code",
   "execution_count": 1,
   "id": "5e7100d2-6f34-4cef-999f-49a1f7f6a67c",
   "metadata": {},
   "outputs": [
    {
     "data": {
      "text/plain": [
       "'1.4.4'"
      ]
     },
     "execution_count": 1,
     "metadata": {},
     "output_type": "execute_result"
    }
   ],
   "source": [
    "import pandas as pd\n",
    "pd.__version__\n"
   ]
  },
  {
   "cell_type": "markdown",
   "id": "b168d7b8-5643-433f-97dc-8ec400b4b345",
   "metadata": {},
   "source": [
    "### Creating Example Data Frame"
   ]
  },
  {
   "cell_type": "code",
   "execution_count": 2,
   "id": "98f0c08c-e7c7-4f28-b10a-1a2edc56ddb8",
   "metadata": {},
   "outputs": [
    {
     "data": {
      "text/html": [
       "<div>\n",
       "<style scoped>\n",
       "    .dataframe tbody tr th:only-of-type {\n",
       "        vertical-align: middle;\n",
       "    }\n",
       "\n",
       "    .dataframe tbody tr th {\n",
       "        vertical-align: top;\n",
       "    }\n",
       "\n",
       "    .dataframe thead th {\n",
       "        text-align: right;\n",
       "    }\n",
       "</style>\n",
       "<table border=\"1\" class=\"dataframe\">\n",
       "  <thead>\n",
       "    <tr style=\"text-align: right;\">\n",
       "      <th></th>\n",
       "      <th>name</th>\n",
       "      <th>age</th>\n",
       "    </tr>\n",
       "  </thead>\n",
       "  <tbody>\n",
       "    <tr>\n",
       "      <th>0</th>\n",
       "      <td>Arjun</td>\n",
       "      <td>30</td>\n",
       "    </tr>\n",
       "    <tr>\n",
       "      <th>1</th>\n",
       "      <td>Nakul</td>\n",
       "      <td>20</td>\n",
       "    </tr>\n",
       "  </tbody>\n",
       "</table>\n",
       "</div>"
      ],
      "text/plain": [
       "    name  age\n",
       "0  Arjun   30\n",
       "1  Nakul   20"
      ]
     },
     "execution_count": 2,
     "metadata": {},
     "output_type": "execute_result"
    }
   ],
   "source": [
    "#way1 \n",
    "df = pd.DataFrame({'name':['Arjun','Nakul'], 'age':[30, 20]})\n",
    "df"
   ]
  },
  {
   "cell_type": "code",
   "execution_count": 3,
   "id": "fb20a9bc-f96c-42d0-beb0-399d317ecba8",
   "metadata": {},
   "outputs": [
    {
     "data": {
      "text/html": [
       "<div>\n",
       "<style scoped>\n",
       "    .dataframe tbody tr th:only-of-type {\n",
       "        vertical-align: middle;\n",
       "    }\n",
       "\n",
       "    .dataframe tbody tr th {\n",
       "        vertical-align: top;\n",
       "    }\n",
       "\n",
       "    .dataframe thead th {\n",
       "        text-align: right;\n",
       "    }\n",
       "</style>\n",
       "<table border=\"1\" class=\"dataframe\">\n",
       "  <thead>\n",
       "    <tr style=\"text-align: right;\">\n",
       "      <th></th>\n",
       "      <th>0</th>\n",
       "      <th>1</th>\n",
       "      <th>2</th>\n",
       "      <th>3</th>\n",
       "      <th>4</th>\n",
       "      <th>5</th>\n",
       "      <th>6</th>\n",
       "      <th>7</th>\n",
       "    </tr>\n",
       "  </thead>\n",
       "  <tbody>\n",
       "    <tr>\n",
       "      <th>0</th>\n",
       "      <td>1.747855</td>\n",
       "      <td>-0.700912</td>\n",
       "      <td>0.020346</td>\n",
       "      <td>1.558285</td>\n",
       "      <td>-0.834884</td>\n",
       "      <td>-0.481627</td>\n",
       "      <td>-0.346287</td>\n",
       "      <td>-1.050106</td>\n",
       "    </tr>\n",
       "    <tr>\n",
       "      <th>1</th>\n",
       "      <td>-0.043994</td>\n",
       "      <td>1.057017</td>\n",
       "      <td>-1.497384</td>\n",
       "      <td>0.116107</td>\n",
       "      <td>0.015264</td>\n",
       "      <td>-0.976520</td>\n",
       "      <td>-0.798251</td>\n",
       "      <td>-1.388520</td>\n",
       "    </tr>\n",
       "    <tr>\n",
       "      <th>2</th>\n",
       "      <td>-0.152540</td>\n",
       "      <td>-0.110774</td>\n",
       "      <td>0.320410</td>\n",
       "      <td>-1.254721</td>\n",
       "      <td>-0.986263</td>\n",
       "      <td>0.317829</td>\n",
       "      <td>1.336919</td>\n",
       "      <td>-0.405586</td>\n",
       "    </tr>\n",
       "    <tr>\n",
       "      <th>3</th>\n",
       "      <td>-0.400024</td>\n",
       "      <td>1.032625</td>\n",
       "      <td>-0.078475</td>\n",
       "      <td>-0.624640</td>\n",
       "      <td>1.078328</td>\n",
       "      <td>0.333185</td>\n",
       "      <td>2.355212</td>\n",
       "      <td>0.816790</td>\n",
       "    </tr>\n",
       "  </tbody>\n",
       "</table>\n",
       "</div>"
      ],
      "text/plain": [
       "          0         1         2         3         4         5         6  \\\n",
       "0  1.747855 -0.700912  0.020346  1.558285 -0.834884 -0.481627 -0.346287   \n",
       "1 -0.043994  1.057017 -1.497384  0.116107  0.015264 -0.976520 -0.798251   \n",
       "2 -0.152540 -0.110774  0.320410 -1.254721 -0.986263  0.317829  1.336919   \n",
       "3 -0.400024  1.032625 -0.078475 -0.624640  1.078328  0.333185  2.355212   \n",
       "\n",
       "          7  \n",
       "0 -1.050106  \n",
       "1 -1.388520  \n",
       "2 -0.405586  \n",
       "3  0.816790  "
      ]
     },
     "execution_count": 3,
     "metadata": {},
     "output_type": "execute_result"
    }
   ],
   "source": [
    "#for larger dataframe use numpy \n",
    "\n",
    "import numpy as np\n",
    "pd.DataFrame(np.random.randn(4,8))"
   ]
  },
  {
   "cell_type": "code",
   "execution_count": 4,
   "id": "797d7144-b3dd-401c-a7d4-e99e2dcd7645",
   "metadata": {},
   "outputs": [
    {
     "data": {
      "text/html": [
       "<div>\n",
       "<style scoped>\n",
       "    .dataframe tbody tr th:only-of-type {\n",
       "        vertical-align: middle;\n",
       "    }\n",
       "\n",
       "    .dataframe tbody tr th {\n",
       "        vertical-align: top;\n",
       "    }\n",
       "\n",
       "    .dataframe thead th {\n",
       "        text-align: right;\n",
       "    }\n",
       "</style>\n",
       "<table border=\"1\" class=\"dataframe\">\n",
       "  <thead>\n",
       "    <tr style=\"text-align: right;\">\n",
       "      <th></th>\n",
       "      <th>a</th>\n",
       "      <th>b</th>\n",
       "      <th>c</th>\n",
       "      <th>d</th>\n",
       "      <th>e</th>\n",
       "      <th>f</th>\n",
       "      <th>g</th>\n",
       "      <th>h</th>\n",
       "    </tr>\n",
       "  </thead>\n",
       "  <tbody>\n",
       "    <tr>\n",
       "      <th>0</th>\n",
       "      <td>0.285157</td>\n",
       "      <td>0.452337</td>\n",
       "      <td>0.234359</td>\n",
       "      <td>1.258765</td>\n",
       "      <td>0.426289</td>\n",
       "      <td>0.877209</td>\n",
       "      <td>-0.659563</td>\n",
       "      <td>-1.329958</td>\n",
       "    </tr>\n",
       "    <tr>\n",
       "      <th>1</th>\n",
       "      <td>0.041826</td>\n",
       "      <td>0.756005</td>\n",
       "      <td>-0.021892</td>\n",
       "      <td>-0.155887</td>\n",
       "      <td>0.006887</td>\n",
       "      <td>-0.024045</td>\n",
       "      <td>-1.557109</td>\n",
       "      <td>-1.531705</td>\n",
       "    </tr>\n",
       "    <tr>\n",
       "      <th>2</th>\n",
       "      <td>-1.447765</td>\n",
       "      <td>1.039642</td>\n",
       "      <td>0.391431</td>\n",
       "      <td>-1.509464</td>\n",
       "      <td>0.607915</td>\n",
       "      <td>1.386085</td>\n",
       "      <td>-0.486692</td>\n",
       "      <td>0.439194</td>\n",
       "    </tr>\n",
       "    <tr>\n",
       "      <th>3</th>\n",
       "      <td>-0.240612</td>\n",
       "      <td>-0.973784</td>\n",
       "      <td>1.661182</td>\n",
       "      <td>0.453806</td>\n",
       "      <td>0.980746</td>\n",
       "      <td>0.055928</td>\n",
       "      <td>-2.166795</td>\n",
       "      <td>-0.852946</td>\n",
       "    </tr>\n",
       "  </tbody>\n",
       "</table>\n",
       "</div>"
      ],
      "text/plain": [
       "          a         b         c         d         e         f         g  \\\n",
       "0  0.285157  0.452337  0.234359  1.258765  0.426289  0.877209 -0.659563   \n",
       "1  0.041826  0.756005 -0.021892 -0.155887  0.006887 -0.024045 -1.557109   \n",
       "2 -1.447765  1.039642  0.391431 -1.509464  0.607915  1.386085 -0.486692   \n",
       "3 -0.240612 -0.973784  1.661182  0.453806  0.980746  0.055928 -2.166795   \n",
       "\n",
       "          h  \n",
       "0 -1.329958  \n",
       "1 -1.531705  \n",
       "2  0.439194  \n",
       "3 -0.852946  "
      ]
     },
     "execution_count": 4,
     "metadata": {},
     "output_type": "execute_result"
    }
   ],
   "source": [
    "# giving non numeric columns names \n",
    "\n",
    "pd.DataFrame(np.random.randn(4,8), columns=list('abcdefgh'))"
   ]
  },
  {
   "cell_type": "markdown",
   "id": "d6d6c307-6405-41b5-81d4-2cb4a23ff1f0",
   "metadata": {},
   "source": [
    "### Rename columns"
   ]
  },
  {
   "cell_type": "code",
   "execution_count": 5,
   "id": "e7123516-dbaf-474b-a0d5-f4db83309802",
   "metadata": {},
   "outputs": [
    {
     "data": {
      "text/html": [
       "<div>\n",
       "<style scoped>\n",
       "    .dataframe tbody tr th:only-of-type {\n",
       "        vertical-align: middle;\n",
       "    }\n",
       "\n",
       "    .dataframe tbody tr th {\n",
       "        vertical-align: top;\n",
       "    }\n",
       "\n",
       "    .dataframe thead th {\n",
       "        text-align: right;\n",
       "    }\n",
       "</style>\n",
       "<table border=\"1\" class=\"dataframe\">\n",
       "  <thead>\n",
       "    <tr style=\"text-align: right;\">\n",
       "      <th></th>\n",
       "      <th>col 1</th>\n",
       "      <th>col 2</th>\n",
       "    </tr>\n",
       "  </thead>\n",
       "  <tbody>\n",
       "    <tr>\n",
       "      <th>0</th>\n",
       "      <td>ram</td>\n",
       "      <td>34</td>\n",
       "    </tr>\n",
       "    <tr>\n",
       "      <th>1</th>\n",
       "      <td>lakshman</td>\n",
       "      <td>25</td>\n",
       "    </tr>\n",
       "  </tbody>\n",
       "</table>\n",
       "</div>"
      ],
      "text/plain": [
       "      col 1  col 2\n",
       "0       ram     34\n",
       "1  lakshman     25"
      ]
     },
     "execution_count": 5,
     "metadata": {},
     "output_type": "execute_result"
    }
   ],
   "source": [
    "df = pd.DataFrame({'col 1' :['ram', 'lakshman'], 'col 2':[34 ,25]})\n",
    "df"
   ]
  },
  {
   "cell_type": "code",
   "execution_count": 6,
   "id": "6404e25b-0f6a-41bb-af46-81a70c860bca",
   "metadata": {},
   "outputs": [
    {
     "data": {
      "text/html": [
       "<div>\n",
       "<style scoped>\n",
       "    .dataframe tbody tr th:only-of-type {\n",
       "        vertical-align: middle;\n",
       "    }\n",
       "\n",
       "    .dataframe tbody tr th {\n",
       "        vertical-align: top;\n",
       "    }\n",
       "\n",
       "    .dataframe thead th {\n",
       "        text-align: right;\n",
       "    }\n",
       "</style>\n",
       "<table border=\"1\" class=\"dataframe\">\n",
       "  <thead>\n",
       "    <tr style=\"text-align: right;\">\n",
       "      <th></th>\n",
       "      <th>col_1</th>\n",
       "      <th>col_2</th>\n",
       "    </tr>\n",
       "  </thead>\n",
       "  <tbody>\n",
       "    <tr>\n",
       "      <th>0</th>\n",
       "      <td>ram</td>\n",
       "      <td>34</td>\n",
       "    </tr>\n",
       "    <tr>\n",
       "      <th>1</th>\n",
       "      <td>lakshman</td>\n",
       "      <td>25</td>\n",
       "    </tr>\n",
       "  </tbody>\n",
       "</table>\n",
       "</div>"
      ],
      "text/plain": [
       "      col_1  col_2\n",
       "0       ram     34\n",
       "1  lakshman     25"
      ]
     },
     "execution_count": 6,
     "metadata": {},
     "output_type": "execute_result"
    }
   ],
   "source": [
    "df = df.rename({'col 1':'col_1', 'col 2' : 'col_2'}, axis= 'columns')\n",
    "df"
   ]
  },
  {
   "cell_type": "code",
   "execution_count": 7,
   "id": "1acff6a9-4bb2-468a-ae84-7fb943241e0d",
   "metadata": {},
   "outputs": [],
   "source": [
    "df.columns = ['col 1','col 2']"
   ]
  },
  {
   "cell_type": "code",
   "execution_count": 8,
   "id": "1a4a8cc4-f659-4ebd-bd45-284d86bcd5c5",
   "metadata": {},
   "outputs": [
    {
     "data": {
      "text/html": [
       "<div>\n",
       "<style scoped>\n",
       "    .dataframe tbody tr th:only-of-type {\n",
       "        vertical-align: middle;\n",
       "    }\n",
       "\n",
       "    .dataframe tbody tr th {\n",
       "        vertical-align: top;\n",
       "    }\n",
       "\n",
       "    .dataframe thead th {\n",
       "        text-align: right;\n",
       "    }\n",
       "</style>\n",
       "<table border=\"1\" class=\"dataframe\">\n",
       "  <thead>\n",
       "    <tr style=\"text-align: right;\">\n",
       "      <th></th>\n",
       "      <th>col 1</th>\n",
       "      <th>col 2</th>\n",
       "    </tr>\n",
       "  </thead>\n",
       "  <tbody>\n",
       "    <tr>\n",
       "      <th>0</th>\n",
       "      <td>ram</td>\n",
       "      <td>34</td>\n",
       "    </tr>\n",
       "    <tr>\n",
       "      <th>1</th>\n",
       "      <td>lakshman</td>\n",
       "      <td>25</td>\n",
       "    </tr>\n",
       "  </tbody>\n",
       "</table>\n",
       "</div>"
      ],
      "text/plain": [
       "      col 1  col 2\n",
       "0       ram     34\n",
       "1  lakshman     25"
      ]
     },
     "execution_count": 8,
     "metadata": {},
     "output_type": "execute_result"
    }
   ],
   "source": [
    "df"
   ]
  },
  {
   "cell_type": "code",
   "execution_count": 9,
   "id": "e1873f22-acea-456c-a8ca-004ec81d1e52",
   "metadata": {},
   "outputs": [
    {
     "data": {
      "text/html": [
       "<div>\n",
       "<style scoped>\n",
       "    .dataframe tbody tr th:only-of-type {\n",
       "        vertical-align: middle;\n",
       "    }\n",
       "\n",
       "    .dataframe tbody tr th {\n",
       "        vertical-align: top;\n",
       "    }\n",
       "\n",
       "    .dataframe thead th {\n",
       "        text-align: right;\n",
       "    }\n",
       "</style>\n",
       "<table border=\"1\" class=\"dataframe\">\n",
       "  <thead>\n",
       "    <tr style=\"text-align: right;\">\n",
       "      <th></th>\n",
       "      <th>col_1</th>\n",
       "      <th>col_2</th>\n",
       "    </tr>\n",
       "  </thead>\n",
       "  <tbody>\n",
       "    <tr>\n",
       "      <th>0</th>\n",
       "      <td>ram</td>\n",
       "      <td>34</td>\n",
       "    </tr>\n",
       "    <tr>\n",
       "      <th>1</th>\n",
       "      <td>lakshman</td>\n",
       "      <td>25</td>\n",
       "    </tr>\n",
       "  </tbody>\n",
       "</table>\n",
       "</div>"
      ],
      "text/plain": [
       "      col_1  col_2\n",
       "0       ram     34\n",
       "1  lakshman     25"
      ]
     },
     "execution_count": 9,
     "metadata": {},
     "output_type": "execute_result"
    }
   ],
   "source": [
    "df.columns = df.columns.str.replace(' ', '_')\n",
    "df"
   ]
  },
  {
   "cell_type": "code",
   "execution_count": 10,
   "id": "25a3b281-8098-4db7-8c92-a5e826ed1c4d",
   "metadata": {},
   "outputs": [
    {
     "data": {
      "text/html": [
       "<div>\n",
       "<style scoped>\n",
       "    .dataframe tbody tr th:only-of-type {\n",
       "        vertical-align: middle;\n",
       "    }\n",
       "\n",
       "    .dataframe tbody tr th {\n",
       "        vertical-align: top;\n",
       "    }\n",
       "\n",
       "    .dataframe thead th {\n",
       "        text-align: right;\n",
       "    }\n",
       "</style>\n",
       "<table border=\"1\" class=\"dataframe\">\n",
       "  <thead>\n",
       "    <tr style=\"text-align: right;\">\n",
       "      <th></th>\n",
       "      <th>X_col_1</th>\n",
       "      <th>X_col_2</th>\n",
       "    </tr>\n",
       "  </thead>\n",
       "  <tbody>\n",
       "    <tr>\n",
       "      <th>0</th>\n",
       "      <td>ram</td>\n",
       "      <td>34</td>\n",
       "    </tr>\n",
       "    <tr>\n",
       "      <th>1</th>\n",
       "      <td>lakshman</td>\n",
       "      <td>25</td>\n",
       "    </tr>\n",
       "  </tbody>\n",
       "</table>\n",
       "</div>"
      ],
      "text/plain": [
       "    X_col_1  X_col_2\n",
       "0       ram       34\n",
       "1  lakshman       25"
      ]
     },
     "execution_count": 10,
     "metadata": {},
     "output_type": "execute_result"
    }
   ],
   "source": [
    " # to add prefix in column names\n",
    "df.add_prefix('X_')"
   ]
  },
  {
   "cell_type": "code",
   "execution_count": 11,
   "id": "5f9e0a00-27b8-475f-8855-87a8f04a6f0f",
   "metadata": {},
   "outputs": [
    {
     "data": {
      "text/html": [
       "<div>\n",
       "<style scoped>\n",
       "    .dataframe tbody tr th:only-of-type {\n",
       "        vertical-align: middle;\n",
       "    }\n",
       "\n",
       "    .dataframe tbody tr th {\n",
       "        vertical-align: top;\n",
       "    }\n",
       "\n",
       "    .dataframe thead th {\n",
       "        text-align: right;\n",
       "    }\n",
       "</style>\n",
       "<table border=\"1\" class=\"dataframe\">\n",
       "  <thead>\n",
       "    <tr style=\"text-align: right;\">\n",
       "      <th></th>\n",
       "      <th>col_1_Y</th>\n",
       "      <th>col_2_Y</th>\n",
       "    </tr>\n",
       "  </thead>\n",
       "  <tbody>\n",
       "    <tr>\n",
       "      <th>0</th>\n",
       "      <td>ram</td>\n",
       "      <td>34</td>\n",
       "    </tr>\n",
       "    <tr>\n",
       "      <th>1</th>\n",
       "      <td>lakshman</td>\n",
       "      <td>25</td>\n",
       "    </tr>\n",
       "  </tbody>\n",
       "</table>\n",
       "</div>"
      ],
      "text/plain": [
       "    col_1_Y  col_2_Y\n",
       "0       ram       34\n",
       "1  lakshman       25"
      ]
     },
     "execution_count": 11,
     "metadata": {},
     "output_type": "execute_result"
    }
   ],
   "source": [
    "# to add sufix in column names\n",
    "df.add_suffix('_Y')"
   ]
  },
  {
   "cell_type": "markdown",
   "id": "69689915-6df2-4d42-a9a6-5d39c97ae4a0",
   "metadata": {},
   "source": [
    "### Reading data from csv"
   ]
  },
  {
   "cell_type": "code",
   "execution_count": 12,
   "id": "619601bb-d322-4096-8d65-dce094cab2be",
   "metadata": {},
   "outputs": [
    {
     "data": {
      "text/html": [
       "<div>\n",
       "<style scoped>\n",
       "    .dataframe tbody tr th:only-of-type {\n",
       "        vertical-align: middle;\n",
       "    }\n",
       "\n",
       "    .dataframe tbody tr th {\n",
       "        vertical-align: top;\n",
       "    }\n",
       "\n",
       "    .dataframe thead th {\n",
       "        text-align: right;\n",
       "    }\n",
       "</style>\n",
       "<table border=\"1\" class=\"dataframe\">\n",
       "  <thead>\n",
       "    <tr style=\"text-align: right;\">\n",
       "      <th></th>\n",
       "      <th>Name</th>\n",
       "      <th>Type 1</th>\n",
       "      <th>Type 2</th>\n",
       "      <th>HP</th>\n",
       "      <th>Attack</th>\n",
       "      <th>Defense</th>\n",
       "      <th>Sp. Atk</th>\n",
       "      <th>Sp. Def</th>\n",
       "      <th>Speed</th>\n",
       "      <th>Generation</th>\n",
       "      <th>Legendary</th>\n",
       "    </tr>\n",
       "  </thead>\n",
       "  <tbody>\n",
       "    <tr>\n",
       "      <th>0</th>\n",
       "      <td>Bulbasaur</td>\n",
       "      <td>Grass</td>\n",
       "      <td>Poison</td>\n",
       "      <td>45</td>\n",
       "      <td>49</td>\n",
       "      <td>49</td>\n",
       "      <td>65</td>\n",
       "      <td>65</td>\n",
       "      <td>45</td>\n",
       "      <td>1</td>\n",
       "      <td>False</td>\n",
       "    </tr>\n",
       "    <tr>\n",
       "      <th>1</th>\n",
       "      <td>Ivysaur</td>\n",
       "      <td>Grass</td>\n",
       "      <td>Poison</td>\n",
       "      <td>60</td>\n",
       "      <td>62</td>\n",
       "      <td>63</td>\n",
       "      <td>80</td>\n",
       "      <td>80</td>\n",
       "      <td>60</td>\n",
       "      <td>1</td>\n",
       "      <td>False</td>\n",
       "    </tr>\n",
       "    <tr>\n",
       "      <th>2</th>\n",
       "      <td>Venusaur</td>\n",
       "      <td>Grass</td>\n",
       "      <td>Poison</td>\n",
       "      <td>80</td>\n",
       "      <td>82</td>\n",
       "      <td>83</td>\n",
       "      <td>100</td>\n",
       "      <td>100</td>\n",
       "      <td>80</td>\n",
       "      <td>1</td>\n",
       "      <td>False</td>\n",
       "    </tr>\n",
       "    <tr>\n",
       "      <th>3</th>\n",
       "      <td>VenusaurMega Venusaur</td>\n",
       "      <td>Grass</td>\n",
       "      <td>Poison</td>\n",
       "      <td>80</td>\n",
       "      <td>100</td>\n",
       "      <td>123</td>\n",
       "      <td>122</td>\n",
       "      <td>120</td>\n",
       "      <td>80</td>\n",
       "      <td>1</td>\n",
       "      <td>False</td>\n",
       "    </tr>\n",
       "    <tr>\n",
       "      <th>4</th>\n",
       "      <td>Charmander</td>\n",
       "      <td>Fire</td>\n",
       "      <td>NaN</td>\n",
       "      <td>39</td>\n",
       "      <td>52</td>\n",
       "      <td>43</td>\n",
       "      <td>60</td>\n",
       "      <td>50</td>\n",
       "      <td>65</td>\n",
       "      <td>1</td>\n",
       "      <td>False</td>\n",
       "    </tr>\n",
       "  </tbody>\n",
       "</table>\n",
       "</div>"
      ],
      "text/plain": [
       "                    Name Type 1  Type 2  HP  Attack  Defense  Sp. Atk  \\\n",
       "0              Bulbasaur  Grass  Poison  45      49       49       65   \n",
       "1                Ivysaur  Grass  Poison  60      62       63       80   \n",
       "2               Venusaur  Grass  Poison  80      82       83      100   \n",
       "3  VenusaurMega Venusaur  Grass  Poison  80     100      123      122   \n",
       "4             Charmander   Fire     NaN  39      52       43       60   \n",
       "\n",
       "   Sp. Def  Speed  Generation  Legendary  \n",
       "0       65     45           1      False  \n",
       "1       80     60           1      False  \n",
       "2      100     80           1      False  \n",
       "3      120     80           1      False  \n",
       "4       50     65           1      False  "
      ]
     },
     "execution_count": 12,
     "metadata": {},
     "output_type": "execute_result"
    }
   ],
   "source": [
    "#loading data in pandas\n",
    "df = pd.read_csv('data/pokemon_data.csv')\n",
    "df.head(5)\n"
   ]
  },
  {
   "cell_type": "markdown",
   "id": "28816676-c1cf-4ca0-b1c3-66cc2a5ad2ac",
   "metadata": {},
   "source": [
    "### Build a dataframe from multiple files(row wise)"
   ]
  },
  {
   "cell_type": "code",
   "execution_count": 13,
   "id": "c6a46582-7397-4718-bb95-1002189f57cc",
   "metadata": {},
   "outputs": [
    {
     "data": {
      "text/plain": [
       "['data/transactions1.csv', 'data/transactions2.csv', 'data/transactions3.csv']"
      ]
     },
     "execution_count": 13,
     "metadata": {},
     "output_type": "execute_result"
    }
   ],
   "source": [
    "from glob import glob\n",
    "transactions_files= sorted(glob('data/transactions*.csv'))\n",
    "transactions_files"
   ]
  },
  {
   "cell_type": "code",
   "execution_count": 14,
   "id": "e995863f-cb16-4d00-b98a-7b699922ad0b",
   "metadata": {},
   "outputs": [
    {
     "data": {
      "text/html": [
       "<div>\n",
       "<style scoped>\n",
       "    .dataframe tbody tr th:only-of-type {\n",
       "        vertical-align: middle;\n",
       "    }\n",
       "\n",
       "    .dataframe tbody tr th {\n",
       "        vertical-align: top;\n",
       "    }\n",
       "\n",
       "    .dataframe thead th {\n",
       "        text-align: right;\n",
       "    }\n",
       "</style>\n",
       "<table border=\"1\" class=\"dataframe\">\n",
       "  <thead>\n",
       "    <tr style=\"text-align: right;\">\n",
       "      <th></th>\n",
       "      <th>transaction_id</th>\n",
       "      <th>customer_id</th>\n",
       "      <th>product</th>\n",
       "      <th>price</th>\n",
       "    </tr>\n",
       "  </thead>\n",
       "  <tbody>\n",
       "    <tr>\n",
       "      <th>0</th>\n",
       "      <td>100</td>\n",
       "      <td>1</td>\n",
       "      <td>ball</td>\n",
       "      <td>30</td>\n",
       "    </tr>\n",
       "    <tr>\n",
       "      <th>1</th>\n",
       "      <td>101</td>\n",
       "      <td>2</td>\n",
       "      <td>bat</td>\n",
       "      <td>100</td>\n",
       "    </tr>\n",
       "    <tr>\n",
       "      <th>2</th>\n",
       "      <td>102</td>\n",
       "      <td>2</td>\n",
       "      <td>gloves</td>\n",
       "      <td>50</td>\n",
       "    </tr>\n",
       "    <tr>\n",
       "      <th>3</th>\n",
       "      <td>200</td>\n",
       "      <td>3</td>\n",
       "      <td>bat</td>\n",
       "      <td>250</td>\n",
       "    </tr>\n",
       "    <tr>\n",
       "      <th>4</th>\n",
       "      <td>201</td>\n",
       "      <td>3</td>\n",
       "      <td>shirt</td>\n",
       "      <td>120</td>\n",
       "    </tr>\n",
       "    <tr>\n",
       "      <th>5</th>\n",
       "      <td>202</td>\n",
       "      <td>4</td>\n",
       "      <td>gloves</td>\n",
       "      <td>20</td>\n",
       "    </tr>\n",
       "    <tr>\n",
       "      <th>6</th>\n",
       "      <td>300</td>\n",
       "      <td>4</td>\n",
       "      <td>shoes</td>\n",
       "      <td>300</td>\n",
       "    </tr>\n",
       "    <tr>\n",
       "      <th>7</th>\n",
       "      <td>301</td>\n",
       "      <td>5</td>\n",
       "      <td>ball</td>\n",
       "      <td>50</td>\n",
       "    </tr>\n",
       "    <tr>\n",
       "      <th>8</th>\n",
       "      <td>302</td>\n",
       "      <td>5</td>\n",
       "      <td>pads</td>\n",
       "      <td>100</td>\n",
       "    </tr>\n",
       "  </tbody>\n",
       "</table>\n",
       "</div>"
      ],
      "text/plain": [
       "   transaction_id  customer_id product  price\n",
       "0             100            1    ball     30\n",
       "1             101            2     bat    100\n",
       "2             102            2  gloves     50\n",
       "3             200            3     bat    250\n",
       "4             201            3   shirt    120\n",
       "5             202            4  gloves     20\n",
       "6             300            4   shoes    300\n",
       "7             301            5    ball     50\n",
       "8             302            5    pads    100"
      ]
     },
     "execution_count": 14,
     "metadata": {},
     "output_type": "execute_result"
    }
   ],
   "source": [
    "pd.concat((pd.read_csv(file) for file in transactions_files), ignore_index=True)\n"
   ]
  },
  {
   "cell_type": "markdown",
   "id": "a2cca5eb-00c2-47c3-9e3f-a80e92fa3fbc",
   "metadata": {},
   "source": [
    "### Build dataframe from multiple files (column wise)"
   ]
  },
  {
   "cell_type": "code",
   "execution_count": 15,
   "id": "cd4671e9-a9f4-482f-9935-25e42286f67c",
   "metadata": {},
   "outputs": [
    {
     "data": {
      "text/plain": [
       "['data/customers1.csv', 'data/customers2.csv']"
      ]
     },
     "execution_count": 15,
     "metadata": {},
     "output_type": "execute_result"
    }
   ],
   "source": [
    "customers_files = sorted(glob('data/customers*.csv'))\n",
    "customers_files"
   ]
  },
  {
   "cell_type": "code",
   "execution_count": 16,
   "id": "3e957cd8-5f99-43ac-88a0-84be041b0f8e",
   "metadata": {},
   "outputs": [
    {
     "data": {
      "text/html": [
       "<div>\n",
       "<style scoped>\n",
       "    .dataframe tbody tr th:only-of-type {\n",
       "        vertical-align: middle;\n",
       "    }\n",
       "\n",
       "    .dataframe tbody tr th {\n",
       "        vertical-align: top;\n",
       "    }\n",
       "\n",
       "    .dataframe thead th {\n",
       "        text-align: right;\n",
       "    }\n",
       "</style>\n",
       "<table border=\"1\" class=\"dataframe\">\n",
       "  <thead>\n",
       "    <tr style=\"text-align: right;\">\n",
       "      <th></th>\n",
       "      <th>customer_id</th>\n",
       "      <th>name</th>\n",
       "      <th>city</th>\n",
       "      <th>country</th>\n",
       "      <th>population</th>\n",
       "    </tr>\n",
       "  </thead>\n",
       "  <tbody>\n",
       "    <tr>\n",
       "      <th>0</th>\n",
       "      <td>1</td>\n",
       "      <td>Arjun</td>\n",
       "      <td>delhi</td>\n",
       "      <td>India</td>\n",
       "      <td>1000000</td>\n",
       "    </tr>\n",
       "    <tr>\n",
       "      <th>1</th>\n",
       "      <td>2</td>\n",
       "      <td>Angad</td>\n",
       "      <td>meerut</td>\n",
       "      <td>Srilanka</td>\n",
       "      <td>200000</td>\n",
       "    </tr>\n",
       "    <tr>\n",
       "      <th>2</th>\n",
       "      <td>3</td>\n",
       "      <td>Karan</td>\n",
       "      <td>panipat</td>\n",
       "      <td>Bhutan</td>\n",
       "      <td>30000</td>\n",
       "    </tr>\n",
       "  </tbody>\n",
       "</table>\n",
       "</div>"
      ],
      "text/plain": [
       "   customer_id   name     city   country  population\n",
       "0            1  Arjun    delhi     India     1000000\n",
       "1            2  Angad   meerut  Srilanka      200000\n",
       "2            3  Karan  panipat    Bhutan       30000"
      ]
     },
     "execution_count": 16,
     "metadata": {},
     "output_type": "execute_result"
    }
   ],
   "source": [
    "pd.concat((pd.read_csv(file) for file in customers_files), axis='columns').head()"
   ]
  },
  {
   "cell_type": "code",
   "execution_count": 17,
   "id": "ba4723ae-9855-4375-92b6-389f37a0554c",
   "metadata": {},
   "outputs": [
    {
     "data": {
      "text/plain": [
       "Index(['Name', 'Type 1', 'Type 2', 'HP', 'Attack', 'Defense', 'Sp. Atk',\n",
       "       'Sp. Def', 'Speed', 'Generation', 'Legendary'],\n",
       "      dtype='object')"
      ]
     },
     "execution_count": 17,
     "metadata": {},
     "output_type": "execute_result"
    }
   ],
   "source": [
    "# read the headers\n",
    "df.columns\n"
   ]
  },
  {
   "cell_type": "code",
   "execution_count": 18,
   "id": "6e78c54a-033c-49b6-9997-98fcc4db539c",
   "metadata": {},
   "outputs": [
    {
     "data": {
      "text/html": [
       "<div>\n",
       "<style scoped>\n",
       "    .dataframe tbody tr th:only-of-type {\n",
       "        vertical-align: middle;\n",
       "    }\n",
       "\n",
       "    .dataframe tbody tr th {\n",
       "        vertical-align: top;\n",
       "    }\n",
       "\n",
       "    .dataframe thead th {\n",
       "        text-align: right;\n",
       "    }\n",
       "</style>\n",
       "<table border=\"1\" class=\"dataframe\">\n",
       "  <thead>\n",
       "    <tr style=\"text-align: right;\">\n",
       "      <th></th>\n",
       "      <th>Name</th>\n",
       "      <th>Attack</th>\n",
       "    </tr>\n",
       "  </thead>\n",
       "  <tbody>\n",
       "    <tr>\n",
       "      <th>0</th>\n",
       "      <td>Bulbasaur</td>\n",
       "      <td>49</td>\n",
       "    </tr>\n",
       "    <tr>\n",
       "      <th>1</th>\n",
       "      <td>Ivysaur</td>\n",
       "      <td>62</td>\n",
       "    </tr>\n",
       "    <tr>\n",
       "      <th>2</th>\n",
       "      <td>Venusaur</td>\n",
       "      <td>82</td>\n",
       "    </tr>\n",
       "    <tr>\n",
       "      <th>3</th>\n",
       "      <td>VenusaurMega Venusaur</td>\n",
       "      <td>100</td>\n",
       "    </tr>\n",
       "    <tr>\n",
       "      <th>4</th>\n",
       "      <td>Charmander</td>\n",
       "      <td>52</td>\n",
       "    </tr>\n",
       "  </tbody>\n",
       "</table>\n",
       "</div>"
      ],
      "text/plain": [
       "                    Name  Attack\n",
       "0              Bulbasaur      49\n",
       "1                Ivysaur      62\n",
       "2               Venusaur      82\n",
       "3  VenusaurMega Venusaur     100\n",
       "4             Charmander      52"
      ]
     },
     "execution_count": 18,
     "metadata": {},
     "output_type": "execute_result"
    }
   ],
   "source": [
    "# read each column\n",
    "df[['Name', 'Attack']].head()\n"
   ]
  },
  {
   "cell_type": "code",
   "execution_count": 19,
   "id": "9681e940-5e59-4e2d-b7a4-269c5fca05ef",
   "metadata": {},
   "outputs": [
    {
     "data": {
      "text/plain": [
       "Name          Ivysaur\n",
       "Type 1          Grass\n",
       "Type 2         Poison\n",
       "HP                 60\n",
       "Attack             62\n",
       "Defense            63\n",
       "Sp. Atk            80\n",
       "Sp. Def            80\n",
       "Speed              60\n",
       "Generation          1\n",
       "Legendary       False\n",
       "Name: 1, dtype: object"
      ]
     },
     "execution_count": 19,
     "metadata": {},
     "output_type": "execute_result"
    }
   ],
   "source": [
    "# print each row\n",
    "df.iloc[1]\n"
   ]
  },
  {
   "cell_type": "code",
   "execution_count": 20,
   "id": "4afe0b39-cf06-49b3-8cf0-8dc1ae66427e",
   "metadata": {},
   "outputs": [
    {
     "data": {
      "text/html": [
       "<div>\n",
       "<style scoped>\n",
       "    .dataframe tbody tr th:only-of-type {\n",
       "        vertical-align: middle;\n",
       "    }\n",
       "\n",
       "    .dataframe tbody tr th {\n",
       "        vertical-align: top;\n",
       "    }\n",
       "\n",
       "    .dataframe thead th {\n",
       "        text-align: right;\n",
       "    }\n",
       "</style>\n",
       "<table border=\"1\" class=\"dataframe\">\n",
       "  <thead>\n",
       "    <tr style=\"text-align: right;\">\n",
       "      <th></th>\n",
       "      <th>Name</th>\n",
       "      <th>Type 1</th>\n",
       "      <th>Type 2</th>\n",
       "      <th>HP</th>\n",
       "      <th>Attack</th>\n",
       "      <th>Defense</th>\n",
       "      <th>Sp. Atk</th>\n",
       "      <th>Sp. Def</th>\n",
       "      <th>Speed</th>\n",
       "      <th>Generation</th>\n",
       "      <th>Legendary</th>\n",
       "    </tr>\n",
       "  </thead>\n",
       "  <tbody>\n",
       "    <tr>\n",
       "      <th>1</th>\n",
       "      <td>Ivysaur</td>\n",
       "      <td>Grass</td>\n",
       "      <td>Poison</td>\n",
       "      <td>60</td>\n",
       "      <td>62</td>\n",
       "      <td>63</td>\n",
       "      <td>80</td>\n",
       "      <td>80</td>\n",
       "      <td>60</td>\n",
       "      <td>1</td>\n",
       "      <td>False</td>\n",
       "    </tr>\n",
       "    <tr>\n",
       "      <th>2</th>\n",
       "      <td>Venusaur</td>\n",
       "      <td>Grass</td>\n",
       "      <td>Poison</td>\n",
       "      <td>80</td>\n",
       "      <td>82</td>\n",
       "      <td>83</td>\n",
       "      <td>100</td>\n",
       "      <td>100</td>\n",
       "      <td>80</td>\n",
       "      <td>1</td>\n",
       "      <td>False</td>\n",
       "    </tr>\n",
       "    <tr>\n",
       "      <th>3</th>\n",
       "      <td>VenusaurMega Venusaur</td>\n",
       "      <td>Grass</td>\n",
       "      <td>Poison</td>\n",
       "      <td>80</td>\n",
       "      <td>100</td>\n",
       "      <td>123</td>\n",
       "      <td>122</td>\n",
       "      <td>120</td>\n",
       "      <td>80</td>\n",
       "      <td>1</td>\n",
       "      <td>False</td>\n",
       "    </tr>\n",
       "  </tbody>\n",
       "</table>\n",
       "</div>"
      ],
      "text/plain": [
       "                    Name Type 1  Type 2  HP  Attack  Defense  Sp. Atk  \\\n",
       "1                Ivysaur  Grass  Poison  60      62       63       80   \n",
       "2               Venusaur  Grass  Poison  80      82       83      100   \n",
       "3  VenusaurMega Venusaur  Grass  Poison  80     100      123      122   \n",
       "\n",
       "   Sp. Def  Speed  Generation  Legendary  \n",
       "1       80     60           1      False  \n",
       "2      100     80           1      False  \n",
       "3      120     80           1      False  "
      ]
     },
     "execution_count": 20,
     "metadata": {},
     "output_type": "execute_result"
    }
   ],
   "source": [
    "df.iloc[1:4]\n"
   ]
  },
  {
   "cell_type": "code",
   "execution_count": 21,
   "id": "ab51bc4e-6a6c-4cf5-a689-fa8344113594",
   "metadata": {},
   "outputs": [
    {
     "data": {
      "text/plain": [
       "'Grass'"
      ]
     },
     "execution_count": 21,
     "metadata": {},
     "output_type": "execute_result"
    }
   ],
   "source": [
    "# read specific location\n",
    "df.iloc[2,1]\n"
   ]
  },
  {
   "cell_type": "code",
   "execution_count": 22,
   "id": "15f9383c-d7be-4cad-88f4-e47c92fca6cc",
   "metadata": {},
   "outputs": [],
   "source": [
    "# to go row by row in dataframe\n",
    "# for index, row in df.iterrows():\n",
    "#     print(index, row['Name'])\n",
    "\n"
   ]
  },
  {
   "cell_type": "code",
   "execution_count": 23,
   "id": "6828fd1b-4f88-4ade-a120-0c9587cb4a0f",
   "metadata": {},
   "outputs": [
    {
     "data": {
      "text/html": [
       "<div>\n",
       "<style scoped>\n",
       "    .dataframe tbody tr th:only-of-type {\n",
       "        vertical-align: middle;\n",
       "    }\n",
       "\n",
       "    .dataframe tbody tr th {\n",
       "        vertical-align: top;\n",
       "    }\n",
       "\n",
       "    .dataframe thead th {\n",
       "        text-align: right;\n",
       "    }\n",
       "</style>\n",
       "<table border=\"1\" class=\"dataframe\">\n",
       "  <thead>\n",
       "    <tr style=\"text-align: right;\">\n",
       "      <th></th>\n",
       "      <th>Name</th>\n",
       "      <th>Type 1</th>\n",
       "      <th>Type 2</th>\n",
       "      <th>HP</th>\n",
       "      <th>Attack</th>\n",
       "      <th>Defense</th>\n",
       "      <th>Sp. Atk</th>\n",
       "      <th>Sp. Def</th>\n",
       "      <th>Speed</th>\n",
       "      <th>Generation</th>\n",
       "      <th>Legendary</th>\n",
       "    </tr>\n",
       "  </thead>\n",
       "  <tbody>\n",
       "    <tr>\n",
       "      <th>4</th>\n",
       "      <td>Charmander</td>\n",
       "      <td>Fire</td>\n",
       "      <td>NaN</td>\n",
       "      <td>39</td>\n",
       "      <td>52</td>\n",
       "      <td>43</td>\n",
       "      <td>60</td>\n",
       "      <td>50</td>\n",
       "      <td>65</td>\n",
       "      <td>1</td>\n",
       "      <td>False</td>\n",
       "    </tr>\n",
       "    <tr>\n",
       "      <th>5</th>\n",
       "      <td>Charmeleon</td>\n",
       "      <td>Fire</td>\n",
       "      <td>NaN</td>\n",
       "      <td>58</td>\n",
       "      <td>64</td>\n",
       "      <td>58</td>\n",
       "      <td>80</td>\n",
       "      <td>65</td>\n",
       "      <td>80</td>\n",
       "      <td>1</td>\n",
       "      <td>False</td>\n",
       "    </tr>\n",
       "    <tr>\n",
       "      <th>6</th>\n",
       "      <td>Charizard</td>\n",
       "      <td>Fire</td>\n",
       "      <td>Flying</td>\n",
       "      <td>78</td>\n",
       "      <td>84</td>\n",
       "      <td>78</td>\n",
       "      <td>109</td>\n",
       "      <td>85</td>\n",
       "      <td>100</td>\n",
       "      <td>1</td>\n",
       "      <td>False</td>\n",
       "    </tr>\n",
       "    <tr>\n",
       "      <th>7</th>\n",
       "      <td>CharizardMega Charizard X</td>\n",
       "      <td>Fire</td>\n",
       "      <td>Dragon</td>\n",
       "      <td>78</td>\n",
       "      <td>130</td>\n",
       "      <td>111</td>\n",
       "      <td>130</td>\n",
       "      <td>85</td>\n",
       "      <td>100</td>\n",
       "      <td>1</td>\n",
       "      <td>False</td>\n",
       "    </tr>\n",
       "    <tr>\n",
       "      <th>8</th>\n",
       "      <td>CharizardMega Charizard Y</td>\n",
       "      <td>Fire</td>\n",
       "      <td>Flying</td>\n",
       "      <td>78</td>\n",
       "      <td>104</td>\n",
       "      <td>78</td>\n",
       "      <td>159</td>\n",
       "      <td>115</td>\n",
       "      <td>100</td>\n",
       "      <td>1</td>\n",
       "      <td>False</td>\n",
       "    </tr>\n",
       "  </tbody>\n",
       "</table>\n",
       "</div>"
      ],
      "text/plain": [
       "                        Name Type 1  Type 2  HP  Attack  Defense  Sp. Atk  \\\n",
       "4                 Charmander   Fire     NaN  39      52       43       60   \n",
       "5                 Charmeleon   Fire     NaN  58      64       58       80   \n",
       "6                  Charizard   Fire  Flying  78      84       78      109   \n",
       "7  CharizardMega Charizard X   Fire  Dragon  78     130      111      130   \n",
       "8  CharizardMega Charizard Y   Fire  Flying  78     104       78      159   \n",
       "\n",
       "   Sp. Def  Speed  Generation  Legendary  \n",
       "4       50     65           1      False  \n",
       "5       65     80           1      False  \n",
       "6       85    100           1      False  \n",
       "7       85    100           1      False  \n",
       "8      115    100           1      False  "
      ]
     },
     "execution_count": 23,
     "metadata": {},
     "output_type": "execute_result"
    }
   ],
   "source": [
    "#also working with conditional statement use loc\n",
    "\n",
    "df.loc[df['Type 1']==\"Fire\"].head()"
   ]
  },
  {
   "cell_type": "code",
   "execution_count": 24,
   "id": "30c82b2b-8cf9-48d3-8795-5b08920493da",
   "metadata": {},
   "outputs": [
    {
     "data": {
      "text/html": [
       "<div>\n",
       "<style scoped>\n",
       "    .dataframe tbody tr th:only-of-type {\n",
       "        vertical-align: middle;\n",
       "    }\n",
       "\n",
       "    .dataframe tbody tr th {\n",
       "        vertical-align: top;\n",
       "    }\n",
       "\n",
       "    .dataframe thead th {\n",
       "        text-align: right;\n",
       "    }\n",
       "</style>\n",
       "<table border=\"1\" class=\"dataframe\">\n",
       "  <thead>\n",
       "    <tr style=\"text-align: right;\">\n",
       "      <th></th>\n",
       "      <th>HP</th>\n",
       "      <th>Attack</th>\n",
       "      <th>Defense</th>\n",
       "      <th>Sp. Atk</th>\n",
       "      <th>Sp. Def</th>\n",
       "      <th>Speed</th>\n",
       "      <th>Generation</th>\n",
       "    </tr>\n",
       "  </thead>\n",
       "  <tbody>\n",
       "    <tr>\n",
       "      <th>count</th>\n",
       "      <td>800.000000</td>\n",
       "      <td>800.000000</td>\n",
       "      <td>800.000000</td>\n",
       "      <td>800.000000</td>\n",
       "      <td>800.000000</td>\n",
       "      <td>800.000000</td>\n",
       "      <td>800.00000</td>\n",
       "    </tr>\n",
       "    <tr>\n",
       "      <th>mean</th>\n",
       "      <td>69.258750</td>\n",
       "      <td>79.001250</td>\n",
       "      <td>73.842500</td>\n",
       "      <td>72.820000</td>\n",
       "      <td>71.902500</td>\n",
       "      <td>68.277500</td>\n",
       "      <td>3.32375</td>\n",
       "    </tr>\n",
       "    <tr>\n",
       "      <th>std</th>\n",
       "      <td>25.534669</td>\n",
       "      <td>32.457366</td>\n",
       "      <td>31.183501</td>\n",
       "      <td>32.722294</td>\n",
       "      <td>27.828916</td>\n",
       "      <td>29.060474</td>\n",
       "      <td>1.66129</td>\n",
       "    </tr>\n",
       "    <tr>\n",
       "      <th>min</th>\n",
       "      <td>1.000000</td>\n",
       "      <td>5.000000</td>\n",
       "      <td>5.000000</td>\n",
       "      <td>10.000000</td>\n",
       "      <td>20.000000</td>\n",
       "      <td>5.000000</td>\n",
       "      <td>1.00000</td>\n",
       "    </tr>\n",
       "    <tr>\n",
       "      <th>25%</th>\n",
       "      <td>50.000000</td>\n",
       "      <td>55.000000</td>\n",
       "      <td>50.000000</td>\n",
       "      <td>49.750000</td>\n",
       "      <td>50.000000</td>\n",
       "      <td>45.000000</td>\n",
       "      <td>2.00000</td>\n",
       "    </tr>\n",
       "    <tr>\n",
       "      <th>50%</th>\n",
       "      <td>65.000000</td>\n",
       "      <td>75.000000</td>\n",
       "      <td>70.000000</td>\n",
       "      <td>65.000000</td>\n",
       "      <td>70.000000</td>\n",
       "      <td>65.000000</td>\n",
       "      <td>3.00000</td>\n",
       "    </tr>\n",
       "    <tr>\n",
       "      <th>75%</th>\n",
       "      <td>80.000000</td>\n",
       "      <td>100.000000</td>\n",
       "      <td>90.000000</td>\n",
       "      <td>95.000000</td>\n",
       "      <td>90.000000</td>\n",
       "      <td>90.000000</td>\n",
       "      <td>5.00000</td>\n",
       "    </tr>\n",
       "    <tr>\n",
       "      <th>max</th>\n",
       "      <td>255.000000</td>\n",
       "      <td>190.000000</td>\n",
       "      <td>230.000000</td>\n",
       "      <td>194.000000</td>\n",
       "      <td>230.000000</td>\n",
       "      <td>180.000000</td>\n",
       "      <td>6.00000</td>\n",
       "    </tr>\n",
       "  </tbody>\n",
       "</table>\n",
       "</div>"
      ],
      "text/plain": [
       "               HP      Attack     Defense     Sp. Atk     Sp. Def       Speed  \\\n",
       "count  800.000000  800.000000  800.000000  800.000000  800.000000  800.000000   \n",
       "mean    69.258750   79.001250   73.842500   72.820000   71.902500   68.277500   \n",
       "std     25.534669   32.457366   31.183501   32.722294   27.828916   29.060474   \n",
       "min      1.000000    5.000000    5.000000   10.000000   20.000000    5.000000   \n",
       "25%     50.000000   55.000000   50.000000   49.750000   50.000000   45.000000   \n",
       "50%     65.000000   75.000000   70.000000   65.000000   70.000000   65.000000   \n",
       "75%     80.000000  100.000000   90.000000   95.000000   90.000000   90.000000   \n",
       "max    255.000000  190.000000  230.000000  194.000000  230.000000  180.000000   \n",
       "\n",
       "       Generation  \n",
       "count   800.00000  \n",
       "mean      3.32375  \n",
       "std       1.66129  \n",
       "min       1.00000  \n",
       "25%       2.00000  \n",
       "50%       3.00000  \n",
       "75%       5.00000  \n",
       "max       6.00000  "
      ]
     },
     "execution_count": 24,
     "metadata": {},
     "output_type": "execute_result"
    }
   ],
   "source": [
    "df.describe()"
   ]
  },
  {
   "cell_type": "code",
   "execution_count": 25,
   "id": "49c51c56-0d33-4939-a328-6c5fcec55274",
   "metadata": {},
   "outputs": [
    {
     "data": {
      "text/html": [
       "<div>\n",
       "<style scoped>\n",
       "    .dataframe tbody tr th:only-of-type {\n",
       "        vertical-align: middle;\n",
       "    }\n",
       "\n",
       "    .dataframe tbody tr th {\n",
       "        vertical-align: top;\n",
       "    }\n",
       "\n",
       "    .dataframe thead th {\n",
       "        text-align: right;\n",
       "    }\n",
       "</style>\n",
       "<table border=\"1\" class=\"dataframe\">\n",
       "  <thead>\n",
       "    <tr style=\"text-align: right;\">\n",
       "      <th></th>\n",
       "      <th>Attack</th>\n",
       "      <th>Defense</th>\n",
       "      <th>Sp. Atk</th>\n",
       "      <th>Sp. Def</th>\n",
       "      <th>Speed</th>\n",
       "    </tr>\n",
       "  </thead>\n",
       "  <tbody>\n",
       "    <tr>\n",
       "      <th>min</th>\n",
       "      <td>5.0</td>\n",
       "      <td>5.0</td>\n",
       "      <td>10.00</td>\n",
       "      <td>20.0</td>\n",
       "      <td>5.0</td>\n",
       "    </tr>\n",
       "    <tr>\n",
       "      <th>25%</th>\n",
       "      <td>55.0</td>\n",
       "      <td>50.0</td>\n",
       "      <td>49.75</td>\n",
       "      <td>50.0</td>\n",
       "      <td>45.0</td>\n",
       "    </tr>\n",
       "    <tr>\n",
       "      <th>50%</th>\n",
       "      <td>75.0</td>\n",
       "      <td>70.0</td>\n",
       "      <td>65.00</td>\n",
       "      <td>70.0</td>\n",
       "      <td>65.0</td>\n",
       "    </tr>\n",
       "    <tr>\n",
       "      <th>75%</th>\n",
       "      <td>100.0</td>\n",
       "      <td>90.0</td>\n",
       "      <td>95.00</td>\n",
       "      <td>90.0</td>\n",
       "      <td>90.0</td>\n",
       "    </tr>\n",
       "    <tr>\n",
       "      <th>max</th>\n",
       "      <td>190.0</td>\n",
       "      <td>230.0</td>\n",
       "      <td>194.00</td>\n",
       "      <td>230.0</td>\n",
       "      <td>180.0</td>\n",
       "    </tr>\n",
       "  </tbody>\n",
       "</table>\n",
       "</div>"
      ],
      "text/plain": [
       "     Attack  Defense  Sp. Atk  Sp. Def  Speed\n",
       "min     5.0      5.0    10.00     20.0    5.0\n",
       "25%    55.0     50.0    49.75     50.0   45.0\n",
       "50%    75.0     70.0    65.00     70.0   65.0\n",
       "75%   100.0     90.0    95.00     90.0   90.0\n",
       "max   190.0    230.0   194.00    230.0  180.0"
      ]
     },
     "execution_count": 25,
     "metadata": {},
     "output_type": "execute_result"
    }
   ],
   "source": [
    "df.describe().loc['min':'max', 'Attack':'Speed']"
   ]
  },
  {
   "cell_type": "markdown",
   "id": "49009be9-cace-4813-8b9a-cccad0f9be53",
   "metadata": {
    "tags": []
   },
   "source": [
    "### reverse row order"
   ]
  },
  {
   "cell_type": "code",
   "execution_count": 26,
   "id": "0fcc464f-a2c8-43f5-9121-40ed4816a2bc",
   "metadata": {},
   "outputs": [
    {
     "data": {
      "text/html": [
       "<div>\n",
       "<style scoped>\n",
       "    .dataframe tbody tr th:only-of-type {\n",
       "        vertical-align: middle;\n",
       "    }\n",
       "\n",
       "    .dataframe tbody tr th {\n",
       "        vertical-align: top;\n",
       "    }\n",
       "\n",
       "    .dataframe thead th {\n",
       "        text-align: right;\n",
       "    }\n",
       "</style>\n",
       "<table border=\"1\" class=\"dataframe\">\n",
       "  <thead>\n",
       "    <tr style=\"text-align: right;\">\n",
       "      <th></th>\n",
       "      <th>Name</th>\n",
       "      <th>Type 1</th>\n",
       "      <th>Type 2</th>\n",
       "      <th>HP</th>\n",
       "      <th>Attack</th>\n",
       "      <th>Defense</th>\n",
       "      <th>Sp. Atk</th>\n",
       "      <th>Sp. Def</th>\n",
       "      <th>Speed</th>\n",
       "      <th>Generation</th>\n",
       "      <th>Legendary</th>\n",
       "    </tr>\n",
       "  </thead>\n",
       "  <tbody>\n",
       "    <tr>\n",
       "      <th>799</th>\n",
       "      <td>Volcanion</td>\n",
       "      <td>Fire</td>\n",
       "      <td>Water</td>\n",
       "      <td>80</td>\n",
       "      <td>110</td>\n",
       "      <td>120</td>\n",
       "      <td>130</td>\n",
       "      <td>90</td>\n",
       "      <td>70</td>\n",
       "      <td>6</td>\n",
       "      <td>True</td>\n",
       "    </tr>\n",
       "    <tr>\n",
       "      <th>798</th>\n",
       "      <td>HoopaHoopa Unbound</td>\n",
       "      <td>Psychic</td>\n",
       "      <td>Dark</td>\n",
       "      <td>80</td>\n",
       "      <td>160</td>\n",
       "      <td>60</td>\n",
       "      <td>170</td>\n",
       "      <td>130</td>\n",
       "      <td>80</td>\n",
       "      <td>6</td>\n",
       "      <td>True</td>\n",
       "    </tr>\n",
       "    <tr>\n",
       "      <th>797</th>\n",
       "      <td>HoopaHoopa Confined</td>\n",
       "      <td>Psychic</td>\n",
       "      <td>Ghost</td>\n",
       "      <td>80</td>\n",
       "      <td>110</td>\n",
       "      <td>60</td>\n",
       "      <td>150</td>\n",
       "      <td>130</td>\n",
       "      <td>70</td>\n",
       "      <td>6</td>\n",
       "      <td>True</td>\n",
       "    </tr>\n",
       "    <tr>\n",
       "      <th>796</th>\n",
       "      <td>DiancieMega Diancie</td>\n",
       "      <td>Rock</td>\n",
       "      <td>Fairy</td>\n",
       "      <td>50</td>\n",
       "      <td>160</td>\n",
       "      <td>110</td>\n",
       "      <td>160</td>\n",
       "      <td>110</td>\n",
       "      <td>110</td>\n",
       "      <td>6</td>\n",
       "      <td>True</td>\n",
       "    </tr>\n",
       "    <tr>\n",
       "      <th>795</th>\n",
       "      <td>Diancie</td>\n",
       "      <td>Rock</td>\n",
       "      <td>Fairy</td>\n",
       "      <td>50</td>\n",
       "      <td>100</td>\n",
       "      <td>150</td>\n",
       "      <td>100</td>\n",
       "      <td>150</td>\n",
       "      <td>50</td>\n",
       "      <td>6</td>\n",
       "      <td>True</td>\n",
       "    </tr>\n",
       "  </tbody>\n",
       "</table>\n",
       "</div>"
      ],
      "text/plain": [
       "                    Name   Type 1 Type 2  HP  Attack  Defense  Sp. Atk  \\\n",
       "799            Volcanion     Fire  Water  80     110      120      130   \n",
       "798   HoopaHoopa Unbound  Psychic   Dark  80     160       60      170   \n",
       "797  HoopaHoopa Confined  Psychic  Ghost  80     110       60      150   \n",
       "796  DiancieMega Diancie     Rock  Fairy  50     160      110      160   \n",
       "795              Diancie     Rock  Fairy  50     100      150      100   \n",
       "\n",
       "     Sp. Def  Speed  Generation  Legendary  \n",
       "799       90     70           6       True  \n",
       "798      130     80           6       True  \n",
       "797      130     70           6       True  \n",
       "796      110    110           6       True  \n",
       "795      150     50           6       True  "
      ]
     },
     "execution_count": 26,
     "metadata": {},
     "output_type": "execute_result"
    }
   ],
   "source": [
    "df.loc[::-1].head()"
   ]
  },
  {
   "cell_type": "code",
   "execution_count": 27,
   "id": "881ec8b3-167c-4e8f-9ceb-a86ddff0e9e6",
   "metadata": {},
   "outputs": [
    {
     "data": {
      "text/html": [
       "<div>\n",
       "<style scoped>\n",
       "    .dataframe tbody tr th:only-of-type {\n",
       "        vertical-align: middle;\n",
       "    }\n",
       "\n",
       "    .dataframe tbody tr th {\n",
       "        vertical-align: top;\n",
       "    }\n",
       "\n",
       "    .dataframe thead th {\n",
       "        text-align: right;\n",
       "    }\n",
       "</style>\n",
       "<table border=\"1\" class=\"dataframe\">\n",
       "  <thead>\n",
       "    <tr style=\"text-align: right;\">\n",
       "      <th></th>\n",
       "      <th>Name</th>\n",
       "      <th>Type 1</th>\n",
       "      <th>Type 2</th>\n",
       "      <th>HP</th>\n",
       "      <th>Attack</th>\n",
       "      <th>Defense</th>\n",
       "      <th>Sp. Atk</th>\n",
       "      <th>Sp. Def</th>\n",
       "      <th>Speed</th>\n",
       "      <th>Generation</th>\n",
       "      <th>Legendary</th>\n",
       "    </tr>\n",
       "  </thead>\n",
       "  <tbody>\n",
       "    <tr>\n",
       "      <th>0</th>\n",
       "      <td>Volcanion</td>\n",
       "      <td>Fire</td>\n",
       "      <td>Water</td>\n",
       "      <td>80</td>\n",
       "      <td>110</td>\n",
       "      <td>120</td>\n",
       "      <td>130</td>\n",
       "      <td>90</td>\n",
       "      <td>70</td>\n",
       "      <td>6</td>\n",
       "      <td>True</td>\n",
       "    </tr>\n",
       "    <tr>\n",
       "      <th>1</th>\n",
       "      <td>HoopaHoopa Unbound</td>\n",
       "      <td>Psychic</td>\n",
       "      <td>Dark</td>\n",
       "      <td>80</td>\n",
       "      <td>160</td>\n",
       "      <td>60</td>\n",
       "      <td>170</td>\n",
       "      <td>130</td>\n",
       "      <td>80</td>\n",
       "      <td>6</td>\n",
       "      <td>True</td>\n",
       "    </tr>\n",
       "    <tr>\n",
       "      <th>2</th>\n",
       "      <td>HoopaHoopa Confined</td>\n",
       "      <td>Psychic</td>\n",
       "      <td>Ghost</td>\n",
       "      <td>80</td>\n",
       "      <td>110</td>\n",
       "      <td>60</td>\n",
       "      <td>150</td>\n",
       "      <td>130</td>\n",
       "      <td>70</td>\n",
       "      <td>6</td>\n",
       "      <td>True</td>\n",
       "    </tr>\n",
       "    <tr>\n",
       "      <th>3</th>\n",
       "      <td>DiancieMega Diancie</td>\n",
       "      <td>Rock</td>\n",
       "      <td>Fairy</td>\n",
       "      <td>50</td>\n",
       "      <td>160</td>\n",
       "      <td>110</td>\n",
       "      <td>160</td>\n",
       "      <td>110</td>\n",
       "      <td>110</td>\n",
       "      <td>6</td>\n",
       "      <td>True</td>\n",
       "    </tr>\n",
       "    <tr>\n",
       "      <th>4</th>\n",
       "      <td>Diancie</td>\n",
       "      <td>Rock</td>\n",
       "      <td>Fairy</td>\n",
       "      <td>50</td>\n",
       "      <td>100</td>\n",
       "      <td>150</td>\n",
       "      <td>100</td>\n",
       "      <td>150</td>\n",
       "      <td>50</td>\n",
       "      <td>6</td>\n",
       "      <td>True</td>\n",
       "    </tr>\n",
       "  </tbody>\n",
       "</table>\n",
       "</div>"
      ],
      "text/plain": [
       "                  Name   Type 1 Type 2  HP  Attack  Defense  Sp. Atk  Sp. Def  \\\n",
       "0            Volcanion     Fire  Water  80     110      120      130       90   \n",
       "1   HoopaHoopa Unbound  Psychic   Dark  80     160       60      170      130   \n",
       "2  HoopaHoopa Confined  Psychic  Ghost  80     110       60      150      130   \n",
       "3  DiancieMega Diancie     Rock  Fairy  50     160      110      160      110   \n",
       "4              Diancie     Rock  Fairy  50     100      150      100      150   \n",
       "\n",
       "   Speed  Generation  Legendary  \n",
       "0     70           6       True  \n",
       "1     80           6       True  \n",
       "2     70           6       True  \n",
       "3    110           6       True  \n",
       "4     50           6       True  "
      ]
     },
     "execution_count": 27,
     "metadata": {},
     "output_type": "execute_result"
    }
   ],
   "source": [
    "#reverse and reset index\n",
    "df.loc[::-1].reset_index(drop=True).head()"
   ]
  },
  {
   "cell_type": "markdown",
   "id": "19e01adc-0c4f-4f2c-afce-d98f94a72eb2",
   "metadata": {},
   "source": [
    "### reverse column order"
   ]
  },
  {
   "cell_type": "code",
   "execution_count": 28,
   "id": "94ed14b4-831c-44ca-9768-42bc402f9dc5",
   "metadata": {},
   "outputs": [
    {
     "data": {
      "text/html": [
       "<div>\n",
       "<style scoped>\n",
       "    .dataframe tbody tr th:only-of-type {\n",
       "        vertical-align: middle;\n",
       "    }\n",
       "\n",
       "    .dataframe tbody tr th {\n",
       "        vertical-align: top;\n",
       "    }\n",
       "\n",
       "    .dataframe thead th {\n",
       "        text-align: right;\n",
       "    }\n",
       "</style>\n",
       "<table border=\"1\" class=\"dataframe\">\n",
       "  <thead>\n",
       "    <tr style=\"text-align: right;\">\n",
       "      <th></th>\n",
       "      <th>Legendary</th>\n",
       "      <th>Generation</th>\n",
       "      <th>Speed</th>\n",
       "      <th>Sp. Def</th>\n",
       "      <th>Sp. Atk</th>\n",
       "      <th>Defense</th>\n",
       "      <th>Attack</th>\n",
       "      <th>HP</th>\n",
       "      <th>Type 2</th>\n",
       "      <th>Type 1</th>\n",
       "      <th>Name</th>\n",
       "    </tr>\n",
       "  </thead>\n",
       "  <tbody>\n",
       "    <tr>\n",
       "      <th>0</th>\n",
       "      <td>False</td>\n",
       "      <td>1</td>\n",
       "      <td>45</td>\n",
       "      <td>65</td>\n",
       "      <td>65</td>\n",
       "      <td>49</td>\n",
       "      <td>49</td>\n",
       "      <td>45</td>\n",
       "      <td>Poison</td>\n",
       "      <td>Grass</td>\n",
       "      <td>Bulbasaur</td>\n",
       "    </tr>\n",
       "    <tr>\n",
       "      <th>1</th>\n",
       "      <td>False</td>\n",
       "      <td>1</td>\n",
       "      <td>60</td>\n",
       "      <td>80</td>\n",
       "      <td>80</td>\n",
       "      <td>63</td>\n",
       "      <td>62</td>\n",
       "      <td>60</td>\n",
       "      <td>Poison</td>\n",
       "      <td>Grass</td>\n",
       "      <td>Ivysaur</td>\n",
       "    </tr>\n",
       "    <tr>\n",
       "      <th>2</th>\n",
       "      <td>False</td>\n",
       "      <td>1</td>\n",
       "      <td>80</td>\n",
       "      <td>100</td>\n",
       "      <td>100</td>\n",
       "      <td>83</td>\n",
       "      <td>82</td>\n",
       "      <td>80</td>\n",
       "      <td>Poison</td>\n",
       "      <td>Grass</td>\n",
       "      <td>Venusaur</td>\n",
       "    </tr>\n",
       "    <tr>\n",
       "      <th>3</th>\n",
       "      <td>False</td>\n",
       "      <td>1</td>\n",
       "      <td>80</td>\n",
       "      <td>120</td>\n",
       "      <td>122</td>\n",
       "      <td>123</td>\n",
       "      <td>100</td>\n",
       "      <td>80</td>\n",
       "      <td>Poison</td>\n",
       "      <td>Grass</td>\n",
       "      <td>VenusaurMega Venusaur</td>\n",
       "    </tr>\n",
       "    <tr>\n",
       "      <th>4</th>\n",
       "      <td>False</td>\n",
       "      <td>1</td>\n",
       "      <td>65</td>\n",
       "      <td>50</td>\n",
       "      <td>60</td>\n",
       "      <td>43</td>\n",
       "      <td>52</td>\n",
       "      <td>39</td>\n",
       "      <td>NaN</td>\n",
       "      <td>Fire</td>\n",
       "      <td>Charmander</td>\n",
       "    </tr>\n",
       "  </tbody>\n",
       "</table>\n",
       "</div>"
      ],
      "text/plain": [
       "   Legendary  Generation  Speed  Sp. Def  Sp. Atk  Defense  Attack  HP  \\\n",
       "0      False           1     45       65       65       49      49  45   \n",
       "1      False           1     60       80       80       63      62  60   \n",
       "2      False           1     80      100      100       83      82  80   \n",
       "3      False           1     80      120      122      123     100  80   \n",
       "4      False           1     65       50       60       43      52  39   \n",
       "\n",
       "   Type 2 Type 1                   Name  \n",
       "0  Poison  Grass              Bulbasaur  \n",
       "1  Poison  Grass                Ivysaur  \n",
       "2  Poison  Grass               Venusaur  \n",
       "3  Poison  Grass  VenusaurMega Venusaur  \n",
       "4     NaN   Fire             Charmander  "
      ]
     },
     "execution_count": 28,
     "metadata": {},
     "output_type": "execute_result"
    }
   ],
   "source": [
    "df.loc[:, ::-1].head()"
   ]
  },
  {
   "cell_type": "markdown",
   "id": "58cf6b6b-65e9-4a1c-9939-c5d1b92859f0",
   "metadata": {},
   "source": [
    "### select columns by datatype"
   ]
  },
  {
   "cell_type": "code",
   "execution_count": 29,
   "id": "8ab567a4-ba3e-4f46-9907-c5f9eb7b2a32",
   "metadata": {},
   "outputs": [
    {
     "data": {
      "text/plain": [
       "Name          object\n",
       "Type 1        object\n",
       "Type 2        object\n",
       "HP             int64\n",
       "Attack         int64\n",
       "Defense        int64\n",
       "Sp. Atk        int64\n",
       "Sp. Def        int64\n",
       "Speed          int64\n",
       "Generation     int64\n",
       "Legendary       bool\n",
       "dtype: object"
      ]
     },
     "execution_count": 29,
     "metadata": {},
     "output_type": "execute_result"
    }
   ],
   "source": [
    "df.dtypes"
   ]
  },
  {
   "cell_type": "code",
   "execution_count": 30,
   "id": "4dc9c2f7-9867-4407-b331-489f7ab66edf",
   "metadata": {},
   "outputs": [
    {
     "data": {
      "text/html": [
       "<div>\n",
       "<style scoped>\n",
       "    .dataframe tbody tr th:only-of-type {\n",
       "        vertical-align: middle;\n",
       "    }\n",
       "\n",
       "    .dataframe tbody tr th {\n",
       "        vertical-align: top;\n",
       "    }\n",
       "\n",
       "    .dataframe thead th {\n",
       "        text-align: right;\n",
       "    }\n",
       "</style>\n",
       "<table border=\"1\" class=\"dataframe\">\n",
       "  <thead>\n",
       "    <tr style=\"text-align: right;\">\n",
       "      <th></th>\n",
       "      <th>HP</th>\n",
       "      <th>Attack</th>\n",
       "      <th>Defense</th>\n",
       "      <th>Sp. Atk</th>\n",
       "      <th>Sp. Def</th>\n",
       "      <th>Speed</th>\n",
       "      <th>Generation</th>\n",
       "    </tr>\n",
       "  </thead>\n",
       "  <tbody>\n",
       "    <tr>\n",
       "      <th>0</th>\n",
       "      <td>45</td>\n",
       "      <td>49</td>\n",
       "      <td>49</td>\n",
       "      <td>65</td>\n",
       "      <td>65</td>\n",
       "      <td>45</td>\n",
       "      <td>1</td>\n",
       "    </tr>\n",
       "    <tr>\n",
       "      <th>1</th>\n",
       "      <td>60</td>\n",
       "      <td>62</td>\n",
       "      <td>63</td>\n",
       "      <td>80</td>\n",
       "      <td>80</td>\n",
       "      <td>60</td>\n",
       "      <td>1</td>\n",
       "    </tr>\n",
       "    <tr>\n",
       "      <th>2</th>\n",
       "      <td>80</td>\n",
       "      <td>82</td>\n",
       "      <td>83</td>\n",
       "      <td>100</td>\n",
       "      <td>100</td>\n",
       "      <td>80</td>\n",
       "      <td>1</td>\n",
       "    </tr>\n",
       "    <tr>\n",
       "      <th>3</th>\n",
       "      <td>80</td>\n",
       "      <td>100</td>\n",
       "      <td>123</td>\n",
       "      <td>122</td>\n",
       "      <td>120</td>\n",
       "      <td>80</td>\n",
       "      <td>1</td>\n",
       "    </tr>\n",
       "    <tr>\n",
       "      <th>4</th>\n",
       "      <td>39</td>\n",
       "      <td>52</td>\n",
       "      <td>43</td>\n",
       "      <td>60</td>\n",
       "      <td>50</td>\n",
       "      <td>65</td>\n",
       "      <td>1</td>\n",
       "    </tr>\n",
       "  </tbody>\n",
       "</table>\n",
       "</div>"
      ],
      "text/plain": [
       "   HP  Attack  Defense  Sp. Atk  Sp. Def  Speed  Generation\n",
       "0  45      49       49       65       65     45           1\n",
       "1  60      62       63       80       80     60           1\n",
       "2  80      82       83      100      100     80           1\n",
       "3  80     100      123      122      120     80           1\n",
       "4  39      52       43       60       50     65           1"
      ]
     },
     "execution_count": 30,
     "metadata": {},
     "output_type": "execute_result"
    }
   ],
   "source": [
    "df.select_dtypes(include='number').head()"
   ]
  },
  {
   "cell_type": "code",
   "execution_count": 31,
   "id": "9d50c61b-0372-4472-aa52-35e89080c30e",
   "metadata": {},
   "outputs": [
    {
     "data": {
      "text/html": [
       "<div>\n",
       "<style scoped>\n",
       "    .dataframe tbody tr th:only-of-type {\n",
       "        vertical-align: middle;\n",
       "    }\n",
       "\n",
       "    .dataframe tbody tr th {\n",
       "        vertical-align: top;\n",
       "    }\n",
       "\n",
       "    .dataframe thead th {\n",
       "        text-align: right;\n",
       "    }\n",
       "</style>\n",
       "<table border=\"1\" class=\"dataframe\">\n",
       "  <thead>\n",
       "    <tr style=\"text-align: right;\">\n",
       "      <th></th>\n",
       "      <th>Name</th>\n",
       "      <th>Type 1</th>\n",
       "      <th>Type 2</th>\n",
       "    </tr>\n",
       "  </thead>\n",
       "  <tbody>\n",
       "    <tr>\n",
       "      <th>0</th>\n",
       "      <td>Bulbasaur</td>\n",
       "      <td>Grass</td>\n",
       "      <td>Poison</td>\n",
       "    </tr>\n",
       "    <tr>\n",
       "      <th>1</th>\n",
       "      <td>Ivysaur</td>\n",
       "      <td>Grass</td>\n",
       "      <td>Poison</td>\n",
       "    </tr>\n",
       "    <tr>\n",
       "      <th>2</th>\n",
       "      <td>Venusaur</td>\n",
       "      <td>Grass</td>\n",
       "      <td>Poison</td>\n",
       "    </tr>\n",
       "    <tr>\n",
       "      <th>3</th>\n",
       "      <td>VenusaurMega Venusaur</td>\n",
       "      <td>Grass</td>\n",
       "      <td>Poison</td>\n",
       "    </tr>\n",
       "    <tr>\n",
       "      <th>4</th>\n",
       "      <td>Charmander</td>\n",
       "      <td>Fire</td>\n",
       "      <td>NaN</td>\n",
       "    </tr>\n",
       "  </tbody>\n",
       "</table>\n",
       "</div>"
      ],
      "text/plain": [
       "                    Name Type 1  Type 2\n",
       "0              Bulbasaur  Grass  Poison\n",
       "1                Ivysaur  Grass  Poison\n",
       "2               Venusaur  Grass  Poison\n",
       "3  VenusaurMega Venusaur  Grass  Poison\n",
       "4             Charmander   Fire     NaN"
      ]
     },
     "execution_count": 31,
     "metadata": {},
     "output_type": "execute_result"
    }
   ],
   "source": [
    "df.select_dtypes(include='object').head()"
   ]
  },
  {
   "cell_type": "code",
   "execution_count": 32,
   "id": "22920638-678f-4a5b-8b3f-64731e7f7e51",
   "metadata": {},
   "outputs": [
    {
     "data": {
      "text/html": [
       "<div>\n",
       "<style scoped>\n",
       "    .dataframe tbody tr th:only-of-type {\n",
       "        vertical-align: middle;\n",
       "    }\n",
       "\n",
       "    .dataframe tbody tr th {\n",
       "        vertical-align: top;\n",
       "    }\n",
       "\n",
       "    .dataframe thead th {\n",
       "        text-align: right;\n",
       "    }\n",
       "</style>\n",
       "<table border=\"1\" class=\"dataframe\">\n",
       "  <thead>\n",
       "    <tr style=\"text-align: right;\">\n",
       "      <th></th>\n",
       "      <th>Name</th>\n",
       "      <th>Type 1</th>\n",
       "      <th>Type 2</th>\n",
       "      <th>Legendary</th>\n",
       "    </tr>\n",
       "  </thead>\n",
       "  <tbody>\n",
       "    <tr>\n",
       "      <th>0</th>\n",
       "      <td>Bulbasaur</td>\n",
       "      <td>Grass</td>\n",
       "      <td>Poison</td>\n",
       "      <td>False</td>\n",
       "    </tr>\n",
       "    <tr>\n",
       "      <th>1</th>\n",
       "      <td>Ivysaur</td>\n",
       "      <td>Grass</td>\n",
       "      <td>Poison</td>\n",
       "      <td>False</td>\n",
       "    </tr>\n",
       "    <tr>\n",
       "      <th>2</th>\n",
       "      <td>Venusaur</td>\n",
       "      <td>Grass</td>\n",
       "      <td>Poison</td>\n",
       "      <td>False</td>\n",
       "    </tr>\n",
       "    <tr>\n",
       "      <th>3</th>\n",
       "      <td>VenusaurMega Venusaur</td>\n",
       "      <td>Grass</td>\n",
       "      <td>Poison</td>\n",
       "      <td>False</td>\n",
       "    </tr>\n",
       "    <tr>\n",
       "      <th>4</th>\n",
       "      <td>Charmander</td>\n",
       "      <td>Fire</td>\n",
       "      <td>NaN</td>\n",
       "      <td>False</td>\n",
       "    </tr>\n",
       "  </tbody>\n",
       "</table>\n",
       "</div>"
      ],
      "text/plain": [
       "                    Name Type 1  Type 2  Legendary\n",
       "0              Bulbasaur  Grass  Poison      False\n",
       "1                Ivysaur  Grass  Poison      False\n",
       "2               Venusaur  Grass  Poison      False\n",
       "3  VenusaurMega Venusaur  Grass  Poison      False\n",
       "4             Charmander   Fire     NaN      False"
      ]
     },
     "execution_count": 32,
     "metadata": {},
     "output_type": "execute_result"
    }
   ],
   "source": [
    "df.select_dtypes(exclude='number').head()"
   ]
  },
  {
   "cell_type": "markdown",
   "id": "00356e9d-67d0-49e5-8142-823c846ab34d",
   "metadata": {},
   "source": [
    "### convert string to numbers"
   ]
  },
  {
   "cell_type": "code",
   "execution_count": 33,
   "id": "8d1a5cf9-8277-44f1-b72d-a0f853215ab7",
   "metadata": {},
   "outputs": [
    {
     "data": {
      "text/html": [
       "<div>\n",
       "<style scoped>\n",
       "    .dataframe tbody tr th:only-of-type {\n",
       "        vertical-align: middle;\n",
       "    }\n",
       "\n",
       "    .dataframe tbody tr th {\n",
       "        vertical-align: top;\n",
       "    }\n",
       "\n",
       "    .dataframe thead th {\n",
       "        text-align: right;\n",
       "    }\n",
       "</style>\n",
       "<table border=\"1\" class=\"dataframe\">\n",
       "  <thead>\n",
       "    <tr style=\"text-align: right;\">\n",
       "      <th></th>\n",
       "      <th>col_one</th>\n",
       "      <th>col_two</th>\n",
       "      <th>col_three</th>\n",
       "    </tr>\n",
       "  </thead>\n",
       "  <tbody>\n",
       "    <tr>\n",
       "      <th>0</th>\n",
       "      <td>1.1</td>\n",
       "      <td>4.4</td>\n",
       "      <td>3.1</td>\n",
       "    </tr>\n",
       "    <tr>\n",
       "      <th>1</th>\n",
       "      <td>1.3</td>\n",
       "      <td>5.3</td>\n",
       "      <td>6.3</td>\n",
       "    </tr>\n",
       "    <tr>\n",
       "      <th>2</th>\n",
       "      <td>3.3</td>\n",
       "      <td>7.5</td>\n",
       "      <td>-</td>\n",
       "    </tr>\n",
       "  </tbody>\n",
       "</table>\n",
       "</div>"
      ],
      "text/plain": [
       "  col_one col_two col_three\n",
       "0     1.1     4.4       3.1\n",
       "1     1.3     5.3       6.3\n",
       "2     3.3     7.5         -"
      ]
     },
     "execution_count": 33,
     "metadata": {},
     "output_type": "execute_result"
    }
   ],
   "source": [
    "df = pd.DataFrame({'col_one':['1.1', '1.3', '3.3'],\n",
    "                   'col_two':['4.4', '5.3', '7.5'],\n",
    "                   'col_three':['3.1', '6.3', '-']})\n",
    "\n",
    "df"
   ]
  },
  {
   "cell_type": "code",
   "execution_count": 34,
   "id": "fd2059f0-a80a-42a6-9307-e5f85050f675",
   "metadata": {},
   "outputs": [
    {
     "data": {
      "text/plain": [
       "col_one      object\n",
       "col_two      object\n",
       "col_three    object\n",
       "dtype: object"
      ]
     },
     "execution_count": 34,
     "metadata": {},
     "output_type": "execute_result"
    }
   ],
   "source": [
    "df.dtypes"
   ]
  },
  {
   "cell_type": "code",
   "execution_count": 35,
   "id": "96bf8804-689b-40f6-8126-fb3c1bdef88e",
   "metadata": {},
   "outputs": [
    {
     "data": {
      "text/plain": [
       "col_one      float64\n",
       "col_two      float64\n",
       "col_three     object\n",
       "dtype: object"
      ]
     },
     "execution_count": 35,
     "metadata": {},
     "output_type": "execute_result"
    }
   ],
   "source": [
    "df.astype({'col_one':'float', 'col_two':'float'}).dtypes"
   ]
  },
  {
   "cell_type": "markdown",
   "id": "38cab956-a7da-43d2-aa84-da3ece46bcef",
   "metadata": {},
   "source": [
    "> it didn't convert the third column...for that we will use `pd.to_numeric` method."
   ]
  },
  {
   "cell_type": "code",
   "execution_count": 36,
   "id": "8004512f-6232-40fd-8e3a-6e67385fbfbd",
   "metadata": {},
   "outputs": [
    {
     "data": {
      "text/plain": [
       "0    3.1\n",
       "1    6.3\n",
       "2    NaN\n",
       "Name: col_three, dtype: float64"
      ]
     },
     "execution_count": 36,
     "metadata": {},
     "output_type": "execute_result"
    }
   ],
   "source": [
    "pd.to_numeric(df.col_three, errors='coerce')"
   ]
  },
  {
   "cell_type": "code",
   "execution_count": 37,
   "id": "7b948b75-c7f2-462e-ac0b-87a8dfa3b110",
   "metadata": {},
   "outputs": [
    {
     "data": {
      "text/plain": [
       "0    3.1\n",
       "1    6.3\n",
       "2    0.0\n",
       "Name: col_three, dtype: float64"
      ]
     },
     "execution_count": 37,
     "metadata": {},
     "output_type": "execute_result"
    }
   ],
   "source": [
    "pd.to_numeric(df.col_three, errors='coerce').fillna(0)"
   ]
  },
  {
   "cell_type": "code",
   "execution_count": 38,
   "id": "b60ea643-ea16-4feb-b930-7270286b4d9a",
   "metadata": {},
   "outputs": [
    {
     "data": {
      "text/html": [
       "<div>\n",
       "<style scoped>\n",
       "    .dataframe tbody tr th:only-of-type {\n",
       "        vertical-align: middle;\n",
       "    }\n",
       "\n",
       "    .dataframe tbody tr th {\n",
       "        vertical-align: top;\n",
       "    }\n",
       "\n",
       "    .dataframe thead th {\n",
       "        text-align: right;\n",
       "    }\n",
       "</style>\n",
       "<table border=\"1\" class=\"dataframe\">\n",
       "  <thead>\n",
       "    <tr style=\"text-align: right;\">\n",
       "      <th></th>\n",
       "      <th>col_one</th>\n",
       "      <th>col_two</th>\n",
       "      <th>col_three</th>\n",
       "    </tr>\n",
       "  </thead>\n",
       "  <tbody>\n",
       "    <tr>\n",
       "      <th>0</th>\n",
       "      <td>1.1</td>\n",
       "      <td>4.4</td>\n",
       "      <td>3.1</td>\n",
       "    </tr>\n",
       "    <tr>\n",
       "      <th>1</th>\n",
       "      <td>1.3</td>\n",
       "      <td>5.3</td>\n",
       "      <td>6.3</td>\n",
       "    </tr>\n",
       "    <tr>\n",
       "      <th>2</th>\n",
       "      <td>3.3</td>\n",
       "      <td>7.5</td>\n",
       "      <td>0.0</td>\n",
       "    </tr>\n",
       "  </tbody>\n",
       "</table>\n",
       "</div>"
      ],
      "text/plain": [
       "   col_one  col_two  col_three\n",
       "0      1.1      4.4        3.1\n",
       "1      1.3      5.3        6.3\n",
       "2      3.3      7.5        0.0"
      ]
     },
     "execution_count": 38,
     "metadata": {},
     "output_type": "execute_result"
    }
   ],
   "source": [
    "#you can use above method on complete dataframe using apply\n",
    "\n",
    "df = df.apply(pd.to_numeric, errors='coerce').fillna(0)\n",
    "df"
   ]
  },
  {
   "cell_type": "code",
   "execution_count": 39,
   "id": "e7e1f516-7a2c-458a-9cac-64cfb4a6b059",
   "metadata": {},
   "outputs": [
    {
     "data": {
      "text/plain": [
       "col_one      float64\n",
       "col_two      float64\n",
       "col_three    float64\n",
       "dtype: object"
      ]
     },
     "execution_count": 39,
     "metadata": {},
     "output_type": "execute_result"
    }
   ],
   "source": [
    "df.dtypes"
   ]
  },
  {
   "cell_type": "markdown",
   "id": "dda17249-4c8f-4ba1-af74-1ffb26cf08a8",
   "metadata": {},
   "source": [
    "### reduce dataframe size  \n",
    "\n",
    "* using usecols to read only required columns in memory  \n",
    "* convert any column containing categorical data into category type"
   ]
  },
  {
   "cell_type": "code",
   "execution_count": 40,
   "id": "711bb098-e70b-4536-9a2e-0d815330f797",
   "metadata": {},
   "outputs": [
    {
     "name": "stdout",
     "output_type": "stream",
     "text": [
      "<class 'pandas.core.frame.DataFrame'>\n",
      "RangeIndex: 800 entries, 0 to 799\n",
      "Data columns (total 11 columns):\n",
      " #   Column      Non-Null Count  Dtype \n",
      "---  ------      --------------  ----- \n",
      " 0   Name        800 non-null    object\n",
      " 1   Type 1      800 non-null    object\n",
      " 2   Type 2      414 non-null    object\n",
      " 3   HP          800 non-null    int64 \n",
      " 4   Attack      800 non-null    int64 \n",
      " 5   Defense     800 non-null    int64 \n",
      " 6   Sp. Atk     800 non-null    int64 \n",
      " 7   Sp. Def     800 non-null    int64 \n",
      " 8   Speed       800 non-null    int64 \n",
      " 9   Generation  800 non-null    int64 \n",
      " 10  Legendary   800 non-null    bool  \n",
      "dtypes: bool(1), int64(7), object(3)\n",
      "memory usage: 182.2 KB\n"
     ]
    }
   ],
   "source": [
    " \n",
    "df = pd.read_csv('data/pokemon_data.csv')\n",
    "df.info(memory_usage='deep')"
   ]
  },
  {
   "cell_type": "code",
   "execution_count": 41,
   "id": "c02f344e-bee5-4f86-a6f5-26a7d0b8293e",
   "metadata": {},
   "outputs": [
    {
     "name": "stdout",
     "output_type": "stream",
     "text": [
      "<class 'pandas.core.frame.DataFrame'>\n",
      "RangeIndex: 800 entries, 0 to 799\n",
      "Data columns (total 4 columns):\n",
      " #   Column  Non-Null Count  Dtype \n",
      "---  ------  --------------  ----- \n",
      " 0   Name    800 non-null    object\n",
      " 1   Type 1  800 non-null    object\n",
      " 2   Type 2  414 non-null    object\n",
      " 3   HP      800 non-null    int64 \n",
      "dtypes: int64(1), object(3)\n",
      "memory usage: 143.9 KB\n"
     ]
    }
   ],
   "source": [
    "# using usecols to read only required columns in memory\n",
    "cols = ['Name', 'Type 2', 'Type 1','HP']\n",
    "df = pd.read_csv('data/pokemon_data.csv', usecols=cols)\n",
    "df.info(memory_usage='deep')"
   ]
  },
  {
   "cell_type": "code",
   "execution_count": 42,
   "id": "772aefc1-699c-407d-bbae-4ec9e407721f",
   "metadata": {},
   "outputs": [
    {
     "name": "stdout",
     "output_type": "stream",
     "text": [
      "<class 'pandas.core.frame.DataFrame'>\n",
      "RangeIndex: 800 entries, 0 to 799\n",
      "Data columns (total 4 columns):\n",
      " #   Column  Non-Null Count  Dtype   \n",
      "---  ------  --------------  -----   \n",
      " 0   Name    800 non-null    category\n",
      " 1   Type 1  800 non-null    category\n",
      " 2   Type 2  414 non-null    category\n",
      " 3   HP      800 non-null    int64   \n",
      "dtypes: category(3), int64(1)\n",
      "memory usage: 96.5 KB\n"
     ]
    }
   ],
   "source": [
    "#convert any column containing categorical data into category type\n",
    "cols = ['Name', 'Type 2', 'Type 1','HP']\n",
    "dtypes={'Name':'category', 'Type 2':'category', 'Type 1': 'category'}\n",
    "df = pd.read_csv('data/pokemon_data.csv', usecols=cols, dtype=dtypes)\n",
    "df.info(memory_usage='deep')"
   ]
  },
  {
   "cell_type": "code",
   "execution_count": 43,
   "id": "d23df084-5c82-4bc5-916f-530cf264601d",
   "metadata": {},
   "outputs": [
    {
     "data": {
      "text/html": [
       "<div>\n",
       "<style scoped>\n",
       "    .dataframe tbody tr th:only-of-type {\n",
       "        vertical-align: middle;\n",
       "    }\n",
       "\n",
       "    .dataframe tbody tr th {\n",
       "        vertical-align: top;\n",
       "    }\n",
       "\n",
       "    .dataframe thead th {\n",
       "        text-align: right;\n",
       "    }\n",
       "</style>\n",
       "<table border=\"1\" class=\"dataframe\">\n",
       "  <thead>\n",
       "    <tr style=\"text-align: right;\">\n",
       "      <th></th>\n",
       "      <th>Name</th>\n",
       "      <th>Type 1</th>\n",
       "      <th>Type 2</th>\n",
       "      <th>HP</th>\n",
       "    </tr>\n",
       "  </thead>\n",
       "  <tbody>\n",
       "    <tr>\n",
       "      <th>794</th>\n",
       "      <td>Zygarde50% Forme</td>\n",
       "      <td>Dragon</td>\n",
       "      <td>Ground</td>\n",
       "      <td>108</td>\n",
       "    </tr>\n",
       "    <tr>\n",
       "      <th>695</th>\n",
       "      <td>Zweilous</td>\n",
       "      <td>Dark</td>\n",
       "      <td>Dragon</td>\n",
       "      <td>72</td>\n",
       "    </tr>\n",
       "    <tr>\n",
       "      <th>46</th>\n",
       "      <td>Zubat</td>\n",
       "      <td>Poison</td>\n",
       "      <td>Flying</td>\n",
       "      <td>40</td>\n",
       "    </tr>\n",
       "    <tr>\n",
       "      <th>631</th>\n",
       "      <td>Zorua</td>\n",
       "      <td>Dark</td>\n",
       "      <td>NaN</td>\n",
       "      <td>40</td>\n",
       "    </tr>\n",
       "    <tr>\n",
       "      <th>632</th>\n",
       "      <td>Zoroark</td>\n",
       "      <td>Dark</td>\n",
       "      <td>NaN</td>\n",
       "      <td>60</td>\n",
       "    </tr>\n",
       "    <tr>\n",
       "      <th>...</th>\n",
       "      <td>...</td>\n",
       "      <td>...</td>\n",
       "      <td>...</td>\n",
       "      <td>...</td>\n",
       "    </tr>\n",
       "    <tr>\n",
       "      <th>393</th>\n",
       "      <td>AbsolMega Absol</td>\n",
       "      <td>Dark</td>\n",
       "      <td>NaN</td>\n",
       "      <td>65</td>\n",
       "    </tr>\n",
       "    <tr>\n",
       "      <th>392</th>\n",
       "      <td>Absol</td>\n",
       "      <td>Dark</td>\n",
       "      <td>NaN</td>\n",
       "      <td>65</td>\n",
       "    </tr>\n",
       "    <tr>\n",
       "      <th>68</th>\n",
       "      <td>Abra</td>\n",
       "      <td>Psychic</td>\n",
       "      <td>NaN</td>\n",
       "      <td>25</td>\n",
       "    </tr>\n",
       "    <tr>\n",
       "      <th>511</th>\n",
       "      <td>AbomasnowMega Abomasnow</td>\n",
       "      <td>Grass</td>\n",
       "      <td>Ice</td>\n",
       "      <td>90</td>\n",
       "    </tr>\n",
       "    <tr>\n",
       "      <th>510</th>\n",
       "      <td>Abomasnow</td>\n",
       "      <td>Grass</td>\n",
       "      <td>Ice</td>\n",
       "      <td>90</td>\n",
       "    </tr>\n",
       "  </tbody>\n",
       "</table>\n",
       "<p>800 rows × 4 columns</p>\n",
       "</div>"
      ],
      "text/plain": [
       "                        Name   Type 1  Type 2   HP\n",
       "794         Zygarde50% Forme   Dragon  Ground  108\n",
       "695                 Zweilous     Dark  Dragon   72\n",
       "46                     Zubat   Poison  Flying   40\n",
       "631                    Zorua     Dark     NaN   40\n",
       "632                  Zoroark     Dark     NaN   60\n",
       "..                       ...      ...     ...  ...\n",
       "393          AbsolMega Absol     Dark     NaN   65\n",
       "392                    Absol     Dark     NaN   65\n",
       "68                      Abra  Psychic     NaN   25\n",
       "511  AbomasnowMega Abomasnow    Grass     Ice   90\n",
       "510                Abomasnow    Grass     Ice   90\n",
       "\n",
       "[800 rows x 4 columns]"
      ]
     },
     "execution_count": 43,
     "metadata": {},
     "output_type": "execute_result"
    }
   ],
   "source": [
    "#sorting values by name in reverse manner\n",
    "df.sort_values('Name', ascending=False)\n"
   ]
  },
  {
   "cell_type": "code",
   "execution_count": 44,
   "id": "077ea7c9-9734-4195-8aa8-fca8da90b8de",
   "metadata": {},
   "outputs": [
    {
     "data": {
      "text/html": [
       "<div>\n",
       "<style scoped>\n",
       "    .dataframe tbody tr th:only-of-type {\n",
       "        vertical-align: middle;\n",
       "    }\n",
       "\n",
       "    .dataframe tbody tr th {\n",
       "        vertical-align: top;\n",
       "    }\n",
       "\n",
       "    .dataframe thead th {\n",
       "        text-align: right;\n",
       "    }\n",
       "</style>\n",
       "<table border=\"1\" class=\"dataframe\">\n",
       "  <thead>\n",
       "    <tr style=\"text-align: right;\">\n",
       "      <th></th>\n",
       "      <th>Name</th>\n",
       "      <th>Type 1</th>\n",
       "      <th>Type 2</th>\n",
       "      <th>HP</th>\n",
       "    </tr>\n",
       "  </thead>\n",
       "  <tbody>\n",
       "    <tr>\n",
       "      <th>520</th>\n",
       "      <td>Yanmega</td>\n",
       "      <td>Bug</td>\n",
       "      <td>Flying</td>\n",
       "      <td>86</td>\n",
       "    </tr>\n",
       "    <tr>\n",
       "      <th>698</th>\n",
       "      <td>Volcarona</td>\n",
       "      <td>Bug</td>\n",
       "      <td>Fire</td>\n",
       "      <td>85</td>\n",
       "    </tr>\n",
       "    <tr>\n",
       "      <th>231</th>\n",
       "      <td>Heracross</td>\n",
       "      <td>Bug</td>\n",
       "      <td>Fighting</td>\n",
       "      <td>80</td>\n",
       "    </tr>\n",
       "    <tr>\n",
       "      <th>232</th>\n",
       "      <td>HeracrossMega Heracross</td>\n",
       "      <td>Bug</td>\n",
       "      <td>Fighting</td>\n",
       "      <td>80</td>\n",
       "    </tr>\n",
       "    <tr>\n",
       "      <th>678</th>\n",
       "      <td>Accelgor</td>\n",
       "      <td>Bug</td>\n",
       "      <td>NaN</td>\n",
       "      <td>80</td>\n",
       "    </tr>\n",
       "    <tr>\n",
       "      <th>...</th>\n",
       "      <td>...</td>\n",
       "      <td>...</td>\n",
       "      <td>...</td>\n",
       "      <td>...</td>\n",
       "    </tr>\n",
       "    <tr>\n",
       "      <th>106</th>\n",
       "      <td>Krabby</td>\n",
       "      <td>Water</td>\n",
       "      <td>NaN</td>\n",
       "      <td>30</td>\n",
       "    </tr>\n",
       "    <tr>\n",
       "      <th>125</th>\n",
       "      <td>Horsea</td>\n",
       "      <td>Water</td>\n",
       "      <td>NaN</td>\n",
       "      <td>30</td>\n",
       "    </tr>\n",
       "    <tr>\n",
       "      <th>129</th>\n",
       "      <td>Staryu</td>\n",
       "      <td>Water</td>\n",
       "      <td>NaN</td>\n",
       "      <td>30</td>\n",
       "    </tr>\n",
       "    <tr>\n",
       "      <th>139</th>\n",
       "      <td>Magikarp</td>\n",
       "      <td>Water</td>\n",
       "      <td>NaN</td>\n",
       "      <td>20</td>\n",
       "    </tr>\n",
       "    <tr>\n",
       "      <th>381</th>\n",
       "      <td>Feebas</td>\n",
       "      <td>Water</td>\n",
       "      <td>NaN</td>\n",
       "      <td>20</td>\n",
       "    </tr>\n",
       "  </tbody>\n",
       "</table>\n",
       "<p>800 rows × 4 columns</p>\n",
       "</div>"
      ],
      "text/plain": [
       "                        Name Type 1    Type 2  HP\n",
       "520                  Yanmega    Bug    Flying  86\n",
       "698                Volcarona    Bug      Fire  85\n",
       "231                Heracross    Bug  Fighting  80\n",
       "232  HeracrossMega Heracross    Bug  Fighting  80\n",
       "678                 Accelgor    Bug       NaN  80\n",
       "..                       ...    ...       ...  ..\n",
       "106                   Krabby  Water       NaN  30\n",
       "125                   Horsea  Water       NaN  30\n",
       "129                   Staryu  Water       NaN  30\n",
       "139                 Magikarp  Water       NaN  20\n",
       "381                   Feebas  Water       NaN  20\n",
       "\n",
       "[800 rows x 4 columns]"
      ]
     },
     "execution_count": 44,
     "metadata": {},
     "output_type": "execute_result"
    }
   ],
   "source": [
    "#sorting based on multiple values\n",
    "df.sort_values(['Type 1', 'HP'], ascending=[1,0])\n"
   ]
  },
  {
   "cell_type": "markdown",
   "id": "c0d69a6f-d51b-4633-b932-123f9ea7cd55",
   "metadata": {},
   "source": [
    "### making changes to data"
   ]
  },
  {
   "cell_type": "code",
   "execution_count": 46,
   "id": "11dfc0fa-2f4c-4354-a976-4c14ac207e26",
   "metadata": {},
   "outputs": [
    {
     "data": {
      "text/html": [
       "<div>\n",
       "<style scoped>\n",
       "    .dataframe tbody tr th:only-of-type {\n",
       "        vertical-align: middle;\n",
       "    }\n",
       "\n",
       "    .dataframe tbody tr th {\n",
       "        vertical-align: top;\n",
       "    }\n",
       "\n",
       "    .dataframe thead th {\n",
       "        text-align: right;\n",
       "    }\n",
       "</style>\n",
       "<table border=\"1\" class=\"dataframe\">\n",
       "  <thead>\n",
       "    <tr style=\"text-align: right;\">\n",
       "      <th></th>\n",
       "      <th>Name</th>\n",
       "      <th>Type 1</th>\n",
       "      <th>Type 2</th>\n",
       "      <th>HP</th>\n",
       "      <th>Attack</th>\n",
       "      <th>Defense</th>\n",
       "      <th>Sp. Atk</th>\n",
       "      <th>Sp. Def</th>\n",
       "      <th>Speed</th>\n",
       "      <th>Generation</th>\n",
       "      <th>Legendary</th>\n",
       "      <th>Total</th>\n",
       "    </tr>\n",
       "  </thead>\n",
       "  <tbody>\n",
       "    <tr>\n",
       "      <th>0</th>\n",
       "      <td>Bulbasaur</td>\n",
       "      <td>Grass</td>\n",
       "      <td>Poison</td>\n",
       "      <td>45</td>\n",
       "      <td>49</td>\n",
       "      <td>49</td>\n",
       "      <td>65</td>\n",
       "      <td>65</td>\n",
       "      <td>45</td>\n",
       "      <td>1</td>\n",
       "      <td>False</td>\n",
       "      <td>318</td>\n",
       "    </tr>\n",
       "    <tr>\n",
       "      <th>1</th>\n",
       "      <td>Ivysaur</td>\n",
       "      <td>Grass</td>\n",
       "      <td>Poison</td>\n",
       "      <td>60</td>\n",
       "      <td>62</td>\n",
       "      <td>63</td>\n",
       "      <td>80</td>\n",
       "      <td>80</td>\n",
       "      <td>60</td>\n",
       "      <td>1</td>\n",
       "      <td>False</td>\n",
       "      <td>405</td>\n",
       "    </tr>\n",
       "    <tr>\n",
       "      <th>2</th>\n",
       "      <td>Venusaur</td>\n",
       "      <td>Grass</td>\n",
       "      <td>Poison</td>\n",
       "      <td>80</td>\n",
       "      <td>82</td>\n",
       "      <td>83</td>\n",
       "      <td>100</td>\n",
       "      <td>100</td>\n",
       "      <td>80</td>\n",
       "      <td>1</td>\n",
       "      <td>False</td>\n",
       "      <td>525</td>\n",
       "    </tr>\n",
       "    <tr>\n",
       "      <th>3</th>\n",
       "      <td>VenusaurMega Venusaur</td>\n",
       "      <td>Grass</td>\n",
       "      <td>Poison</td>\n",
       "      <td>80</td>\n",
       "      <td>100</td>\n",
       "      <td>123</td>\n",
       "      <td>122</td>\n",
       "      <td>120</td>\n",
       "      <td>80</td>\n",
       "      <td>1</td>\n",
       "      <td>False</td>\n",
       "      <td>625</td>\n",
       "    </tr>\n",
       "    <tr>\n",
       "      <th>4</th>\n",
       "      <td>Charmander</td>\n",
       "      <td>Fire</td>\n",
       "      <td>NaN</td>\n",
       "      <td>39</td>\n",
       "      <td>52</td>\n",
       "      <td>43</td>\n",
       "      <td>60</td>\n",
       "      <td>50</td>\n",
       "      <td>65</td>\n",
       "      <td>1</td>\n",
       "      <td>False</td>\n",
       "      <td>309</td>\n",
       "    </tr>\n",
       "  </tbody>\n",
       "</table>\n",
       "</div>"
      ],
      "text/plain": [
       "                    Name Type 1  Type 2  HP  Attack  Defense  Sp. Atk  \\\n",
       "0              Bulbasaur  Grass  Poison  45      49       49       65   \n",
       "1                Ivysaur  Grass  Poison  60      62       63       80   \n",
       "2               Venusaur  Grass  Poison  80      82       83      100   \n",
       "3  VenusaurMega Venusaur  Grass  Poison  80     100      123      122   \n",
       "4             Charmander   Fire     NaN  39      52       43       60   \n",
       "\n",
       "   Sp. Def  Speed  Generation  Legendary  Total  \n",
       "0       65     45           1      False    318  \n",
       "1       80     60           1      False    405  \n",
       "2      100     80           1      False    525  \n",
       "3      120     80           1      False    625  \n",
       "4       50     65           1      False    309  "
      ]
     },
     "execution_count": 46,
     "metadata": {},
     "output_type": "execute_result"
    }
   ],
   "source": [
    "#adding columns\n",
    "df = pd.read_csv('data/pokemon_data.csv')\n",
    "df['Total']=df['HP']+df['Attack']+df['Defense']+df['Sp. Atk']+df['Sp. Def']+df['Speed']\n",
    "df.head()\n"
   ]
  },
  {
   "cell_type": "code",
   "execution_count": null,
   "id": "e6f04115-5f49-46a1-ad6e-ede60ebcbea4",
   "metadata": {},
   "outputs": [],
   "source": [
    "df.drop(columns =['Total'], inplace=True)\n",
    "df.head()"
   ]
  },
  {
   "cell_type": "code",
   "execution_count": null,
   "id": "fcc37d22-4e97-4916-b193-ad9bbee55501",
   "metadata": {},
   "outputs": [],
   "source": [
    "df['Total'] = df.iloc[:,4:10].sum(axis=1)\n",
    "df.head()"
   ]
  },
  {
   "cell_type": "code",
   "execution_count": null,
   "id": "312420c5-17fd-42d8-a373-ad4e7f592fab",
   "metadata": {},
   "outputs": [],
   "source": [
    "#lets bring total before hp\n",
    "cols=list(df.columns.values)\n",
    "df = df[cols[0:4] + [cols[-1]] + cols[4:12]]\n",
    "\n",
    "df.head()"
   ]
  },
  {
   "cell_type": "markdown",
   "id": "c6fc605b-a55a-4cba-9f59-729fb8fc9c0d",
   "metadata": {},
   "source": [
    "### Filtering"
   ]
  },
  {
   "cell_type": "code",
   "execution_count": null,
   "id": "0f475809-5881-42de-8b04-c0e660e02ee6",
   "metadata": {},
   "outputs": [],
   "source": [
    "df = pd.read_csv('data/pokemon_data.csv')\n",
    "df.loc[df['Type 1']=='Grass']\n"
   ]
  },
  {
   "cell_type": "code",
   "execution_count": null,
   "id": "09eb14f5-4573-41f3-9859-8f709dfed88d",
   "metadata": {},
   "outputs": [],
   "source": [
    "df['Type 1'].unique()"
   ]
  },
  {
   "cell_type": "code",
   "execution_count": null,
   "id": "7c438eb3-86a7-4195-8ca0-1efd9073a129",
   "metadata": {},
   "outputs": [],
   "source": [
    "#multiple condition on same columns\n",
    "df[(df['Type 1'] == 'Fire') |\n",
    "   (df['Type 1'] == 'Bug') |\n",
    "   (df['Type 1'] == 'Steel')]"
   ]
  },
  {
   "cell_type": "code",
   "execution_count": null,
   "id": "1293309e-1bab-4118-afe0-1129efc60d57",
   "metadata": {},
   "outputs": [],
   "source": [
    "# better way for multiple condition on same columns\n",
    "df[df['Type 1'].isin(['Fire', 'Bug', 'Steel'])]\n"
   ]
  },
  {
   "cell_type": "code",
   "execution_count": null,
   "id": "d5c3e35a-fc30-4f46-87fc-1984ae04db7e",
   "metadata": {},
   "outputs": [],
   "source": [
    "# filter a dataframe by largest catgeries (ex:-top 3)\n",
    "counts = df['Type 1'].value_counts()\n",
    "counts.nlargest(3)"
   ]
  },
  {
   "cell_type": "code",
   "execution_count": null,
   "id": "a0813c28-8652-4c4b-811d-a0c7bf6057c5",
   "metadata": {},
   "outputs": [],
   "source": [
    "counts.nlargest(3).index"
   ]
  },
  {
   "cell_type": "code",
   "execution_count": null,
   "id": "282a9fe3-b6f3-4d5d-87d7-27a485a3c7cd",
   "metadata": {},
   "outputs": [],
   "source": [
    "df[df['Type 1'].isin(counts.nlargest(3).index)]"
   ]
  },
  {
   "cell_type": "code",
   "execution_count": null,
   "id": "a3d6249a-d13d-4954-abb8-a91244657be1",
   "metadata": {},
   "outputs": [],
   "source": [
    "#multiple condition on different columns\n",
    "df.loc[(df['Type 1']=='Grass') & (df['Type 2']=='Poison')]\n"
   ]
  },
  {
   "cell_type": "code",
   "execution_count": null,
   "id": "61037b22-58af-49b0-80ab-8f2845091ca8",
   "metadata": {},
   "outputs": [],
   "source": [
    "df.loc[(df['Type 1']=='Grass')  | (df['Type 2']=='Poison')]\n"
   ]
  },
  {
   "cell_type": "code",
   "execution_count": null,
   "id": "409109ac-9510-4993-addc-0479f948a753",
   "metadata": {},
   "outputs": [],
   "source": [
    "#regex filtering\n",
    "\n",
    "df.loc[df['Name'].str.contains('Mega')]\n"
   ]
  },
  {
   "cell_type": "code",
   "execution_count": null,
   "id": "acc07eb2-ffb3-4465-951b-c9de6925a479",
   "metadata": {},
   "outputs": [],
   "source": [
    "#not mega\n",
    "df.loc[~df['Name'].str.contains('Mega')]"
   ]
  },
  {
   "cell_type": "code",
   "execution_count": null,
   "id": "3f1de773-040e-4222-a72b-f8787b358447",
   "metadata": {},
   "outputs": [],
   "source": [
    "import re\n",
    "\n",
    "\n",
    "df.loc[df['Type 1'].str.contains('Fire|Grass', regex=True)]"
   ]
  },
  {
   "cell_type": "code",
   "execution_count": null,
   "id": "b4f81d92-4fe9-4a90-afac-faa85feb899e",
   "metadata": {},
   "outputs": [],
   "source": [
    "df.loc[df['Type 1'].str.contains('Fire|Grass',flags=re.I ,regex=True)]"
   ]
  },
  {
   "cell_type": "code",
   "execution_count": null,
   "id": "76f12d7b-8b7e-4727-b9ae-3a1b7cb9fc03",
   "metadata": {},
   "outputs": [],
   "source": [
    "# starting with pi\n",
    "df.loc[df['Name'].str.contains('^pi[a-z]*',flags=re.I ,regex=True)]"
   ]
  },
  {
   "cell_type": "markdown",
   "id": "e4616c94-0e67-4697-8e5b-987c206b634e",
   "metadata": {},
   "source": [
    "### conditional changes"
   ]
  },
  {
   "cell_type": "code",
   "execution_count": null,
   "id": "8168870c-fca9-4681-91f8-5e9ee9d50b1c",
   "metadata": {},
   "outputs": [],
   "source": [
    "df.loc[df['Type 1']=='Fire', 'Type 1'] ='Flamer'\n",
    "df.head()"
   ]
  },
  {
   "cell_type": "code",
   "execution_count": null,
   "id": "6df22708-2c00-4f0e-ba15-f2c2f5c3a56f",
   "metadata": {},
   "outputs": [],
   "source": [
    "df.loc[df['Type 1']=='Fire', 'Legendary'] ='True'\n",
    "df"
   ]
  },
  {
   "cell_type": "code",
   "execution_count": null,
   "id": "64ec7686-3a60-4629-b0c6-b8f935f55894",
   "metadata": {},
   "outputs": [],
   "source": [
    "# update multiple columns based on conditions\n",
    "df.loc[df['Total']>500, ['Generation', 'Legendary']]=['Test 1', 'Test 2']\n",
    "df"
   ]
  },
  {
   "cell_type": "code",
   "execution_count": null,
   "id": "85290301-7311-4e57-919e-311aee3fc1a2",
   "metadata": {},
   "outputs": [],
   "source": [
    "# reset things and load data again\n",
    "\n",
    "df = pd.read_csv('data/pokemon_data.csv')\n"
   ]
  },
  {
   "cell_type": "markdown",
   "id": "afcc0b2a-caff-4488-82ee-8a94463d5a77",
   "metadata": {},
   "source": [
    "### Aggregate Statistics"
   ]
  },
  {
   "cell_type": "code",
   "execution_count": null,
   "id": "02972c7c-c216-4b82-8318-29f212600686",
   "metadata": {},
   "outputs": [],
   "source": [
    "df = pd.read_csv('data/pokemon_data.csv')\n",
    "df.groupby(['Type 1']).mean().sort_values('Defense', ascending=False)\n"
   ]
  },
  {
   "cell_type": "code",
   "execution_count": null,
   "id": "11d228c4-3d3c-4a4d-8222-ff102252e443",
   "metadata": {},
   "outputs": [],
   "source": [
    "df['count']=1\n",
    "df.groupby(['Type 1']).count()['count']\n"
   ]
  },
  {
   "cell_type": "code",
   "execution_count": null,
   "id": "5c828fc6-ab70-4add-ac69-b97694d02de1",
   "metadata": {},
   "outputs": [],
   "source": [
    "df.groupby(['Type 1', 'Type 2']).count()['count']\n"
   ]
  },
  {
   "cell_type": "code",
   "execution_count": null,
   "id": "35ed0146-a2b6-4158-889a-4721e1e40406",
   "metadata": {},
   "outputs": [],
   "source": [
    "## aggregate by multiple functions\n",
    "\n",
    "df.groupby('Type 1').Attack.agg(['sum','count']).reset_index()"
   ]
  },
  {
   "cell_type": "code",
   "execution_count": null,
   "id": "2cf9a2a4-4bdb-4d43-b441-7cd01619e269",
   "metadata": {},
   "outputs": [],
   "source": [
    "# combine the output of an aggregation with dataframe\n",
    "df = pd.read_csv('data/pokemon_data.csv')\n",
    "total_attack= df.groupby('Type 1').Attack.transform('sum')\n",
    "df['total_attack']= total_attack\n",
    "df"
   ]
  },
  {
   "cell_type": "code",
   "execution_count": null,
   "id": "1031de1a-cf3e-4323-80aa-aaf926b72811",
   "metadata": {},
   "outputs": [],
   "source": [
    "df.groupby(['Type 1', 'Type 2']).Generation.mean().unstack()"
   ]
  },
  {
   "cell_type": "markdown",
   "id": "3c5f0fed-adb6-4a5f-833d-b0544e7210c4",
   "metadata": {},
   "source": [
    "### Create pivot table"
   ]
  },
  {
   "cell_type": "code",
   "execution_count": null,
   "id": "92587a10-8382-48d2-b006-4300aefd3faa",
   "metadata": {},
   "outputs": [],
   "source": [
    "df.pivot_table(index='Type 1', columns='Type 2', values='Generation', aggfunc='mean')"
   ]
  },
  {
   "cell_type": "code",
   "execution_count": null,
   "id": "b2ac8473-b735-4426-844f-efc803989215",
   "metadata": {},
   "outputs": [],
   "source": [
    "# to add overall at end\n",
    "df.pivot_table(index='Type 1', columns='Type 2', values='Generation', aggfunc='mean', margins=True)"
   ]
  },
  {
   "cell_type": "code",
   "execution_count": null,
   "id": "229331e6-e011-4f65-b324-50ce2e759de4",
   "metadata": {},
   "outputs": [],
   "source": [
    "df.pivot_table(index='Type 1', columns='Type 2', values='Generation', aggfunc='count', margins=True)"
   ]
  },
  {
   "cell_type": "markdown",
   "id": "ef400fd3-1864-4efc-8615-d9f0df07af7c",
   "metadata": {},
   "source": [
    "### working with large dataset"
   ]
  },
  {
   "cell_type": "code",
   "execution_count": null,
   "id": "1f948d61-8fe0-4ce1-8c88-3e9f9891661d",
   "metadata": {},
   "outputs": [],
   "source": [
    "new_df = pd.DataFrame(columns=df.columns)\n",
    "for df in pd.read_csv('data/pokemon_data.csv', chunksize=5):\n",
    "    results = df.groupby(['Type 1']).count()\n",
    "    \n",
    "    new_df = pd.concat([new_df, results])\n",
    "    "
   ]
  },
  {
   "cell_type": "markdown",
   "id": "d8a824de-5ba0-469c-bdb3-855e1f8854ba",
   "metadata": {},
   "source": [
    "### Handling Missing values"
   ]
  },
  {
   "cell_type": "code",
   "execution_count": null,
   "id": "68f6390a-524d-4d12-a94d-df42ed50973b",
   "metadata": {},
   "outputs": [],
   "source": [
    "df = pd.read_csv('data/pokemon_data.csv')\n",
    "df.head()"
   ]
  },
  {
   "cell_type": "code",
   "execution_count": null,
   "id": "c6b1e184-9947-426d-8ecc-4e70983474c3",
   "metadata": {},
   "outputs": [],
   "source": [
    "df.isna().sum()"
   ]
  },
  {
   "cell_type": "code",
   "execution_count": null,
   "id": "492b9395-2920-4800-b349-3ce33aeaceae",
   "metadata": {},
   "outputs": [],
   "source": [
    "#  missing values in percent\n",
    "df.isna().mean()*100"
   ]
  },
  {
   "cell_type": "code",
   "execution_count": null,
   "id": "bda45d8e-944e-48b5-88a3-62275cda2b5e",
   "metadata": {},
   "outputs": [],
   "source": [
    "df.dropna(axis='columns').head()"
   ]
  },
  {
   "cell_type": "code",
   "execution_count": null,
   "id": "e7c7cbe2-577c-4398-a045-7394375c9e94",
   "metadata": {},
   "outputs": [],
   "source": [
    "# droping columns having more than 10% of missing values\n",
    "df.dropna(thresh=len(df)*0.9, axis='columns').head()"
   ]
  },
  {
   "cell_type": "markdown",
   "id": "6a847882-d6d5-4f8a-aa59-78e501e51827",
   "metadata": {},
   "source": [
    "### split a string into multiple columns"
   ]
  },
  {
   "cell_type": "code",
   "execution_count": null,
   "id": "77085176-951f-4d1e-8440-2e0765ddb890",
   "metadata": {},
   "outputs": [],
   "source": [
    "df = pd.DataFrame({'name':['Mark Taylor', 'Sachin Ramesh Tendulkar'],\n",
    "                   'location':['Los Angeles, CA', 'Washington, DC']})\n",
    "df"
   ]
  },
  {
   "cell_type": "code",
   "execution_count": null,
   "id": "85b96069-9697-48f8-9dac-28900e71ae62",
   "metadata": {},
   "outputs": [],
   "source": [
    "df.name.str.split(' ', expand=True)"
   ]
  },
  {
   "cell_type": "code",
   "execution_count": null,
   "id": "b0fc2fd1-45c3-4ae7-9a6c-5ce24dea89cd",
   "metadata": {},
   "outputs": [],
   "source": [
    "df[['first', 'middle', 'last']]=df.name.str.split(' ', expand=True)\n",
    "df"
   ]
  },
  {
   "cell_type": "code",
   "execution_count": null,
   "id": "8737336f-141a-4042-a50b-b48afe30f997",
   "metadata": {},
   "outputs": [],
   "source": [
    "df.location.str.split(',', expand=True)"
   ]
  },
  {
   "cell_type": "code",
   "execution_count": null,
   "id": "e7d5da93-552f-4706-a564-71c7d725fdb0",
   "metadata": {},
   "outputs": [],
   "source": [
    "df['city']= df.location.str.split(',', expand=True)[0]\n",
    "df"
   ]
  },
  {
   "cell_type": "markdown",
   "id": "6b554f57-6c36-4b59-b96e-a611371e8d34",
   "metadata": {},
   "source": [
    "### Expand a Series of lists into a DataFrame"
   ]
  },
  {
   "cell_type": "code",
   "execution_count": null,
   "id": "3b5e1a9d-3111-4493-9831-05afccf0daf0",
   "metadata": {},
   "outputs": [],
   "source": [
    "df = pd.DataFrame({'col_one':['a', 'b', 'c'], 'col_two':[[10,40], [20, 50], [30,60]]})\n",
    "df"
   ]
  },
  {
   "cell_type": "code",
   "execution_count": null,
   "id": "05d85751-fc18-4ad8-a95f-0ceb170790e0",
   "metadata": {},
   "outputs": [],
   "source": [
    "df_new = df.col_two.apply(pd.Series)\n",
    "df_new"
   ]
  },
  {
   "cell_type": "code",
   "execution_count": null,
   "id": "f3f0560e-7bec-4095-a3bf-19588abf9c94",
   "metadata": {},
   "outputs": [],
   "source": [
    "pd.concat([df, df_new], axis='columns')"
   ]
  },
  {
   "cell_type": "markdown",
   "id": "f479a882-cfc6-4e63-b0b0-e857523a8edc",
   "metadata": {},
   "source": [
    "### Convert continuos data to categorical data"
   ]
  },
  {
   "cell_type": "code",
   "execution_count": null,
   "id": "33d62e40-59bc-485c-94f3-139db51a7c02",
   "metadata": {},
   "outputs": [],
   "source": [
    "df=pd.read_csv('data/pokemon_data.csv')\n",
    "pd.cut(df.Attack, bins=[5,50, 100, 150,200],labels=['very low', 'low','medium', 'high']).head(10)"
   ]
  },
  {
   "cell_type": "code",
   "execution_count": null,
   "id": "a7db9f38-bb4f-4303-9b71-e11fe8e9f1f8",
   "metadata": {},
   "outputs": [],
   "source": []
  }
 ],
 "metadata": {
  "kernelspec": {
   "display_name": "datascience",
   "language": "python",
   "name": "datascience"
  },
  "language_info": {
   "codemirror_mode": {
    "name": "ipython",
    "version": 3
   },
   "file_extension": ".py",
   "mimetype": "text/x-python",
   "name": "python",
   "nbconvert_exporter": "python",
   "pygments_lexer": "ipython3",
   "version": "3.9.13"
  }
 },
 "nbformat": 4,
 "nbformat_minor": 5
}
