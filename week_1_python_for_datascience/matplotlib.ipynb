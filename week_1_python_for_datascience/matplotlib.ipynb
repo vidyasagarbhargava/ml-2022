{
 "cells": [
  {
   "cell_type": "code",
   "execution_count": null,
   "id": "175b2e23-76dd-4ffc-ab7e-40b40c797721",
   "metadata": {},
   "outputs": [],
   "source": []
  }
 ],
 "metadata": {
  "kernelspec": {
   "display_name": "datascience",
   "language": "python",
   "name": "datascience"
  },
  "language_info": {
   "codemirror_mode": {
    "name": "ipython",
    "version": 3
   },
   "file_extension": ".py",
   "mimetype": "text/x-python",
   "name": "python",
   "nbconvert_exporter": "python",
   "pygments_lexer": "ipython3",
   "version": "3.9.13"
  }
 },
 "nbformat": 4,
 "nbformat_minor": 5
}
