{
 "cells": [
  {
   "cell_type": "code",
   "execution_count": 25,
   "id": "f2239bc5-f2c6-4a18-bd62-9f2337997d31",
   "metadata": {},
   "outputs": [],
   "source": [
    "def prime_finder(n):\n",
    "    mylist=[]\n",
    "    for i in n:\n",
    "        if 0 in [x%i for x in mylist]:\n",
    "            print(\"yes\")"
   ]
  },
  {
   "cell_type": "code",
   "execution_count": 26,
   "id": "e3cf04e2-6790-47a3-a91a-b979e3b0a236",
   "metadata": {},
   "outputs": [
    {
     "ename": "TypeError",
     "evalue": "'int' object is not iterable",
     "output_type": "error",
     "traceback": [
      "\u001b[0;31m---------------------------------------------------------------------------\u001b[0m",
      "\u001b[0;31mTypeError\u001b[0m                                 Traceback (most recent call last)",
      "Cell \u001b[0;32mIn [26], line 1\u001b[0m\n\u001b[0;32m----> 1\u001b[0m \u001b[43mprime_finder\u001b[49m\u001b[43m(\u001b[49m\u001b[38;5;241;43m5\u001b[39;49m\u001b[43m)\u001b[49m\n",
      "Cell \u001b[0;32mIn [25], line 3\u001b[0m, in \u001b[0;36mprime_finder\u001b[0;34m(n)\u001b[0m\n\u001b[1;32m      1\u001b[0m \u001b[38;5;28;01mdef\u001b[39;00m \u001b[38;5;21mprime_finder\u001b[39m(n):\n\u001b[1;32m      2\u001b[0m     mylist\u001b[38;5;241m=\u001b[39m[]\n\u001b[0;32m----> 3\u001b[0m     \u001b[38;5;28;01mfor\u001b[39;00m i \u001b[38;5;129;01min\u001b[39;00m n:\n\u001b[1;32m      4\u001b[0m         \u001b[38;5;28;01mif\u001b[39;00m \u001b[38;5;241m0\u001b[39m \u001b[38;5;129;01min\u001b[39;00m [x\u001b[38;5;241m%\u001b[39mi \u001b[38;5;28;01mfor\u001b[39;00m x \u001b[38;5;129;01min\u001b[39;00m mylist]:\n\u001b[1;32m      5\u001b[0m             \u001b[38;5;28mprint\u001b[39m(\u001b[38;5;124m\"\u001b[39m\u001b[38;5;124myes\u001b[39m\u001b[38;5;124m\"\u001b[39m)\n",
      "\u001b[0;31mTypeError\u001b[0m: 'int' object is not iterable"
     ]
    }
   ],
   "source": [
    "prime_finder(5)"
   ]
  },
  {
   "cell_type": "code",
   "execution_count": null,
   "id": "c6ccb300-3ec9-440d-90f4-0dd0e031327e",
   "metadata": {},
   "outputs": [],
   "source": [
    "[2,3,4,5,6,7,8,9,10,11,12,13,14,15,16,17]\n",
    "\n",
    "\n",
    "[2]\n",
    "[2,3]\n",
    "[2,3,5,7]\n",
    "[2,3,5,7,11]\n",
    "[2,3,5,7,11,13,17]"
   ]
  },
  {
   "cell_type": "code",
   "execution_count": 24,
   "id": "900d39dd-d9d5-4997-a513-e59a580e2ab1",
   "metadata": {},
   "outputs": [
    {
     "name": "stdout",
     "output_type": "stream",
     "text": [
      "no\n"
     ]
    }
   ],
   "source": [
    "mylist = [2,3]\n",
    "\n",
    "if 0 in [x%2 for x in mylist] :\n",
    "    print(\"yes\")\n",
    "else:\n",
    "    print(\"no\")"
   ]
  },
  {
   "cell_type": "code",
   "execution_count": 36,
   "id": "d7baba25-387a-4639-8da6-2a50e1d6ba78",
   "metadata": {},
   "outputs": [
    {
     "data": {
      "text/plain": [
       "[2, 3, 5, 7, 11, 13]"
      ]
     },
     "execution_count": 36,
     "metadata": {},
     "output_type": "execute_result"
    }
   ],
   "source": [
    "def prime_number(n):\n",
    "    mylist =[]\n",
    "    for i in range(2,n):\n",
    "        for j in mylist:\n",
    "            if i % j==0:\n",
    "                break\n",
    "        else:\n",
    "            mylist.append(i)\n",
    "    \n",
    "    return mylist\n",
    "            \n",
    "\n",
    "\n",
    "\n",
    "prime_number(15) "
   ]
  },
  {
   "cell_type": "code",
   "execution_count": null,
   "id": "87287fd3-01fb-42dd-9f04-dc613d0ded5d",
   "metadata": {},
   "outputs": [],
   "source": []
  }
 ],
 "metadata": {
  "kernelspec": {
   "display_name": "datascience",
   "language": "python",
   "name": "datascience"
  },
  "language_info": {
   "codemirror_mode": {
    "name": "ipython",
    "version": 3
   },
   "file_extension": ".py",
   "mimetype": "text/x-python",
   "name": "python",
   "nbconvert_exporter": "python",
   "pygments_lexer": "ipython3",
   "version": "3.9.13"
  }
 },
 "nbformat": 4,
 "nbformat_minor": 5
}
