{
 "cells": [
  {
   "cell_type": "markdown",
   "metadata": {},
   "source": [
    "## Week 0 & 1 - Python Fundamentals\n",
    "1. Data structure \n",
    "2. Flow Control  \n",
    "3. Functions  \n",
    "4. OOPS concept  \n",
    "5. Advanced Python  [Generators Iterators and Decorators]\n",
    "6. Numpy   \n",
    "7. Pandas  \n",
    "8. Matplotlib  "
   ]
  },
  {
   "cell_type": "markdown",
   "metadata": {},
   "source": [
    "## Week 2- Maths for Machine Learning[In Progress]\n",
    "1. Matrices\n",
    "2. Differentiation   \n",
    "3. Calculus  "
   ]
  },
  {
   "cell_type": "markdown",
   "metadata": {},
   "source": [
    "## Week 3- Statistics for Machine Learning  [In Progress]\n",
    "1. Sampling Distributions and PMF CLT etc. \n",
    "2. Hypothesis Testing, Confidence Interval, Power\n",
    "3. Different types of tests   \n",
    "4. ANOVA   \n",
    "5. A/B Testing  "
   ]
  },
  {
   "cell_type": "markdown",
   "metadata": {},
   "source": [
    "----------------------------------------------------------------\n",
    "Approach to learn about any algorithm is  like :-\n",
    "\n",
    "* Step1 - Learn basics of algorithms in easy language(from blog or videos)\n",
    "* Step2 - Refer book and learn about theory in details and maths\n",
    "* Step3 - Write Algorithm from scratch \n",
    "* Step4 - Use `scikitlearn` library for creating a pipeline (with cross validation) for algorithm (using example toy dataset)\n",
    "* Step5 - learn hyperparameter tuning for algorithm with different search techniques (grid, random and bayesian etc.)\n",
    "* Step6 - learn about pros and cons of algorithms\n"
   ]
  }
 ],
 "metadata": {
  "kernelspec": {
   "display_name": "Python 3 (ipykernel)",
   "language": "python",
   "name": "python3"
  },
  "language_info": {
   "codemirror_mode": {
    "name": "ipython",
    "version": 3
   },
   "file_extension": ".py",
   "mimetype": "text/x-python",
   "name": "python",
   "nbconvert_exporter": "python",
   "pygments_lexer": "ipython3",
   "version": "3.8.13"
  },
  "vscode": {
   "interpreter": {
    "hash": "cd9a4283349c703bc36b99dbd270cccad3a9bb01ea9d027e376b4fc3c4f425a2"
   }
  }
 },
 "nbformat": 4,
 "nbformat_minor": 4
}
