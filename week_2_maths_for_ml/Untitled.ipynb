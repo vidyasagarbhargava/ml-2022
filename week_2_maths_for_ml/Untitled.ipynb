{
 "cells": [
  {
   "cell_type": "markdown",
   "id": "7ce2099a-b2d9-4415-bdd3-3b30397badc6",
   "metadata": {},
   "source": [
    "## Preliminary Concepts"
   ]
  },
  {
   "cell_type": "markdown",
   "id": "6f37ddee-7b7f-4593-a910-d9db4311dc2d",
   "metadata": {},
   "source": [
    "### Sets  \n",
    "\n",
    "Sets are the one of most fundamental concepts in mathematics."
   ]
  },
  {
   "cell_type": "code",
   "execution_count": 4,
   "id": "8ddd1a33-f0c1-4aef-a02a-712ead1cc5fc",
   "metadata": {},
   "outputs": [],
   "source": [
    "name = {'sagar':['age', 'name', 'university'], 'monu':['yes', 'no']}"
   ]
  },
  {
   "cell_type": "code",
   "execution_count": 5,
   "id": "7e46b530-fe6d-4f70-8752-7b644f680f5b",
   "metadata": {},
   "outputs": [
    {
     "data": {
      "text/plain": [
       "dict"
      ]
     },
     "execution_count": 5,
     "metadata": {},
     "output_type": "execute_result"
    }
   ],
   "source": [
    "type(name)"
   ]
  },
  {
   "cell_type": "code",
   "execution_count": 6,
   "id": "5228637c-d737-4faf-aab1-35ea80be31dc",
   "metadata": {},
   "outputs": [
    {
     "name": "stdout",
     "output_type": "stream",
     "text": [
      "sagar ['age', 'name', 'university']\n",
      "monu ['yes', 'no']\n"
     ]
    }
   ],
   "source": [
    "for k, v in name.items():\n",
    "    print(k,v)"
   ]
  },
  {
   "cell_type": "code",
   "execution_count": 19,
   "id": "0fea377a-2ca3-471a-b0f8-0d2ff1360aa8",
   "metadata": {},
   "outputs": [
    {
     "name": "stdout",
     "output_type": "stream",
     "text": [
      "sagar[0] as 'age'\n",
      "sagar[1] as 'name'\n",
      "sagar[2] as 'university'\n",
      "monu[0] as 'yes'\n",
      "monu[1] as 'no'\n"
     ]
    }
   ],
   "source": [
    "for k, v in name.items():\n",
    "    for i in v:\n",
    "        print(f\"{k}[{v.index(i)}] as '{i}'\")"
   ]
  },
  {
   "cell_type": "code",
   "execution_count": null,
   "id": "bcca73c6-3803-43f5-a088-2e37b344d11e",
   "metadata": {},
   "outputs": [],
   "source": []
  }
 ],
 "metadata": {
  "kernelspec": {
   "display_name": "datascience",
   "language": "python",
   "name": "datascience"
  },
  "language_info": {
   "codemirror_mode": {
    "name": "ipython",
    "version": 3
   },
   "file_extension": ".py",
   "mimetype": "text/x-python",
   "name": "python",
   "nbconvert_exporter": "python",
   "pygments_lexer": "ipython3",
   "version": "3.9.13"
  }
 },
 "nbformat": 4,
 "nbformat_minor": 5
}
