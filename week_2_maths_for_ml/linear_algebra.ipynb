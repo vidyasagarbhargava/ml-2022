{
 "cells": [
  {
   "cell_type": "markdown",
   "metadata": {},
   "source": [
    "## Linear Algebra for Machine Learning"
   ]
  },
  {
   "cell_type": "markdown",
   "metadata": {},
   "source": [
    "The study of linear algebra involves several types of mathematical objects.  \n",
    "1. Scalars   \n",
    "2. Vectors \n",
    "3. Matrix  \n",
    "4. Tensors"
   ]
  },
  {
   "cell_type": "markdown",
   "metadata": {},
   "source": [
    "#### Scalras"
   ]
  },
  {
   "cell_type": "markdown",
   "metadata": {},
   "source": [
    "#### Vectors\n",
    "\n",
    "A vector is a 1-dimensional array of numbers. It has both magnitude and direction.  "
   ]
  },
  {
   "cell_type": "code",
   "execution_count": 10,
   "metadata": {},
   "outputs": [
    {
     "data": {
      "text/plain": [
       "array([-2. ,  0.4,  2. ])"
      ]
     },
     "execution_count": 10,
     "metadata": {},
     "output_type": "execute_result"
    }
   ],
   "source": [
    "import numpy as np\n",
    "\n",
    "x = np.array([-2,0.4,2])\n",
    "x"
   ]
  },
  {
   "cell_type": "markdown",
   "metadata": {},
   "source": [
    "> A vector with n entries is an n-dimensional vector space.  "
   ]
  },
  {
   "cell_type": "markdown",
   "metadata": {
    "tags": []
   },
   "source": [
    "#### A feature vector is vector whose entries represent the features of some object."
   ]
  },
  {
   "cell_type": "markdown",
   "metadata": {},
   "source": [
    "#### Matirces \n",
    "\n",
    "A matrix is a 2-D array of numbers.  \n",
    "\n",
    "> Python doesn't have a built-in type for matrices. However we can create using list of list. OR using `numpy` array.\n",
    "\n",
    "For example"
   ]
  },
  {
   "cell_type": "code",
   "execution_count": 6,
   "metadata": {},
   "outputs": [
    {
     "data": {
      "text/plain": [
       "[[1, 4, 6], [-5, 7, 2]]"
      ]
     },
     "execution_count": 6,
     "metadata": {},
     "output_type": "execute_result"
    }
   ],
   "source": [
    "A = [[1,4,6],\n",
    "    [-5,7,2]]\n",
    "A"
   ]
  },
  {
   "cell_type": "code",
   "execution_count": 7,
   "metadata": {},
   "outputs": [
    {
     "data": {
      "text/plain": [
       "2"
      ]
     },
     "execution_count": 7,
     "metadata": {},
     "output_type": "execute_result"
    }
   ],
   "source": [
    "A[1][2]"
   ]
  },
  {
   "cell_type": "code",
   "execution_count": 13,
   "metadata": {},
   "outputs": [
    {
     "name": "stdout",
     "output_type": "stream",
     "text": [
      "[[ 2  4]\n",
      " [ 5 -6]]\n"
     ]
    }
   ],
   "source": [
    "A = np.array([[2, 4], [5, -6]])\n",
    "print(A)"
   ]
  },
  {
   "cell_type": "code",
   "execution_count": 15,
   "metadata": {},
   "outputs": [
    {
     "data": {
      "text/plain": [
       "(2, 2)"
      ]
     },
     "execution_count": 15,
     "metadata": {},
     "output_type": "execute_result"
    }
   ],
   "source": [
    "A.shape"
   ]
  },
  {
   "cell_type": "markdown",
   "metadata": {},
   "source": [
    "#### Tensors  \n",
    "\n",
    "Array with more than two axes.\n"
   ]
  },
  {
   "cell_type": "code",
   "execution_count": 16,
   "metadata": {},
   "outputs": [
    {
     "name": "stdout",
     "output_type": "stream",
     "text": [
      "[[[ 1  2  3]\n",
      "  [ 4  5  6]\n",
      "  [ 7  8  9]]\n",
      "\n",
      " [[10 11 12]\n",
      "  [13 14 15]\n",
      "  [16 17 18]]\n",
      "\n",
      " [[19 20 21]\n",
      "  [22 23 24]\n",
      "  [25 26 27]]]\n"
     ]
    }
   ],
   "source": [
    "A = np.array([[[1,2,3],[4,5,6],[7,8,9]],[[10,11,12],[13,14,15],[16,17,18]],[[19,20,21],[22,23,24],[25,26,27]]])\n",
    "print(A)"
   ]
  },
  {
   "cell_type": "code",
   "execution_count": 17,
   "metadata": {},
   "outputs": [
    {
     "data": {
      "text/plain": [
       "(3, 3, 3)"
      ]
     },
     "execution_count": 17,
     "metadata": {},
     "output_type": "execute_result"
    }
   ],
   "source": [
    "A.shape"
   ]
  },
  {
   "cell_type": "markdown",
   "metadata": {},
   "source": [
    "### Operations\n"
   ]
  },
  {
   "cell_type": "markdown",
   "metadata": {},
   "source": [
    "#### Transpose of matrix  \n",
    "\n",
    "Transpose of matrix is the mirror image of the matrix across the diagonal line, called the **main diagonal**.\n"
   ]
  },
  {
   "cell_type": "code",
   "execution_count": 21,
   "metadata": {},
   "outputs": [
    {
     "name": "stdout",
     "output_type": "stream",
     "text": [
      "[[ 2  4  4]\n",
      " [ 5 -6  6]]\n"
     ]
    }
   ],
   "source": [
    "A = np.array([[2, 4, 4], [5, -6, 6]])\n",
    "print(A)"
   ]
  },
  {
   "cell_type": "code",
   "execution_count": 22,
   "metadata": {},
   "outputs": [
    {
     "data": {
      "text/plain": [
       "array([[ 2,  5],\n",
       "       [ 4, -6],\n",
       "       [ 4,  6]])"
      ]
     },
     "execution_count": 22,
     "metadata": {},
     "output_type": "execute_result"
    }
   ],
   "source": [
    "A.T"
   ]
  },
  {
   "cell_type": "markdown",
   "metadata": {},
   "source": [
    "Transpose of a vector \n",
    "$$ \n",
    "x = [x1, x2, x2]^T\n",
    "$$ "
   ]
  },
  {
   "cell_type": "code",
   "execution_count": null,
   "metadata": {},
   "outputs": [],
   "source": []
  },
  {
   "cell_type": "markdown",
   "metadata": {},
   "source": [
    "#### Addition of Matrix"
   ]
  },
  {
   "cell_type": "code",
   "execution_count": 24,
   "metadata": {},
   "outputs": [
    {
     "name": "stdout",
     "output_type": "stream",
     "text": [
      "[[ 2  4]\n",
      " [ 5 -6]]\n",
      "[[ 9 -2]\n",
      " [ 3  6]]\n"
     ]
    }
   ],
   "source": [
    "\n",
    "A = np.array([[2, 4], [5, -6]])\n",
    "\n",
    "B = np.array([[9, -2], [3,6]])\n",
    "\n",
    "print(A)\n",
    "print(B)"
   ]
  },
  {
   "cell_type": "code",
   "execution_count": 25,
   "metadata": {},
   "outputs": [
    {
     "name": "stdout",
     "output_type": "stream",
     "text": [
      "[[11  2]\n",
      " [ 8  0]]\n"
     ]
    }
   ],
   "source": [
    "C = A + B\n",
    "print(C)"
   ]
  },
  {
   "cell_type": "markdown",
   "metadata": {},
   "source": [
    "#### Multiplying Matrices and Vectors\n",
    "\n",
    "The multiplication of two matrices ***A*** and ***B*** is a third matrix ***C***.\n",
    "\n",
    "> For multiplication ***A*** should have same number of columns as  rows of matrix ***B***.\n",
    "\n",
    "$$\n",
    "C = AB\n",
    "$$"
   ]
  },
  {
   "cell_type": "code",
   "execution_count": 26,
   "metadata": {},
   "outputs": [
    {
     "data": {
      "text/plain": [
       "array([[ 2,  4],\n",
       "       [ 5, -6]])"
      ]
     },
     "execution_count": 26,
     "metadata": {},
     "output_type": "execute_result"
    }
   ],
   "source": [
    "A"
   ]
  },
  {
   "cell_type": "code",
   "execution_count": 27,
   "metadata": {},
   "outputs": [
    {
     "data": {
      "text/plain": [
       "array([[ 9, -2],\n",
       "       [ 3,  6]])"
      ]
     },
     "execution_count": 27,
     "metadata": {},
     "output_type": "execute_result"
    }
   ],
   "source": [
    "B"
   ]
  },
  {
   "cell_type": "code",
   "execution_count": 29,
   "metadata": {},
   "outputs": [
    {
     "data": {
      "text/plain": [
       "array([[ 18,  -8],\n",
       "       [ 15, -36]])"
      ]
     },
     "execution_count": 29,
     "metadata": {},
     "output_type": "execute_result"
    }
   ],
   "source": [
    "# element wise product  or Hardamard product \n",
    "A*B"
   ]
  },
  {
   "cell_type": "markdown",
   "metadata": {},
   "source": [
    "#### Dot product of vectors\n",
    "\n",
    "$$\n",
    "dotproduct(x,y) = x^Ty\n",
    "$$"
   ]
  },
  {
   "cell_type": "markdown",
   "metadata": {},
   "source": [
    "> Dot product is nice way to measure similarity between vectors. (How?)"
   ]
  },
  {
   "cell_type": "code",
   "execution_count": 37,
   "metadata": {},
   "outputs": [
    {
     "data": {
      "text/plain": [
       "31"
      ]
     },
     "execution_count": 37,
     "metadata": {},
     "output_type": "execute_result"
    }
   ],
   "source": [
    "#Dot product\n",
    "\n",
    "a = np.array([3,5])\n",
    "b = np.array([7,2])\n",
    "\n",
    "\n",
    "np.sum((a.T)*b)"
   ]
  },
  {
   "cell_type": "code",
   "execution_count": 38,
   "metadata": {},
   "outputs": [
    {
     "data": {
      "text/plain": [
       "31"
      ]
     },
     "execution_count": 38,
     "metadata": {},
     "output_type": "execute_result"
    }
   ],
   "source": [
    "#using @ notation\n",
    "a@b"
   ]
  },
  {
   "cell_type": "markdown",
   "metadata": {},
   "source": [
    "#### Intuition of dot product\n",
    "The dot product represent the length of the shadow of one vector along another."
   ]
  },
  {
   "cell_type": "markdown",
   "metadata": {},
   "source": [
    "Matrix mulitplication ***C=AB***  as the dot product between row i of A and column j of B."
   ]
  },
  {
   "cell_type": "code",
   "execution_count": 42,
   "metadata": {},
   "outputs": [],
   "source": [
    "A = np.array([[1,3],\n",
    "              [2,4]])\n",
    "\n",
    "B = np.array([[4,2],\n",
    "              [6, 3]])"
   ]
  },
  {
   "cell_type": "code",
   "execution_count": 43,
   "metadata": {},
   "outputs": [
    {
     "data": {
      "text/plain": [
       "array([[22, 11],\n",
       "       [32, 16]])"
      ]
     },
     "execution_count": 43,
     "metadata": {},
     "output_type": "execute_result"
    }
   ],
   "source": [
    "np.dot(A,B)"
   ]
  },
  {
   "cell_type": "code",
   "execution_count": 44,
   "metadata": {},
   "outputs": [
    {
     "data": {
      "text/plain": [
       "array([[22, 11],\n",
       "       [32, 16]])"
      ]
     },
     "execution_count": 44,
     "metadata": {},
     "output_type": "execute_result"
    }
   ],
   "source": [
    "A@B"
   ]
  },
  {
   "cell_type": "markdown",
   "metadata": {},
   "source": [
    "#### properties of Matrix product operations\n",
    "\n",
    "* Distributive Property\n",
    "$$\n",
    "A(B+C) = AB + BC\n",
    "$$\n",
    "\n",
    "* Associative Property\n",
    "\n",
    "$$\n",
    "A(BC) = (AB)C\n",
    "$$\n",
    "\n",
    "\n",
    "> Matrix multiplicatio is not  commutative. Hence ***AB = BA*** does not alwayshold.\n",
    "\n",
    "* However dot product of two vectors is commutative.\n",
    "\n",
    "$$\n",
    "x^Ty = y^Tx\n",
    "$$\n",
    "\n",
    "The transpose of matrix has simple form.\n",
    "\n",
    "$$\n",
    "(AB)^T = B^TA^T\n",
    "$$\n",
    "\n",
    "\n"
   ]
  },
  {
   "cell_type": "markdown",
   "metadata": {},
   "source": [
    "#### System of linear equation\n",
    "\n",
    "$$\n",
    "Ax = b\n",
    "$$\n",
    "\n",
    "it simply \n",
    "\n",
    "$$\n",
    "A_1,_1x_1 + A_1,_2x_2+...+A_1,_nx_n = b_1  \n",
    "$$\n",
    "$$\n",
    "A_2,_1x_1 + A_2,_2x_2+...+A_2,_nx_n = b_2  \n",
    "$$\n",
    "$$\n",
    "A_m,_1x_1 + A_m,_2x_2+...+A_m,_nx_n = b_m \n",
    "$$\n",
    "\n"
   ]
  },
  {
   "cell_type": "markdown",
   "metadata": {},
   "source": [
    "#### Identity and Inverse Matrices\n",
    "\n",
    "Linear algebra provides us a very powerful tool which is called as matrix inversion. This help us solving equation ***Ax = B*** analytically.  \n",
    "\n",
    "To describe matrix inversion we need to understand **Identity matrix** first.\n",
    "\n",
    "> An identity matrix is a matrix that does not change any vector when we multiply that vector by that matrix.  \n",
    "\n",
    "\n",
    "$$\n",
    "I_nx = x\n",
    "$$"
   ]
  },
  {
   "cell_type": "code",
   "execution_count": 56,
   "metadata": {},
   "outputs": [
    {
     "data": {
      "text/plain": [
       "array([[1., 0., 0.],\n",
       "       [0., 1., 0.],\n",
       "       [0., 0., 1.]])"
      ]
     },
     "execution_count": 56,
     "metadata": {},
     "output_type": "execute_result"
    }
   ],
   "source": [
    "# identity matrix\n",
    "A = np.identity(3)\n",
    "A"
   ]
  },
  {
   "cell_type": "code",
   "execution_count": 58,
   "metadata": {},
   "outputs": [
    {
     "data": {
      "text/plain": [
       "array([[-4.49665423e-02,  1.44375889e+00, -7.82236379e-02],\n",
       "       [-9.10560399e-01,  1.39720359e+00,  5.80557087e-01],\n",
       "       [-2.36578505e-04,  1.19298659e-01,  9.04411651e-01]])"
      ]
     },
     "execution_count": 58,
     "metadata": {},
     "output_type": "execute_result"
    }
   ],
   "source": [
    "B = np.random.randn(3,3)\n",
    "B"
   ]
  },
  {
   "cell_type": "code",
   "execution_count": 61,
   "metadata": {},
   "outputs": [
    {
     "data": {
      "text/plain": [
       "array([[-4.49665423e-02,  1.44375889e+00, -7.82236379e-02],\n",
       "       [-9.10560399e-01,  1.39720359e+00,  5.80557087e-01],\n",
       "       [-2.36578505e-04,  1.19298659e-01,  9.04411651e-01]])"
      ]
     },
     "execution_count": 61,
     "metadata": {},
     "output_type": "execute_result"
    }
   ],
   "source": [
    "#matrix multiplication\n",
    "A@B"
   ]
  },
  {
   "cell_type": "markdown",
   "metadata": {},
   "source": [
    "Matrix Inverse of ***A*** is denoted as ***A_-1*** and it is defined as :  \n",
    "\n",
    "$$\n",
    "A^{-1}A = I_n\n",
    "$$\n",
    "\n",
    "\n",
    "Now we can solve the System of linear equation as :  \n",
    "$$\n",
    "Ax = B\n",
    "$$\n",
    "$$\n",
    "A^{-1}Ax = A^{-1}b\n",
    "$$\n",
    "$$\n",
    "I_nx = A^{-1}b\n",
    "$$\n",
    "$$\n",
    "x = A^{-1}b\n",
    "$$\n",
    "\n",
    "This process depends on its being possible to find $A^{-1}$"
   ]
  },
  {
   "cell_type": "code",
   "execution_count": null,
   "metadata": {},
   "outputs": [],
   "source": []
  }
 ],
 "metadata": {
  "kernelspec": {
   "display_name": "datascience",
   "language": "python",
   "name": "datascience"
  },
  "language_info": {
   "codemirror_mode": {
    "name": "ipython",
    "version": 3
   },
   "file_extension": ".py",
   "mimetype": "text/x-python",
   "name": "python",
   "nbconvert_exporter": "python",
   "pygments_lexer": "ipython3",
   "version": "3.9.13"
  }
 },
 "nbformat": 4,
 "nbformat_minor": 4
}
